{
 "cells": [
  {
   "attachments": {},
   "cell_type": "markdown",
   "metadata": {},
   "source": [
    "# XGBoost to predict the predicted shift in mRS discharge disability due to use of thrombolysis\n",
    "#### Using 7 features to train a XGBoost regression model \n",
    "(code based on notebook 050)\n",
    "\n",
    "Use the same input features as those used in the disability discharge outcome model, predict the predicted mRS shift due to thrombolysis treatment. \n",
    "In next notebook (220) fit SHAP values to the mRS shift model.\n",
    "\n",
    "### Plain English summary\n",
    "\n",
    "Assess the performance of a model trained on the selected 7 features, as informed from the feature selection process. Use the first k-fold split.\n",
    "\n",
    "7 features:\n",
    "1. prior_disability\n",
    "1. stroke_severity\n",
    "1. stroke_team\n",
    "1. age\n",
    "1. onset_to_thrombolysis_time\n",
    "1. any_afib_diagnosis\n",
    "1. precise_onset_known\n",
    "\n",
    "### Model and data\n",
    "Model: XGBoost classifier.\\\n",
    "Patient population: Those get IVT in the dataset\\\n",
    "Feature data: 7 selected features\\\n",
    "Target feature: Predicted mRS shift in discharge disability due to treatment (for those patients that got thrombolysis in the dataset)\\\n",
    "Data: The first kfold\\\n",
    "\n",
    "### Aims\n",
    "What's the performance of a model using the 7 selected features?\n",
    "\n",
    "##### Section 1: Accuracy of model (and consistency across k-folds)\n",
    "Look at accuracy in terms of:\n",
    "1. Accuracy (i. % correct, ii. % within one correct)\n",
    "1. Confusion matrix\n",
    "1. ROCAUC\n",
    "##### Section 2: Calibration and assessment of accuracy when model has high confidence\n",
    "##### Section 3: Reliability\n",
    "\n",
    "### Observations\n"
   ]
  },
  {
   "attachments": {},
   "cell_type": "markdown",
   "metadata": {},
   "source": [
    "## Import libraries"
   ]
  },
  {
   "cell_type": "code",
   "execution_count": 20,
   "metadata": {},
   "outputs": [],
   "source": [
    "# Turn warnings off to keep notebook tidy\n",
    "import warnings\n",
    "warnings.filterwarnings(\"ignore\")\n",
    "\n",
    "import os\n",
    "import matplotlib.pyplot as plt\n",
    "from matplotlib.lines import Line2D\n",
    "import numpy as np\n",
    "import pandas as pd\n",
    "\n",
    "import scipy\n",
    "\n",
    "from xgboost import XGBRegressor#Classifier\n",
    "from sklearn.metrics import auc\n",
    "from sklearn.metrics import roc_curve\n",
    "\n",
    "import json\n",
    "\n",
    "from dataclasses import dataclass\n",
    "\n",
    "import seaborn as sns\n",
    "\n",
    "from sklearn.metrics import roc_auc_score\n",
    "\n",
    "from sklearn.metrics import confusion_matrix\n",
    "from sklearn.metrics import mean_squared_error\n",
    "\n",
    "import pickle\n",
    "import shap\n",
    "\n",
    "from os.path import exists\n",
    "\n",
    "import math\n",
    "\n",
    "import importlib\n",
    "\n",
    "from sklearn import metrics\n",
    "from sklearn.linear_model import LinearRegression\n",
    "# Import local package\n",
    "#from utils import waterfall\n",
    "## Force package to be reloaded\n",
    "#importlib.reload(waterfall);\n",
    "\n",
    "# Need for cm subplots?\n",
    "#from mpl_toolkits.axes_grid1 import make_axes_locatable\n",
    "#from matplotlib.colors import LogNorm\n",
    "#from matplotlib.ticker import MultipleLocator\n",
    "\n",
    "import time\n",
    "\n",
    "\n",
    "# sklearn for pre-processing\n",
    "from sklearn.model_selection import StratifiedKFold"
   ]
  },
  {
   "attachments": {},
   "cell_type": "markdown",
   "metadata": {},
   "source": [
    "Report the time duration to run notebook"
   ]
  },
  {
   "cell_type": "code",
   "execution_count": 21,
   "metadata": {},
   "outputs": [],
   "source": [
    "start_time = time.time()"
   ]
  },
  {
   "cell_type": "markdown",
   "metadata": {},
   "source": [
    "Set to use only the first kfold"
   ]
  },
  {
   "cell_type": "code",
   "execution_count": 22,
   "metadata": {},
   "outputs": [],
   "source": [
    "k = 0"
   ]
  },
  {
   "cell_type": "markdown",
   "metadata": {},
   "source": [
    "Select the features for the model"
   ]
  },
  {
   "cell_type": "code",
   "execution_count": 23,
   "metadata": {},
   "outputs": [],
   "source": [
    "selected_features_outcome = [\"prior_disability\", \"stroke_severity\", \"stroke_team\", \n",
    "                     \"age\", \"onset_to_thrombolysis_time\", \"any_afib_diagnosis\", \n",
    "                     \"precise_onset_known\"]\n",
    "target_feature = 'predicted_mrs_shift_due_to_thrombolysis'\n",
    "n_features = len(selected_features_outcome)\n",
    "selected_features = selected_features_outcome + [target_feature]"
   ]
  },
  {
   "attachments": {},
   "cell_type": "markdown",
   "metadata": {},
   "source": [
    "## Set up paths and filenames\n",
    "\n",
    "Use os.path.join() to create filenames. So define folders without trailing forward slash, and include all characters in file names."
   ]
  },
  {
   "cell_type": "code",
   "execution_count": 24,
   "metadata": {},
   "outputs": [],
   "source": [
    "@dataclass(frozen=True)\n",
    "class Paths:\n",
    "    '''Singleton object for storing paths to data and database.'''\n",
    "    image_save_path: str = './saved_images'\n",
    "    data_save_path: str = './saved_data'\n",
    "    model_save_path: str = './saved_models'\n",
    "    data_read_path: str = '../data_processing/output/kfold_5fold'\n",
    "    model_text: str = f'xgb_7_features_1fold_mrs_shift'\n",
    "    notebook: str = '220'\n",
    "\n",
    "paths = Paths()"
   ]
  },
  {
   "cell_type": "markdown",
   "metadata": {},
   "source": [
    "Create output folders if needed"
   ]
  },
  {
   "cell_type": "code",
   "execution_count": 25,
   "metadata": {},
   "outputs": [],
   "source": [
    "path = paths.image_save_path\n",
    "if not os.path.exists(path):\n",
    "    os.makedirs(path)\n",
    "        \n",
    "path = paths.model_save_path\n",
    "if not os.path.exists(path):\n",
    "    os.makedirs(path)\n",
    "\n",
    "path = paths.data_save_path\n",
    "if not os.path.exists(path):\n",
    "    os.makedirs(path)"
   ]
  },
  {
   "cell_type": "markdown",
   "metadata": {},
   "source": [
    "## Import data\n",
    "\n",
    "Data has previously been split into 5 stratified k-fold splits.\n",
    "\n",
    "Import data"
   ]
  },
  {
   "cell_type": "code",
   "execution_count": 26,
   "metadata": {},
   "outputs": [],
   "source": [
    "# Read in training set & store\n",
    "filename = os.path.join(paths.data_read_path, \n",
    "                        ('03_train_' + str(k) + '.csv'))\n",
    "train = pd.read_csv(filename)\n",
    "\n",
    "filename = os.path.join(paths.data_read_path, \n",
    "                        ('03_test_' + str(k) + '.csv'))\n",
    "test = pd.read_csv(filename)"
   ]
  },
  {
   "cell_type": "markdown",
   "metadata": {},
   "source": [
    "For this analysis, as we are predicting the mRS shift from a patient having thrombolysis, let's only use patients that use thrombolysis, and train a model on their mRS shift due to having treatment (don't give treatment to patients that didn't get treatment in the dataset, those patients could have characteristics that are not in the thrombolysable dataset)."
   ]
  },
  {
   "cell_type": "code",
   "execution_count": 27,
   "metadata": {},
   "outputs": [],
   "source": [
    "train = train[train[\"onset_to_thrombolysis_time\"] > -100]\n",
    "test = test[test[\"onset_to_thrombolysis_time\"] > -100]"
   ]
  },
  {
   "cell_type": "code",
   "execution_count": 28,
   "metadata": {},
   "outputs": [],
   "source": [
    "train_stroke_team = train[\"stroke_team\"]\n",
    "test_stroke_team = test[\"stroke_team\"]"
   ]
  },
  {
   "cell_type": "markdown",
   "metadata": {},
   "source": [
    "Calculate the median scan to needle time for each hosptial"
   ]
  },
  {
   "cell_type": "code",
   "execution_count": 29,
   "metadata": {},
   "outputs": [
    {
     "data": {
      "text/plain": [
       "stroke_team\n",
       "Addenbrooke's Hospital          20.0\n",
       "Basildon University Hospital    34.0\n",
       "Blackpool Victoria Hospital     37.0\n",
       "Bradford and Airedale SU        47.0\n",
       "Bronglais Hospital              39.5\n",
       "                                ... \n",
       "Worthing Hospital               38.0\n",
       "Wycombe General Hospital        29.0\n",
       "Yeovil District Hospital        37.0\n",
       "York Hospital                   29.0\n",
       "Ysbyty Gwynedd                  44.0\n",
       "Name: scan_to_thrombolysis_time, Length: 118, dtype: float64"
      ]
     },
     "execution_count": 29,
     "metadata": {},
     "output_type": "execute_result"
    }
   ],
   "source": [
    "all_data = pd.concat([train, test])\n",
    "\n",
    "# median scan to treatment for the treated patients (per hosptial)\n",
    "mask_treatment = all_data[\"onset_to_thrombolysis_time\"] > -100\n",
    "median_scan_to_needle_time = (\n",
    "    all_data[mask_treatment].groupby([\"stroke_team\"])[\"scan_to_thrombolysis_time\"].median())\n",
    "\n",
    "median_scan_to_needle_time"
   ]
  },
  {
   "cell_type": "markdown",
   "metadata": {},
   "source": []
  },
  {
   "cell_type": "code",
   "execution_count": 30,
   "metadata": {},
   "outputs": [],
   "source": [
    "# For those patients not recieve treatment in the dataset, use the median scan to treatment of their attended hosptial\n",
    "train_onset_to_scan_time = train[\"onset_to_arrival_time\"] + train[\"arrival_to_scan_time\"]\n",
    "test_onset_to_scan_time = test[\"onset_to_arrival_time\"] + test[\"arrival_to_scan_time\"]"
   ]
  },
  {
   "cell_type": "markdown",
   "metadata": {},
   "source": [
    "Select the features for this model"
   ]
  },
  {
   "cell_type": "code",
   "execution_count": 31,
   "metadata": {},
   "outputs": [],
   "source": [
    "train = train[selected_features_outcome]\n",
    "test = test[selected_features_outcome]"
   ]
  },
  {
   "attachments": {},
   "cell_type": "markdown",
   "metadata": {},
   "source": [
    "### One hot the categorical features\n",
    "\n",
    "Convert some categorical features to one hot encoded features.\n",
    "\n",
    "Define a function"
   ]
  },
  {
   "cell_type": "code",
   "execution_count": 32,
   "metadata": {},
   "outputs": [],
   "source": [
    "def convert_feature_to_one_hot(df, feature_name, prefix):\n",
    "    \"\"\"\n",
    "    df [dataframe]: training or test dataset\n",
    "    feature_name [str]: feature to convert to ont hot encoding\n",
    "    prefix [str]: string to use on new feature\n",
    "    \"\"\"\n",
    "\n",
    "    # One hot encode a feature\n",
    "    df_feature = pd.get_dummies(\n",
    "        df[feature_name], prefix = prefix)\n",
    "    df = pd.concat([df, df_feature], axis=1)\n",
    "    df.drop(feature_name, axis=1, inplace=True)\n",
    "\n",
    "    return(df)"
   ]
  },
  {
   "attachments": {},
   "cell_type": "markdown",
   "metadata": {},
   "source": [
    "Set up two lists for the one hot encoding. \n",
    "\n",
    "A list of the feature names that are categorical and to be converted using one hot encoding.\n",
    "A list of the prefixes to use for these features."
   ]
  },
  {
   "cell_type": "code",
   "execution_count": 33,
   "metadata": {},
   "outputs": [],
   "source": [
    "features_to_one_hot = [\"stroke_team\", \"weekday\"]\n",
    "list_prefix = [\"team\", \"weekday\"]"
   ]
  },
  {
   "attachments": {},
   "cell_type": "markdown",
   "metadata": {},
   "source": [
    "For each feature in the list, for each train and test dataset, convert to one hot encoded."
   ]
  },
  {
   "cell_type": "code",
   "execution_count": 34,
   "metadata": {},
   "outputs": [],
   "source": [
    "for feature, prefix in zip(features_to_one_hot, list_prefix):\n",
    "    if feature in selected_features:\n",
    "        train = convert_feature_to_one_hot(train, feature, prefix)\n",
    "        test = convert_feature_to_one_hot(test, feature, prefix)"
   ]
  },
  {
   "attachments": {},
   "cell_type": "markdown",
   "metadata": {},
   "source": [
    "Feature names with one hot encoding"
   ]
  },
  {
   "cell_type": "code",
   "execution_count": 35,
   "metadata": {},
   "outputs": [],
   "source": [
    "features_ohe = list(train)\n",
    "n_features = len(features_ohe)"
   ]
  },
  {
   "cell_type": "code",
   "execution_count": 36,
   "metadata": {},
   "outputs": [
    {
     "name": "stdout",
     "output_type": "stream",
     "text": [
      "There are 7 original features (before one-hot encoding)\n",
      "There are 124 features (after one-hot encoding)\n"
     ]
    }
   ],
   "source": [
    "print(f\"There are {len(selected_features_outcome)} original features \"\n",
    "      f\"(before one-hot encoding)\")\n",
    "print(f\"There are {n_features} features (after one-hot encoding)\")"
   ]
  },
  {
   "cell_type": "code",
   "execution_count": 37,
   "metadata": {},
   "outputs": [
    {
     "name": "stdout",
     "output_type": "stream",
     "text": [
      "7.0 to 720.0\n"
     ]
    }
   ],
   "source": [
    "print(f'{train[\"onset_to_thrombolysis_time\"].min()} to {train[\"onset_to_thrombolysis_time\"].max()}')"
   ]
  },
  {
   "cell_type": "code",
   "execution_count": 38,
   "metadata": {},
   "outputs": [],
   "source": [
    "# Model filename\n",
    "filename = os.path.join(paths.model_save_path, \n",
    "                '210_xgb_all_data_multiclass_outcome.p')\n",
    "\n",
    "# Check if exists\n",
    "file_exists = exists(filename)\n",
    "\n",
    "if file_exists:\n",
    "# Load models\n",
    "    with open(filename, 'rb') as filehandler:\n",
    "        model_outcome = pickle.load(filehandler)\n",
    "    mrs_classes = model_outcome.classes_\n",
    "else:\n",
    "    # Print warning\n",
    "    print(\"Run notebook 210 that trains the multiclass outcome model\")"
   ]
  },
  {
   "cell_type": "code",
   "execution_count": 39,
   "metadata": {},
   "outputs": [],
   "source": [
    "def calculate_population_outcome(y_probs, mrs_classes):\n",
    "    weighted_mrs = (y_probs * mrs_classes).sum(axis=1)\n",
    "    return(weighted_mrs)"
   ]
  },
  {
   "cell_type": "code",
   "execution_count": 40,
   "metadata": {},
   "outputs": [],
   "source": [
    "def calculate_target_feature(data, model_outcome,median_scan_to_needle_time, \n",
    "                             onset_to_scan_time, stroke_team):\n",
    "    # Identify patients not recieve treatment in the dataset\n",
    "    mask_not_treated = data[\"onset_to_thrombolysis_time\"] == -100\n",
    "\n",
    "    # Take a deep copy of the onset to thrombolysis time. This will remain unchanged \n",
    "    # for those patients that recieve treatment in the dataset\n",
    "    onset_to_thrombolysis_time_all_treated = data[\"onset_to_thrombolysis_time\"].copy(deep=True)\n",
    "\n",
    "    # For those patients not recieve treatment in the dataset, use the median scan to treatment of their attended hosptial\n",
    "    #onset_to_scan_time = data[\"onset_to_arrival_time\"] + data[\"arrival_to_scan_time\"]\n",
    "\n",
    "    #median_scan_to_needle_time = calc_median_scan_to_needle_time(data)\n",
    "    onset_to_thrombolysis_time_all_treated[mask_not_treated] = (\n",
    "        onset_to_scan_time[mask_not_treated] + \n",
    "        median_scan_to_needle_time[stroke_team[mask_not_treated]])\n",
    "\n",
    "    # get mrs if treated\n",
    "    data[\"onset_to_thrombolysis_time\"] = onset_to_thrombolysis_time_all_treated\n",
    "    y_probs = model_outcome.predict_proba(data)\n",
    "    weighted_mrs_if_get_ivt = calculate_population_outcome(y_probs, mrs_classes)\n",
    "\n",
    "    # get mrs if not treated\n",
    "    data[\"onset_to_thrombolysis_time\"] = -100\n",
    "    y_probs = model_outcome.predict_proba(data)\n",
    "    weighted_mrs_if_not_get_ivt = calculate_population_outcome(y_probs, mrs_classes)\n",
    "\n",
    "    # Calculate mrs shift\n",
    "    mrs_shift_due_to_thrombolysis = weighted_mrs_if_get_ivt - weighted_mrs_if_not_get_ivt\n",
    "\n",
    "    return(mrs_shift_due_to_thrombolysis)"
   ]
  },
  {
   "cell_type": "code",
   "execution_count": 41,
   "metadata": {},
   "outputs": [
    {
     "name": "stdout",
     "output_type": "stream",
     "text": [
      "7.0 to 720.0\n"
     ]
    }
   ],
   "source": [
    "print(f'{train[\"onset_to_thrombolysis_time\"].min()} to {train[\"onset_to_thrombolysis_time\"].max()}')"
   ]
  },
  {
   "cell_type": "code",
   "execution_count": 42,
   "metadata": {},
   "outputs": [],
   "source": [
    "train[target_feature] = calculate_target_feature(train.copy(deep=True), model_outcome, \n",
    "                                                 median_scan_to_needle_time, \n",
    "                                                 train_onset_to_scan_time, \n",
    "                                                 train_stroke_team)\n",
    "test[target_feature] = calculate_target_feature(test.copy(deep=True), model_outcome, \n",
    "                                                median_scan_to_needle_time, \n",
    "                                                test_onset_to_scan_time, \n",
    "                                                test_stroke_team)"
   ]
  },
  {
   "cell_type": "code",
   "execution_count": 43,
   "metadata": {},
   "outputs": [
    {
     "name": "stdout",
     "output_type": "stream",
     "text": [
      "7.0 to 720.0\n"
     ]
    }
   ],
   "source": [
    "print(f'{train[\"onset_to_thrombolysis_time\"].min()} to {train[\"onset_to_thrombolysis_time\"].max()}')"
   ]
  },
  {
   "cell_type": "markdown",
   "metadata": {},
   "source": [
    "Save datafiles to use in notebook 221"
   ]
  },
  {
   "cell_type": "code",
   "execution_count": 44,
   "metadata": {},
   "outputs": [],
   "source": [
    "filename = os.path.join(paths.data_read_path, \n",
    "                        (paths.notebook + '_train_' + str(k) + '_mrs_shift.csv'))\n",
    "train.to_csv(filename)\n",
    "\n",
    "filename = os.path.join(paths.data_read_path, \n",
    "                        (paths.notebook + '_test_' + str(k) + '_mrs_shift.csv'))\n",
    "test.to_csv(filename)"
   ]
  },
  {
   "attachments": {},
   "cell_type": "markdown",
   "metadata": {},
   "source": [
    "## Train XGBoost model\n",
    "\n",
    "Train model using the first kfold, on the seven selected features to predict the predicted shift in disability of each patient at discharge due to thrombolysis."
   ]
  },
  {
   "cell_type": "markdown",
   "metadata": {},
   "source": [
    "Create function to return X and y data for train and test sets"
   ]
  },
  {
   "cell_type": "code",
   "execution_count": 45,
   "metadata": {},
   "outputs": [],
   "source": [
    "def get_x_y_data(train, test, target):\n",
    "    \"\"\"\n",
    "    Pass data from the split and return the dataframes with the target in one \n",
    "    dataframe (X), and dependent features in another (y)\n",
    "    \n",
    "    train (dataframe): dataframe containing training instances \n",
    "    test (dataframe): dataframe containing test instances\n",
    "    target (string): column name of the targert feature (the column to separate from the two dataframes)\n",
    "    \"\"\"    \n",
    "\n",
    "    # Get X and y\n",
    "    X_train = train.drop(target, axis=1)\n",
    "    X_test = test.drop(target, axis=1)\n",
    "    y_train = train[target]\n",
    "    y_test = test[target]\n",
    "\n",
    "    return(X_train, X_test, y_train, y_test)"
   ]
  },
  {
   "cell_type": "markdown",
   "metadata": {},
   "source": [
    "Create function to get xgboost model (print error if does not exist)"
   ]
  },
  {
   "cell_type": "code",
   "execution_count": 46,
   "metadata": {},
   "outputs": [],
   "source": [
    "def fit_xgboost_model(filename, X, y):\n",
    "    \"\"\"\n",
    "    Given the filename, either load if the model exists (saved as a pickle), \n",
    "    else train anew model.\n",
    "\n",
    "    filename [string]: where xgboost model is saved\n",
    "    X_train [dataframe]: feature values\n",
    "    y_train [dataframe]: target feature\n",
    "    \"\"\"\n",
    "    # Check if exists\n",
    "    file_exists = exists(filename)\n",
    "\n",
    "    if file_exists:\n",
    "    # Load models\n",
    "        with open(filename, 'rb') as filehandler:\n",
    "            model = pickle.load(filehandler)\n",
    "    else:\n",
    "        # Define and Fit model\n",
    "        model = XGBRegressor(verbosity = 0, seed=42, learning_rate=0.5)\n",
    "        model.fit(X, y)\n",
    "\n",
    "        # Save using pickle\n",
    "        with open(filename, 'wb') as filehandler:\n",
    "            pickle.dump(model, filehandler)\n",
    "            \n",
    "    return(model)"
   ]
  },
  {
   "cell_type": "code",
   "execution_count": 47,
   "metadata": {},
   "outputs": [
    {
     "name": "stdout",
     "output_type": "stream",
     "text": [
      "mean_squared_error: 0.04%\n"
     ]
    }
   ],
   "source": [
    "# Get k fold split\n",
    "(X_train, X_test, y_train, y_test) = get_x_y_data(train,\n",
    "                                                  test,\n",
    "                                                  target_feature)\n",
    "\n",
    "# Model filename\n",
    "filename = os.path.join(paths.model_save_path, \n",
    "                (paths.notebook + '_' + paths.model_text + '.p'))\n",
    "\n",
    "model = fit_xgboost_model(filename, X_train, y_train)\n",
    "\n",
    "# Get and store prediction\n",
    "y_pred = model.predict(X_test)\n",
    "\n",
    "# Calculate accuracy\n",
    "# evaluate predictions\n",
    "mse = mean_squared_error(y_pred, y_test)\n",
    "print(\"mean_squared_error: %.2f%%\" % (mse))"
   ]
  },
  {
   "cell_type": "markdown",
   "metadata": {},
   "source": [
    "#### Accuracy: Scatter plot"
   ]
  },
  {
   "cell_type": "code",
   "execution_count": 48,
   "metadata": {},
   "outputs": [],
   "source": [
    "def fit_logstic_regression(x, y):\n",
    "    # Get r-square of predicted thrombolysis rate.\n",
    "    slr = LinearRegression()\n",
    "    slr.fit(x, y)\n",
    "    y_pred = slr.predict(x)\n",
    "    r_square = metrics.r2_score(y, y_pred)\n",
    "    return(slr, r_square)"
   ]
  },
  {
   "cell_type": "code",
   "execution_count": 49,
   "metadata": {},
   "outputs": [
    {
     "data": {
      "text/plain": [
       "Text(0, 0.5, 'Predicted weighted mRS shift')"
      ]
     },
     "execution_count": 49,
     "metadata": {},
     "output_type": "execute_result"
    },
    {
     "data": {
      "image/png": "[encoded data removed]",
      "text/plain": [
       "<Figure size 640x480 with 1 Axes>"
      ]
     },
     "metadata": {},
     "output_type": "display_data"
    }
   ],
   "source": [
    "ax = plt.scatter(y_test, y_pred, s=0.8, alpha=0.1, c='k', marker='o')\n",
    "axis_min = min(np.minimum(y_pred, y_test))\n",
    "axis_max = max(np.maximum(y_pred, y_test))\n",
    "# The full dataset\n",
    "(slr, r_square) = fit_logstic_regression(y_pred.reshape((-1, 1)), y_test)\n",
    "\n",
    "ax = plt.plot(y_test, slr.predict(np.array(y_test).reshape((-1, 1))), color = 'grey', linewidth=0.8, linestyle=\"--\")\n",
    "text = f'R squared: {r_square:.3f}'\n",
    "ax = plt.text(axis_min*0.9, axis_max*0.8, text, \n",
    "            bbox=dict(facecolor='white', edgecolor='white'))\n",
    "ax = plt.xlim(axis_min, axis_max)\n",
    "ax = plt.ylim(axis_min, axis_max)\n",
    "#ax = plt.plot([-3,2],[-3,2], c='grey',linewidth=1, linestyle ='--')\n",
    "plt.xlabel(\"Predicted weighted mRS shift\")\n",
    "plt.ylabel(\"Prediction of the predicted weighted mRS shift\")\n"
   ]
  },
  {
   "cell_type": "markdown",
   "metadata": {},
   "source": [
    "Removed the sections on calibration and reliability, as this code is to analyse classification models, and not regression models.\n",
    "\n",
    "To do: Add any additional accuracy analysis?"
   ]
  }
 ],
 "metadata": {
  "kernelspec": {
   "display_name": "Python 3.10.11 ('sam10')",
   "language": "python",
   "name": "python3"
  },
  "language_info": {
   "codemirror_mode": {
    "name": "ipython",
    "version": 3
   },
   "file_extension": ".py",
   "mimetype": "text/x-python",
   "name": "python",
   "nbconvert_exporter": "python",
   "pygments_lexer": "ipython3",
   "version": "3.10.12"
  },
  "orig_nbformat": 4,
  "vscode": {
   "interpreter": {
    "hash": "f85b883bff9a8a9f39576b94acbdf6672b3dc17c35647e7395f81e785740a4b3"
   }
  }
 },
 "nbformat": 4,
 "nbformat_minor": 2
}
