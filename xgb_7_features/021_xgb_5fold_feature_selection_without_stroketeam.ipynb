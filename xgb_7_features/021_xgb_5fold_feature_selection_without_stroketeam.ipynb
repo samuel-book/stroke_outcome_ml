{
 "cells": [
  {
   "cell_type": "markdown",
   "metadata": {},
   "source": [
    "# XGBoost feature selection\n",
    "(using stratified 5-fold cross validation)\n",
    "\n",
    "Remove stroke_team (and stroke_team_id)\n",
    "\n",
    "### Plain English summary\n",
    "Machine learning algorithms (such as XGBoost) were devised to deal with enormous and complex datasets, with the approach that the more data that you can throw at them, the better, and let the algorithms work it out themselves.\n",
    "\n",
    "However this approach can make it tricky to be able to explain a coherent story about how the models are working, the relationships that they have found, and how they have made their predictions.\n",
    "\n",
    "Our machine learning work has taken on an additional focus - to make our work as explainable as possible. Both in terms of being able to explain how the models have arrived at their outcome, and in the ease at which we can disseminate our work to a wider audience. For us to have explainable models we want to have a balance between model complexity and model accuracy in order to be able to explain our models, whilst maintaining model performance.\n",
    "\n",
    "In this notebook we create a model to predict the disability level of a patient who had a stroke, at discharge from inpatient care. Disability is recorded in the SSNAP dataset using the modified Rankin Scale (mRS). The scale runs from 0–6, running from perfect health without symptoms to death. The model returns a probability score of the patient being in each of these seven mRS levels. This is known as a multiclass classification problem. The patient is predicted to have the mRS level with the highest probability.\n",
    "\n",
    "We train a model using just a single input feature, chosen as the feature that gave the model it's best performance (based on ROCAUC). \n",
    "\n",
    "Here we rerun this experiment, excluding the choice of \"stroke team\". Compare with notebook 020_xgb_5fold_feature_selection.ipynb.\n",
    "\n",
    "The single feature that gave the best model performance was \"prior disability\". Fixing this feature in the model, we repeated the process to chose the next single feature to add to the model. The best single feature to include next was \"Stroke severity\". We repeated this process, choosing the next feature to add to the model until 25 features were included (it was limited to 25 features for computational time purposes).\n",
    "\n",
    "We found that a model with eight features is able to provide 99.6% of the accuracy obtained when all 56 features are used (ROCAUC: 0.786). A model with 16 features matched the performance of the model with all of the features (to 3 dp).\n",
    "\n",
    "These eight features are largely independent of each other (refer to notebook check correlation between selected features to confirm this).\n",
    "\n",
    "The first 8 features selected are: \n",
    "Feature  1: prior_disability, AUC: 0.687\n",
    "Feature  2: stroke_severity, AUC: 0.770\n",
    "Feature  3: age, AUC: 0.777\n",
    "Feature  4: nihss_arrival_loc, AUC: 0.779\n",
    "Feature  5: scan_to_thrombolysis_time, AUC: 0.780\n",
    "Feature  6: thrombolysis_no_but_improving, AUC: 0.782\n",
    "Feature  7: nihss_arrival_best_language, AUC: 0.783\n",
    "Feature  8: thrombolysis_no_but_other_medical, AUC: 0.783\n",
    "\n",
    "(by comparision, here is the resutl when stroke team is an option (from notebook 020):\n",
    "Feature  1: prior_disability, AUC: 0.687\n",
    "Feature  2: stroke_severity, AUC: 0.770\n",
    "Feature  3: stroke_team, AUC: 0.800\n",
    "Feature  4: age, AUC: 0.806\n",
    "Feature  5: year, AUC: 0.811\n",
    "Feature  6: nihss_arrival_loc, AUC: 0.814\n",
    "Feature  7: scan_to_thrombolysis_time, AUC: 0.816\n",
    "Feature  8: thrombolysis_no_but_improving, AUC: 0.817\n",
    "\n",
    "Notice how the feature Year is not selected when Stroke Team was not an option to be selected.\n",
    "\n",
    "### Model and data\n",
    "XGBoost models were trained on stratified k-fold cross-validation data. The full dataset contains 58 features that describe the patient (in terms of their clinical characteristics, the stroke pathway, and the stroke team that they attended). Here we removed the stroke team feature. Features to be included in the model were sequentially selected as the single best feature to add to the model in terms of performance from the area under the receiver operating characteristic (ROC AUC) curve. When included, the hospital and weekday feature are included as a one-hot encoded feature.\n",
    "\n",
    "### Aims\n",
    "* Select up to 25 features (from the full set of 58 features, excluding stroke team) using forward feature selection. Features are selected sequentially (using the greedy approach), choosing the feature that leads to most improvement in ROC AUC score.\n",
    "* See what affter this has on the feature chosen\n",
    "\n",
    "### Observations\n",
    "* Year is not selected when stroke team is not an option to be selected.\n",
    "\n",
    "### Follow up work\n",
    "* To understand the interaction between features \"stroke team\" and \"year\", we can make use of the SHAP interaction values. This is when the SHAP values per feature are represented as their sub-parts: their main effect, and all of the pair-wise interactions with the other features. As yet, it is not possible to calculate the SHAP interaction values for a multiclass classification model. So we will explore this using binary models. We create binary models using two formats:\n",
    "\n",
    "1. Predicting whether a patient will be one side or the other of each mRS threshold (a set of 6 models, i. mRS0 vs mRS1+ ii. <mRS2 or >mRS1 iii. <mRS3 or >mRS2 iV. <mRS4 or >mRS3 V. <mRS5 or >mRS4 Vi. <mRS6 or >mRS5).\n",
    "1. Predict whether a patient is a specifc class, or the rest (a set of 6 models, i. mRS0 vs rest ii. mRS2 vs rest iii. mRS3 vs rest iV. mRS4 vs rest V. mRS5 vs rest Vi. mRS6 vs rest.\n",
    "\n",
    "(Orinigally called 02a_xgb_5fold_feature_selection.ipynb)"
   ]
  },
  {
   "cell_type": "markdown",
   "metadata": {},
   "source": [
    "## Import libraries"
   ]
  },
  {
   "cell_type": "code",
   "execution_count": 20,
   "metadata": {},
   "outputs": [],
   "source": [
    "# Turn warnings off to keep notebook tidy\n",
    "import warnings\n",
    "warnings.filterwarnings(\"ignore\")\n",
    "\n",
    "import os\n",
    "import matplotlib.pyplot as plt\n",
    "import numpy as np\n",
    "import pandas as pd\n",
    "\n",
    "import scipy\n",
    "\n",
    "from xgboost import XGBClassifier\n",
    "from sklearn.metrics import auc\n",
    "from sklearn.metrics import roc_curve\n",
    "\n",
    "import json\n",
    "\n",
    "from dataclasses import dataclass\n",
    "\n",
    "from sklearn.metrics import confusion_matrix\n",
    "\n",
    "#import seaborn as sns\n",
    "\n",
    "from sklearn.metrics import roc_auc_score\n",
    "\n",
    "import time"
   ]
  },
  {
   "cell_type": "markdown",
   "metadata": {},
   "source": [
    "Report the time duration to run notebook"
   ]
  },
  {
   "cell_type": "code",
   "execution_count": 21,
   "metadata": {},
   "outputs": [],
   "source": [
    "start_time = time.time()"
   ]
  },
  {
   "cell_type": "markdown",
   "metadata": {},
   "source": [
    "## Set up paths and filenames\n",
    "Use os.path.join() to create filenames. So define folders without trailing forward slash, and include all characters in file names."
   ]
  },
  {
   "cell_type": "code",
   "execution_count": 22,
   "metadata": {},
   "outputs": [],
   "source": [
    "@dataclass(frozen=True)\n",
    "class Paths:\n",
    "    '''Singleton object for storing paths to data and database.'''\n",
    "    image_save_path: str = './saved_images'\n",
    "    model_save_path: str = './saved_models'\n",
    "    data_save_path: str = './saved_data'\n",
    "    data_read_path: str = '../data_processing/output/kfold_5fold'\n",
    "    notebook: str = '021_'\n",
    "\n",
    "paths = Paths()"
   ]
  },
  {
   "cell_type": "markdown",
   "metadata": {},
   "source": [
    "Create output folders if needed"
   ]
  },
  {
   "cell_type": "code",
   "execution_count": null,
   "metadata": {},
   "outputs": [],
   "source": [
    "path = paths.image_save_path\n",
    "if not os.path.exists(path):\n",
    "    os.makedirs(path)\n",
    "        \n",
    "path = paths.model_save_path\n",
    "if not os.path.exists(path):\n",
    "    os.makedirs(path)\n",
    "\n",
    "path = paths.data_save_path\n",
    "if not os.path.exists(path):\n",
    "    os.makedirs(path)"
   ]
  },
  {
   "cell_type": "code",
   "execution_count": 23,
   "metadata": {},
   "outputs": [],
   "source": [
    "n_kfold = 5"
   ]
  },
  {
   "cell_type": "markdown",
   "metadata": {},
   "source": [
    "## Import data\n",
    "\n",
    "Data has previously been split into 5 stratified k-fold splits."
   ]
  },
  {
   "cell_type": "code",
   "execution_count": 24,
   "metadata": {},
   "outputs": [],
   "source": [
    "def drop_columns(df, cols):\n",
    "    for col in cols:\n",
    "        if col in df.columns: df.drop([col],axis=1,inplace=True)\n",
    "    return(df)"
   ]
  },
  {
   "cell_type": "code",
   "execution_count": 25,
   "metadata": {},
   "outputs": [],
   "source": [
    "cols_remove = ['id','stroke_team', 'stroke_team_id']"
   ]
  },
  {
   "cell_type": "code",
   "execution_count": 26,
   "metadata": {},
   "outputs": [],
   "source": [
    "train_data, test_data = [], []\n",
    "\n",
    "for k in range(5):\n",
    "    filename = os.path.join(paths.data_read_path, \n",
    "                                ('03_train_' + str(k) + '.csv'))\n",
    "    train = pd.read_csv(filename)\n",
    "    train = drop_columns(train, cols_remove)\n",
    "    train_data.append(train)\n",
    "\n",
    "    filename = os.path.join(paths.data_read_path, \n",
    "                                ('03_test_' + str(k) + '.csv'))\n",
    "    test_data.append(pd.read_csv(filename))\n",
    "    test = drop_columns(test, cols_remove)\n",
    "    test_data.append(test)"
   ]
  },
  {
   "cell_type": "markdown",
   "metadata": {},
   "source": [
    "Get list of features"
   ]
  },
  {
   "cell_type": "code",
   "execution_count": 27,
   "metadata": {},
   "outputs": [
    {
     "name": "stdout",
     "output_type": "stream",
     "text": [
      "There are 56 features\n"
     ]
    }
   ],
   "source": [
    "features = list(train_data[0])\n",
    "print(f\"There are {len(features)} features\")"
   ]
  },
  {
   "cell_type": "markdown",
   "metadata": {},
   "source": [
    "## One hot the categorical features\n",
    "\n",
    "Convert some categorical features to one hot encoded features.\n",
    "\n",
    "Define a function"
   ]
  },
  {
   "cell_type": "code",
   "execution_count": 28,
   "metadata": {},
   "outputs": [],
   "source": [
    "def convert_feature_to_one_hot(df, feature_name, prefix):\n",
    "    \"\"\"\n",
    "    df [dataframe]: training or test dataset\n",
    "    feature_name [str]: feature to convert to ont hot encoding\n",
    "    prefix [str]: string to use on new feature\n",
    "    \"\"\"\n",
    "\n",
    "    # One hot encode a feature\n",
    "    df_feature = pd.get_dummies(\n",
    "        df[feature_name], prefix = prefix)\n",
    "    df = pd.concat([df, df_feature], axis=1)\n",
    "    df.drop(feature_name, axis=1, inplace=True)\n",
    "\n",
    "    return(df)"
   ]
  },
  {
   "cell_type": "markdown",
   "metadata": {},
   "source": [
    "Set up two lists for the one hot encoding. \n",
    "\n",
    "A list of the feature names that are categorical and to be converted using one hot encoding.\n",
    "A list of the prefixes to use for these features."
   ]
  },
  {
   "cell_type": "code",
   "execution_count": 29,
   "metadata": {},
   "outputs": [],
   "source": [
    "features_to_one_hot = [\"stroke_team\", \"weekday\"]\n",
    "list_prefix = [\"team\", \"weekday\"]"
   ]
  },
  {
   "cell_type": "markdown",
   "metadata": {},
   "source": [
    "For each feature in the list, for each train and test dataset, convert to one hot encoded."
   ]
  },
  {
   "cell_type": "markdown",
   "metadata": {},
   "source": [
    "for feature, prefix in zip(features_to_one_hot, list_prefix):\n",
    "    for k_fold in range(5):\n",
    "        train_data[k_fold] = convert_feature_to_one_hot(train_data[k_fold], feature, prefix)\n",
    "        test_data[k_fold] = convert_feature_to_one_hot(test_data[k_fold], feature, prefix)"
   ]
  },
  {
   "cell_type": "markdown",
   "metadata": {},
   "source": [
    "## Fit XGBoost model\n",
    "\n",
    "Train model with all features (as comparison)"
   ]
  },
  {
   "cell_type": "code",
   "execution_count": 30,
   "metadata": {},
   "outputs": [
    {
     "name": "stdout",
     "output_type": "stream",
     "text": [
      "All features, AUC: 0.786 (std across 5 kfolds: 0.001)\n",
      "All features, accuracy: 0.387 (std across 5 kfolds: 0.003)\n",
      "All features, accuracy within one: 0.734 (std across 5 kfolds: 0.003)\n"
     ]
    }
   ],
   "source": [
    "r_square_kfold = []\n",
    "roc_auc_ovr_kfold = []\n",
    "accuracy_kfold = []\n",
    "error_within_one_kfold = []\n",
    "feature_importance_kfold = []\n",
    "y_probs_kfold = []\n",
    "y_pred_kfold = []\n",
    "model_kfold = []\n",
    "\n",
    "# Loop through k folds\n",
    "for k_fold in range(5):\n",
    "\n",
    "    # Get k fold split\n",
    "    train = train_data[k_fold]\n",
    "    test = test_data[k_fold]\n",
    "\n",
    "    # Get X and y\n",
    "    X_train = train.drop('discharge_disability', axis=1)\n",
    "    X_test = test.drop('discharge_disability', axis=1)\n",
    "    y_train = train['discharge_disability']\n",
    "    y_test = test['discharge_disability']\n",
    "\n",
    "    # One hot encode categorical features\n",
    "    for feature, prefix in zip(features_to_one_hot, list_prefix):\n",
    "        if feature in list(X_train):\n",
    "           X_train = convert_feature_to_one_hot(X_train, feature, prefix)\n",
    "           X_test = convert_feature_to_one_hot(X_test, feature, prefix)\n",
    "\n",
    "    # Define model\n",
    "    model = XGBClassifier(verbosity = 0, seed=42, learning_rate=0.5)\n",
    "\n",
    "    # Fit model\n",
    "    model.fit(X_train, y_train)\n",
    "    model_kfold.append(model)\n",
    "    \n",
    "    # Get target categories from model\n",
    "    classes = model.classes_\n",
    "\n",
    "    # Get and store predicted probabilities\n",
    "    y_probs = model.predict_proba(X_test)\n",
    "    y_probs_kfold.append(y_probs)\n",
    "\n",
    "    # Get and store predicted class\n",
    "    y_pred = model.predict(X_test)\n",
    "    y_pred_kfold.append(y_pred)\n",
    "\n",
    "    # Calculate ROC AUC for multiclass models, using One vs Rest\n",
    "    roc_auc_ovr = roc_auc_score(y_test, y_probs, labels = classes, \n",
    "                                multi_class = 'ovr', average = 'macro')\n",
    "    roc_auc_ovr_kfold.append(roc_auc_ovr)\n",
    "\n",
    "    # Calculate error\n",
    "    y_error = y_test - y_pred\n",
    "    accuracy = np.mean(y_error==0)\n",
    "    accuracy_kfold.append(accuracy)\n",
    "\n",
    "    error_within_one = np.mean(np.abs(y_error)<=1)\n",
    "    error_within_one_kfold.append(error_within_one)\n",
    "\n",
    "    # Get and store feature importances\n",
    "    feature_importance = model.feature_importances_\n",
    "    feature_importance_kfold.append(feature_importance)\n",
    "\n",
    "# Get average result from all k-fold splits\n",
    "roc_auc_ovr_mean = np.mean(roc_auc_ovr_kfold)\n",
    "accuracy_mean = np.mean(accuracy_kfold)\n",
    "error_within_one_mean = np.mean(error_within_one_kfold)\n",
    "\n",
    "print (f'All features, AUC: {roc_auc_ovr_mean:0.3f} '\n",
    "       f'(std across 5 kfolds: {np.std(roc_auc_ovr_kfold):0.3f})')\n",
    "\n",
    "print (f'All features, accuracy: {accuracy_mean:0.3f} '\n",
    "       f'(std across 5 kfolds: {np.std(accuracy_kfold):0.3f})')\n",
    "\n",
    "print (f'All features, accuracy within one: {error_within_one_mean:0.3f} '\n",
    "       f'(std across 5 kfolds: {np.std(error_within_one_kfold):0.3f})')"
   ]
  },
  {
   "cell_type": "markdown",
   "metadata": {},
   "source": [
    "Check that the five ROC AUC are not identical (to give the stddev 0)"
   ]
  },
  {
   "cell_type": "code",
   "execution_count": 31,
   "metadata": {},
   "outputs": [
    {
     "data": {
      "text/plain": [
       "[0.7855273126090461,\n",
       " 0.7863481730544638,\n",
       " 0.7849990300685709,\n",
       " 0.7857459876698715,\n",
       " 0.7865973763787532]"
      ]
     },
     "execution_count": 31,
     "metadata": {},
     "output_type": "execute_result"
    }
   ],
   "source": [
    "roc_auc_ovr_kfold"
   ]
  },
  {
   "cell_type": "markdown",
   "metadata": {},
   "source": [
    "## Fit XGBoost model\n",
    "\n",
    "Loop through each feature in turn and train an XGBoost model with that feature added to the dataset (for each k-fold split). Choose the single best feature to add to the model in terms of performance from the ROC AUC using one vs rest (mean of the k-fold splits).\n",
    "\n",
    "Repeat until 25 features have been selected."
   ]
  },
  {
   "cell_type": "code",
   "execution_count": 32,
   "metadata": {},
   "outputs": [
    {
     "name": "stdout",
     "output_type": "stream",
     "text": [
      "Feature  1: prior_disability, AUC: 0.687\n",
      "Feature  2: stroke_severity, AUC: 0.770\n",
      "Feature  3: age, AUC: 0.777\n",
      "Feature  4: nihss_arrival_loc, AUC: 0.779\n",
      "Feature  5: scan_to_thrombolysis_time, AUC: 0.780\n",
      "Feature  6: thrombolysis_no_but_improving, AUC: 0.782\n",
      "Feature  7: nihss_arrival_best_language, AUC: 0.783\n",
      "Feature  8: thrombolysis_no_but_other_medical, AUC: 0.783\n",
      "Feature  9: nihss_arrival_sensory, AUC: 0.784\n",
      "Feature 10: nihss_arrival_facial_palsy, AUC: 0.784\n",
      "Feature 11: nihss_arrival_limb_ataxia, AUC: 0.784\n",
      "Feature 12: nihss_arrival_motor_arm_left, AUC: 0.785\n",
      "Feature 13: nihss_arrival_best_gaze, AUC: 0.785\n",
      "Feature 14: diabetes, AUC: 0.785\n",
      "Feature 15: thrombolysis_no_but_comorbidity, AUC: 0.785\n",
      "Feature 16: nihss_arrival_motor_arm_right, AUC: 0.786\n",
      "Feature 17: thrombolysis_no_but_too_mild_severe, AUC: 0.786\n",
      "Feature 18: onset_during_sleep, AUC: 0.786\n",
      "Feature 19: precise_onset_known, AUC: 0.786\n",
      "Feature 20: atrial_fibrillation, AUC: 0.786\n",
      "Feature 21: infarction, AUC: 0.786\n",
      "Feature 22: arrive_by_ambulance, AUC: 0.786\n",
      "Feature 23: nihss_complete, AUC: 0.786\n",
      "Feature 24: prior_stroke_tia, AUC: 0.786\n",
      "Feature 25: nihss_arrival_dysarthria, AUC: 0.786\n"
     ]
    }
   ],
   "source": [
    "# Create list to store accuracies and chosen features\n",
    "roc_auc_by_feature_number = []\n",
    "roc_auc_by_feature_number_kfold = []\n",
    "chosen_features = []\n",
    "\n",
    "# Initialise chosen features list and run tracker\n",
    "available_features = list(train_data[0].drop('discharge_disability', axis=1))\n",
    "number_of_features = len(available_features)\n",
    "\n",
    "# Loop through number of features\n",
    "for i in range (25):\n",
    "    \n",
    "    # Reset best feature and accuracy\n",
    "    best_result = 0\n",
    "    best_feature = ''\n",
    "    \n",
    "    # Loop through available features\n",
    "    for feature in available_features:\n",
    "\n",
    "        # Create copy of already chosen features to avoid original being changed\n",
    "        features_to_use = chosen_features.copy()\n",
    "        # Create a list of features from features already chosen + 1 new feature\n",
    "        features_to_use.append(feature)\n",
    "        \n",
    "        # Set up a list to hold AUC results for this feature for each kfold\n",
    "        feature_roc_auc_ovr_kfold = []\n",
    "        \n",
    "        # Loop through k folds\n",
    "        for k_fold in range(5):\n",
    "\n",
    "            # Get k fold split\n",
    "            train = train_data[k_fold]\n",
    "            test = test_data[k_fold]\n",
    "\n",
    "            # Get X and y\n",
    "            X_train = train.drop('discharge_disability', axis=1)\n",
    "            X_test = test.drop('discharge_disability', axis=1)\n",
    "            y_train = train['discharge_disability']\n",
    "            y_test = test['discharge_disability']\n",
    "            \n",
    "            # Restrict features\n",
    "            X_train = X_train[features_to_use]\n",
    "            X_test = X_test[features_to_use]\n",
    "\n",
    "            # One hot encode categorical features\n",
    "            for cat_feature, prefix in zip(features_to_one_hot, list_prefix):\n",
    "                if cat_feature in features_to_use:\n",
    "                    X_train = convert_feature_to_one_hot(X_train, cat_feature, prefix)\n",
    "                    X_test = convert_feature_to_one_hot(X_test, cat_feature, prefix)\n",
    "\n",
    "            # Define model\n",
    "            model = XGBClassifier(verbosity = 0, seed=42, learning_rate=0.5)\n",
    "\n",
    "            # Fit model\n",
    "            model.fit(X_train, y_train)\n",
    "\n",
    "            # Get predicted probabilities\n",
    "            y_probs = model.predict_proba(X_test)\n",
    "            \n",
    "            # Calculate ROC AUC for multiclass models, using One vs Rest\n",
    "            feature_roc_auc_ovr = roc_auc_score(y_test, y_probs, labels = classes, \n",
    "                                multi_class = 'ovr', average = 'macro')\n",
    "            feature_roc_auc_ovr_kfold.append(feature_roc_auc_ovr)\n",
    "\n",
    "        \n",
    "        # Get average result from all k-fold splits\n",
    "        feature_auc_mean = np.mean(feature_roc_auc_ovr_kfold)\n",
    "    \n",
    "        # Update chosen feature and result if this feature is a new best\n",
    "        if feature_auc_mean > best_result:\n",
    "            best_result = feature_auc_mean\n",
    "            best_result_kfold = feature_roc_auc_ovr_kfold\n",
    "            best_feature = feature\n",
    "            \n",
    "    # k-fold splits are complete    \n",
    "    # Add mean accuracy and AUC to record of accuracy by feature number\n",
    "    roc_auc_by_feature_number.append(best_result)\n",
    "    roc_auc_by_feature_number_kfold.append(best_result_kfold)\n",
    "    chosen_features.append(best_feature)\n",
    "    available_features.remove(best_feature)\n",
    "            \n",
    "    print (f'Feature {i+1:2.0f}: {best_feature}, AUC: {best_result:0.3f}')"
   ]
  },
  {
   "cell_type": "markdown",
   "metadata": {},
   "source": [
    "Create a dataframe that contains the chosen features, and their mean ROC AUC across the k-fold splits, and the standard deviation."
   ]
  },
  {
   "cell_type": "code",
   "execution_count": 33,
   "metadata": {},
   "outputs": [
    {
     "data": {
      "text/html": [
       "<div>\n",
       "<style scoped>\n",
       "    .dataframe tbody tr th:only-of-type {\n",
       "        vertical-align: middle;\n",
       "    }\n",
       "\n",
       "    .dataframe tbody tr th {\n",
       "        vertical-align: top;\n",
       "    }\n",
       "\n",
       "    .dataframe thead th {\n",
       "        text-align: right;\n",
       "    }\n",
       "</style>\n",
       "<table border=\"1\" class=\"dataframe\">\n",
       "  <thead>\n",
       "    <tr style=\"text-align: right;\">\n",
       "      <th></th>\n",
       "      <th>number_features</th>\n",
       "      <th>feature</th>\n",
       "      <th>AUC</th>\n",
       "      <th>AUC_Std</th>\n",
       "    </tr>\n",
       "  </thead>\n",
       "  <tbody>\n",
       "    <tr>\n",
       "      <th>0</th>\n",
       "      <td>1</td>\n",
       "      <td>prior_disability</td>\n",
       "      <td>0.686897</td>\n",
       "      <td>0.000958</td>\n",
       "    </tr>\n",
       "    <tr>\n",
       "      <th>1</th>\n",
       "      <td>2</td>\n",
       "      <td>stroke_severity</td>\n",
       "      <td>0.770089</td>\n",
       "      <td>0.000818</td>\n",
       "    </tr>\n",
       "    <tr>\n",
       "      <th>2</th>\n",
       "      <td>3</td>\n",
       "      <td>age</td>\n",
       "      <td>0.776562</td>\n",
       "      <td>0.000298</td>\n",
       "    </tr>\n",
       "    <tr>\n",
       "      <th>3</th>\n",
       "      <td>4</td>\n",
       "      <td>nihss_arrival_loc</td>\n",
       "      <td>0.778953</td>\n",
       "      <td>0.000628</td>\n",
       "    </tr>\n",
       "    <tr>\n",
       "      <th>4</th>\n",
       "      <td>5</td>\n",
       "      <td>scan_to_thrombolysis_time</td>\n",
       "      <td>0.780454</td>\n",
       "      <td>0.000906</td>\n",
       "    </tr>\n",
       "    <tr>\n",
       "      <th>5</th>\n",
       "      <td>6</td>\n",
       "      <td>thrombolysis_no_but_improving</td>\n",
       "      <td>0.781712</td>\n",
       "      <td>0.000891</td>\n",
       "    </tr>\n",
       "    <tr>\n",
       "      <th>6</th>\n",
       "      <td>7</td>\n",
       "      <td>nihss_arrival_best_language</td>\n",
       "      <td>0.783151</td>\n",
       "      <td>0.000808</td>\n",
       "    </tr>\n",
       "    <tr>\n",
       "      <th>7</th>\n",
       "      <td>8</td>\n",
       "      <td>thrombolysis_no_but_other_medical</td>\n",
       "      <td>0.783489</td>\n",
       "      <td>0.000805</td>\n",
       "    </tr>\n",
       "    <tr>\n",
       "      <th>8</th>\n",
       "      <td>9</td>\n",
       "      <td>nihss_arrival_sensory</td>\n",
       "      <td>0.783677</td>\n",
       "      <td>0.000644</td>\n",
       "    </tr>\n",
       "    <tr>\n",
       "      <th>9</th>\n",
       "      <td>10</td>\n",
       "      <td>nihss_arrival_facial_palsy</td>\n",
       "      <td>0.784257</td>\n",
       "      <td>0.000534</td>\n",
       "    </tr>\n",
       "    <tr>\n",
       "      <th>10</th>\n",
       "      <td>11</td>\n",
       "      <td>nihss_arrival_limb_ataxia</td>\n",
       "      <td>0.784497</td>\n",
       "      <td>0.000641</td>\n",
       "    </tr>\n",
       "    <tr>\n",
       "      <th>11</th>\n",
       "      <td>12</td>\n",
       "      <td>nihss_arrival_motor_arm_left</td>\n",
       "      <td>0.784696</td>\n",
       "      <td>0.000684</td>\n",
       "    </tr>\n",
       "    <tr>\n",
       "      <th>12</th>\n",
       "      <td>13</td>\n",
       "      <td>nihss_arrival_best_gaze</td>\n",
       "      <td>0.784876</td>\n",
       "      <td>0.000541</td>\n",
       "    </tr>\n",
       "    <tr>\n",
       "      <th>13</th>\n",
       "      <td>14</td>\n",
       "      <td>diabetes</td>\n",
       "      <td>0.785070</td>\n",
       "      <td>0.000688</td>\n",
       "    </tr>\n",
       "    <tr>\n",
       "      <th>14</th>\n",
       "      <td>15</td>\n",
       "      <td>thrombolysis_no_but_comorbidity</td>\n",
       "      <td>0.785209</td>\n",
       "      <td>0.000917</td>\n",
       "    </tr>\n",
       "    <tr>\n",
       "      <th>15</th>\n",
       "      <td>16</td>\n",
       "      <td>nihss_arrival_motor_arm_right</td>\n",
       "      <td>0.785507</td>\n",
       "      <td>0.000576</td>\n",
       "    </tr>\n",
       "    <tr>\n",
       "      <th>16</th>\n",
       "      <td>17</td>\n",
       "      <td>thrombolysis_no_but_too_mild_severe</td>\n",
       "      <td>0.785724</td>\n",
       "      <td>0.000654</td>\n",
       "    </tr>\n",
       "    <tr>\n",
       "      <th>17</th>\n",
       "      <td>18</td>\n",
       "      <td>onset_during_sleep</td>\n",
       "      <td>0.785865</td>\n",
       "      <td>0.000673</td>\n",
       "    </tr>\n",
       "    <tr>\n",
       "      <th>18</th>\n",
       "      <td>19</td>\n",
       "      <td>precise_onset_known</td>\n",
       "      <td>0.785952</td>\n",
       "      <td>0.000644</td>\n",
       "    </tr>\n",
       "    <tr>\n",
       "      <th>19</th>\n",
       "      <td>20</td>\n",
       "      <td>atrial_fibrillation</td>\n",
       "      <td>0.786198</td>\n",
       "      <td>0.000640</td>\n",
       "    </tr>\n",
       "    <tr>\n",
       "      <th>20</th>\n",
       "      <td>21</td>\n",
       "      <td>infarction</td>\n",
       "      <td>0.786198</td>\n",
       "      <td>0.000640</td>\n",
       "    </tr>\n",
       "    <tr>\n",
       "      <th>21</th>\n",
       "      <td>22</td>\n",
       "      <td>arrive_by_ambulance</td>\n",
       "      <td>0.786198</td>\n",
       "      <td>0.000640</td>\n",
       "    </tr>\n",
       "    <tr>\n",
       "      <th>22</th>\n",
       "      <td>23</td>\n",
       "      <td>nihss_complete</td>\n",
       "      <td>0.786061</td>\n",
       "      <td>0.000520</td>\n",
       "    </tr>\n",
       "    <tr>\n",
       "      <th>23</th>\n",
       "      <td>24</td>\n",
       "      <td>prior_stroke_tia</td>\n",
       "      <td>0.785993</td>\n",
       "      <td>0.000835</td>\n",
       "    </tr>\n",
       "    <tr>\n",
       "      <th>24</th>\n",
       "      <td>25</td>\n",
       "      <td>nihss_arrival_dysarthria</td>\n",
       "      <td>0.786188</td>\n",
       "      <td>0.000736</td>\n",
       "    </tr>\n",
       "  </tbody>\n",
       "</table>\n",
       "</div>"
      ],
      "text/plain": [
       "    number_features                              feature       AUC   AUC_Std\n",
       "0                 1                     prior_disability  0.686897  0.000958\n",
       "1                 2                      stroke_severity  0.770089  0.000818\n",
       "2                 3                                  age  0.776562  0.000298\n",
       "3                 4                    nihss_arrival_loc  0.778953  0.000628\n",
       "4                 5            scan_to_thrombolysis_time  0.780454  0.000906\n",
       "5                 6        thrombolysis_no_but_improving  0.781712  0.000891\n",
       "6                 7          nihss_arrival_best_language  0.783151  0.000808\n",
       "7                 8    thrombolysis_no_but_other_medical  0.783489  0.000805\n",
       "8                 9                nihss_arrival_sensory  0.783677  0.000644\n",
       "9                10           nihss_arrival_facial_palsy  0.784257  0.000534\n",
       "10               11            nihss_arrival_limb_ataxia  0.784497  0.000641\n",
       "11               12         nihss_arrival_motor_arm_left  0.784696  0.000684\n",
       "12               13              nihss_arrival_best_gaze  0.784876  0.000541\n",
       "13               14                             diabetes  0.785070  0.000688\n",
       "14               15      thrombolysis_no_but_comorbidity  0.785209  0.000917\n",
       "15               16        nihss_arrival_motor_arm_right  0.785507  0.000576\n",
       "16               17  thrombolysis_no_but_too_mild_severe  0.785724  0.000654\n",
       "17               18                   onset_during_sleep  0.785865  0.000673\n",
       "18               19                  precise_onset_known  0.785952  0.000644\n",
       "19               20                  atrial_fibrillation  0.786198  0.000640\n",
       "20               21                           infarction  0.786198  0.000640\n",
       "21               22                  arrive_by_ambulance  0.786198  0.000640\n",
       "22               23                       nihss_complete  0.786061  0.000520\n",
       "23               24                     prior_stroke_tia  0.785993  0.000835\n",
       "24               25             nihss_arrival_dysarthria  0.786188  0.000736"
      ]
     },
     "execution_count": 33,
     "metadata": {},
     "output_type": "execute_result"
    }
   ],
   "source": [
    "results = pd.DataFrame()\n",
    "results['number_features'] = range(1, len(chosen_features)+1)\n",
    "results['feature'] = chosen_features\n",
    "results['AUC'] = roc_auc_by_feature_number\n",
    "results['AUC_Std'] = [np.std(auc) for auc in roc_auc_by_feature_number_kfold]\n",
    "results"
   ]
  },
  {
   "cell_type": "code",
   "execution_count": 34,
   "metadata": {},
   "outputs": [],
   "source": [
    "filename = os.path.join(paths.data_save_path, \n",
    "                        (paths.notebook + '_feature_selection.csv'))\n",
    "results.to_csv(filename, index=False)\n"
   ]
  },
  {
   "cell_type": "markdown",
   "metadata": {},
   "source": [
    "## Plot the results\n",
    "Plot a line graph showing the change in mean ROC AUC (across k-fold splits) for the number of features chosen in the model."
   ]
  },
  {
   "cell_type": "code",
   "execution_count": 35,
   "metadata": {},
   "outputs": [],
   "source": [
    "filename = os.path.join(paths.data_save_path, \n",
    "                        (paths.notebook + '_feature_selection.csv'))\n",
    "\n",
    "results = pd.read_csv(filename)"
   ]
  },
  {
   "cell_type": "code",
   "execution_count": 36,
   "metadata": {},
   "outputs": [
    {
     "data": {
      "image/png": "[encoded data removed]",
      "text/plain": [
       "<Figure size 1000x600 with 2 Axes>"
      ]
     },
     "metadata": {},
     "output_type": "display_data"
    }
   ],
   "source": [
    "features_to_show = 10\n",
    "\n",
    "fig = plt.figure(figsize=(10,6))\n",
    "\n",
    "ax1 = fig.add_subplot(121)\n",
    "ax1.plot(results['number_features'], results['AUC'])\n",
    "ax1.set_xlabel('Number of features')\n",
    "ax1.set_ylabel('Mean ROC AUC')\n",
    "ax1.set_ylim(0.69, 0.83)\n",
    "ax1.grid()\n",
    "\n",
    "ax2 = fig.add_subplot(122)\n",
    "ax2.plot(results['feature'][:features_to_show],\n",
    "         results['AUC'][:features_to_show])\n",
    "xlabels = list(results['feature'])\n",
    "xlabels = xlabels[:features_to_show]\n",
    "ax2.set_xticklabels(xlabels, rotation=45, ha='right')\n",
    "ax2.set_ylabel('Mean ROC AUC')\n",
    "ax1.set_xlabel('New feature selected')\n",
    "ax2.set_ylim(0.69, 0.83)\n",
    "ax2.grid()\n",
    "\n",
    "plt.tight_layout(pad=1.5)\n",
    "\n",
    "filename = os.path.join(paths.data_save_path, \n",
    "                        (paths.notebook + '_feature_selection.jpg'))\n",
    "plt.savefig(filename, dpi=300)\n",
    "plt.show()"
   ]
  },
  {
   "cell_type": "markdown",
   "metadata": {},
   "source": [
    "Save dictionary as a json (to be read in and used by the other notebooks)."
   ]
  },
  {
   "cell_type": "code",
   "execution_count": 37,
   "metadata": {},
   "outputs": [],
   "source": [
    "feature_name_dict = {\n",
    "    \"prior_disability\": \"Prior disability level\",\n",
    "    \"stroke_severity\": \"Stroke severity\",\n",
    "    \"stroke_team\": \"Stroke team\",\n",
    "    \"age\": \"Age\",\n",
    "    \"year\": \"Year\",\n",
    "    \"nihss_arrival_loc\": \"NIHSS arrival loc\",\n",
    "    \"scan_to_thrombolysis_time\": \"Scan-to-thrombolysis time\",\n",
    "    \"thrombolysis_no_but_improving\": \"Thrombolysis-No but improving\",\n",
    "    \"nihss_arrival_motor_arm_left\": \"NIHSS arrival motor arm left\",\n",
    "    \"nihss_arrival_best_gaze\": \"NIHSS arrival best gaze\",\n",
    "    \"nihss_arrival_motor_arm_right\": \"NIHSS arrival motor arm right\",\n",
    "    \"male\": \"Male\",\n",
    "    \"month\": \"Month\",\n",
    "    \"nihss_arrival_dysarthria\": \"NIHSS arrival dysarthria\",\n",
    "    \"infarction\": \"Infarction\",\n",
    "    \"arrive_by_ambulance\": \"Arrive by ambulance\",\n",
    "    \"thrombolysis_no_but_too_mild_severe\": \"Thrombolysis-No but too mild severe\",\n",
    "    \"diabetes\": \"Diabetes\",\n",
    "    \"thrombolysis_no_but_haemorrhagic\": \"Thrombolysis-No but haemorrhagic\",\n",
    "    \"nihss_arrival_motor_leg_right\": \"NIHSS arrival motor leg right\",\n",
    "    \"nihss_arrival_sensory\": \"NIHSS arrival sensory\",\n",
    "    \"afib_antiplatelet\": \"AFIB antiplatelet\",\n",
    "    \"thrombolysis_no_but_other_medical\": \"Thrombolysis-No but other medical\",\n",
    "    \"nihss_arrival_best_language\": \"NIHSS arrival best language\",\n",
    "    \"congestive_heart_failure\": \"Congestive heart failure\"\n",
    "}"
   ]
  },
  {
   "cell_type": "code",
   "execution_count": 38,
   "metadata": {},
   "outputs": [],
   "source": [
    "filename = os.path.join(paths.data_save_path, \n",
    "                        (paths.notebook + '_feature_name_dict.json'))\n",
    "\n",
    "with open(filename, \"w+\") as f:\n",
    "    json.dump(feature_name_dict, f)"
   ]
  },
  {
   "cell_type": "code",
   "execution_count": 39,
   "metadata": {},
   "outputs": [
    {
     "name": "stdout",
     "output_type": "stream",
     "text": [
      "Time taken: 62619.94206285477\n"
     ]
    }
   ],
   "source": [
    "end_time = time.time()\n",
    "\n",
    "print(f'Time taken: {end_time - start_time}')"
   ]
  }
 ],
 "metadata": {
  "kernelspec": {
   "display_name": "Python 3.10.11 ('sam10')",
   "language": "python",
   "name": "python3"
  },
  "language_info": {
   "codemirror_mode": {
    "name": "ipython",
    "version": 3
   },
   "file_extension": ".py",
   "mimetype": "text/x-python",
   "name": "python",
   "nbconvert_exporter": "python",
   "pygments_lexer": "ipython3",
   "version": "3.10.12"
  },
  "orig_nbformat": 4,
  "vscode": {
   "interpreter": {
    "hash": "f85b883bff9a8a9f39576b94acbdf6672b3dc17c35647e7395f81e785740a4b3"
   }
  }
 },
 "nbformat": 4,
 "nbformat_minor": 2
}
