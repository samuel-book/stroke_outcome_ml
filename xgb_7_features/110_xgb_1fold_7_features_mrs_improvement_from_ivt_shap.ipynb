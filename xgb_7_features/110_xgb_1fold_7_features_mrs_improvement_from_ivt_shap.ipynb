{
 "cells": [
  {
   "cell_type": "markdown",
   "metadata": {},
   "source": [
    "# Predict the predicted improvement due to thrombolysis \n",
    "For the patients in the training set calculate the SHAP improvement due to IVT - will use this as the target feature for the XGBoost model.\n",
    "\n",
    "### Plain English summary\n",
    "\n",
    "Fit an XGBoost model to predict the predicted improvement due to thrombolysis, using 7 features: \"prior_disability\", \"stroke_severity\", \"stroke_team\", \"age\", \"onset_to_thrombolysis_time\", \"any_afib_diagnosis\", \"precise_onset_known\".\n",
    "\n",
    "The target feature (the predicted improvement due to thrombolysis) is calculated in notebook 100. Calculated for the patients in the teset set that had thrombolysis, using the difference between the SHAP vlaues for feature onset_to_thrombolyiss_time when patients then didn't have treatment (setting feature value to -100)\n",
    "\n",
    "We build a XGBoost regression model to predict the predicted effect of thrombolysis treatment on disability discharge. We build a SHAP model to identify what patient features improve the benefit from thrombolysis, and which reduce the benefit from thromboylsis. We might also want to just look at characteristics of patients with a negative treatment effect, vs those with a positive treatment effect.\n",
    "\n",
    "### Model and data\n",
    "Train an XGBoost model to predict the predicted improvement due to thrombolysis.\n",
    "\n",
    "Target feature calculated in notebook 100.\n",
    "\n",
    "Use the same 7 input features as in the disability outcome model (as it's only those features that created the target feature): 1) prior_disability, 2) stroke_severity, 3) stroke_team, 4) age, 5) onset-to-thrombolysis-time, 6) any_afib_diagnosis 7) precise_onset_known\n",
    "\n",
    "Use just the first kfold split.\n",
    "\n",
    "\n",
    "### Aims\n",
    "\n",
    "\n",
    "### Observations\n",
    "\n",
    "\n",
    "\n",
    "\n",
    "#### Further work\n",
    "\n",
    "#### Resources\n",
    "Using code from https://github.com/samuel-book/samuel_shap_paper_1/blob/main/xgb_10_features/02b_xgb_combined_fit_accuracy_key_features_separate_k_fold.ipynb\n",
    "\n",
    "and https://github.com/samuel-book/samuel_shap_paper_1/blob/main/xgb_10_features/03_xgb_combined_shap_key_features.ipynb"
   ]
  },
  {
   "cell_type": "markdown",
   "metadata": {},
   "source": [
    "## Import libraries"
   ]
  },
  {
   "cell_type": "code",
   "execution_count": 1,
   "metadata": {},
   "outputs": [],
   "source": [
    "# Turn warnings off to keep notebook tidy\n",
    "import warnings\n",
    "warnings.filterwarnings(\"ignore\")\n",
    "\n",
    "import os\n",
    "import matplotlib.pyplot as plt\n",
    "from matplotlib.lines import Line2D\n",
    "import numpy as np\n",
    "import pandas as pd\n",
    "\n",
    "from xgboost import XGBClassifier\n",
    "from sklearn.metrics import auc\n",
    "from sklearn.metrics import roc_curve\n",
    "\n",
    "from dataclasses import dataclass\n",
    "\n",
    "from sklearn.metrics import roc_auc_score\n",
    "\n",
    "from sklearn.metrics import confusion_matrix\n",
    "\n",
    "import pickle\n",
    "import shap\n",
    "\n",
    "from os.path import exists\n",
    "\n",
    "import time\n",
    "import datetime\n",
    "\n",
    "from sklearn.preprocessing import StandardScaler\n",
    "from sklearn.linear_model import LogisticRegression\n",
    "from sklearn.linear_model import LinearRegression\n"
   ]
  },
  {
   "cell_type": "markdown",
   "metadata": {},
   "source": [
    "Report the time duration to run notebook"
   ]
  },
  {
   "cell_type": "code",
   "execution_count": 2,
   "metadata": {},
   "outputs": [],
   "source": [
    "start_time = time.time()"
   ]
  },
  {
   "cell_type": "markdown",
   "metadata": {},
   "source": [
    "Use just the first k-fold split, and define the target feature"
   ]
  },
  {
   "cell_type": "code",
   "execution_count": 3,
   "metadata": {},
   "outputs": [],
   "source": [
    "k = 0\n",
    "target_feature = 'predicted_shap'"
   ]
  },
  {
   "cell_type": "markdown",
   "metadata": {},
   "source": [
    "Select the features for the model"
   ]
  },
  {
   "cell_type": "code",
   "execution_count": 4,
   "metadata": {},
   "outputs": [],
   "source": [
    "selected_features = [\"prior_disability\", \"stroke_severity\", \"stroke_team\", \n",
    "                     \"age\", \"onset_to_thrombolysis_time\", \"any_afib_diagnosis\", \n",
    "                     \"precise_onset_known\"]\n",
    "n_features = len(selected_features)"
   ]
  },
  {
   "cell_type": "markdown",
   "metadata": {},
   "source": [
    "## Set up paths and filenames\n",
    "\n",
    "Use os.path.join() to create filenames. So define folders without trailing forward slash, and include all characters in file names."
   ]
  },
  {
   "cell_type": "code",
   "execution_count": 5,
   "metadata": {},
   "outputs": [],
   "source": [
    "@dataclass(frozen=True)\n",
    "class Paths:\n",
    "    '''Singleton object for storing paths to data and database.'''\n",
    "    image_save_path: str = './saved_images'\n",
    "    model_save_path: str = './saved_models'\n",
    "    data_save_path: str = './saved_data'\n",
    "    data_read_path: str = '../data_processing/output/kfold_5fold'\n",
    "    model_text: str = f'xgb_{n_features}_features_1_kfold_ivt_improvement'\n",
    "    notebook: str = '110_'\n",
    "\n",
    "paths = Paths()"
   ]
  },
  {
   "cell_type": "markdown",
   "metadata": {},
   "source": [
    "Create output folders if needed"
   ]
  },
  {
   "cell_type": "code",
   "execution_count": 6,
   "metadata": {},
   "outputs": [],
   "source": [
    "path = paths.image_save_path\n",
    "if not os.path.exists(path):\n",
    "    os.makedirs(path)\n",
    "        \n",
    "path = paths.model_save_path\n",
    "if not os.path.exists(path):\n",
    "    os.makedirs(path)\n",
    "\n",
    "path = paths.data_save_path\n",
    "if not os.path.exists(path):\n",
    "    os.makedirs(path)"
   ]
  },
  {
   "cell_type": "markdown",
   "metadata": {},
   "source": [
    "## Import data\n",
    "\n",
    "Import the first kfold split"
   ]
  },
  {
   "cell_type": "code",
   "execution_count": 7,
   "metadata": {},
   "outputs": [],
   "source": [
    "# Read in test set, restrict to chosen features, & store\n",
    "#filename = os.path.join(paths.data_read_path, '03_train_0.csv')\n",
    "#train = pd.read_csv(filename)\n",
    "#train = train[selected_features]\n",
    "\n",
    "filename = os.path.join(paths.data_read_path, '03_test_0.csv')\n",
    "test = pd.read_csv(filename)\n",
    "test = test[selected_features]"
   ]
  },
  {
   "cell_type": "markdown",
   "metadata": {},
   "source": [
    "Only keep patients that received thrombolysis (to match the data that we'll read in that contains the target feature: improvement due to thrombolysis)"
   ]
  },
  {
   "cell_type": "code",
   "execution_count": 8,
   "metadata": {},
   "outputs": [],
   "source": [
    "# mask the patients in test set that recieve IVT\n",
    "mask_get_ivt = test[\"onset_to_thrombolysis_time\"] > -100\n",
    "test = test[mask_get_ivt]"
   ]
  },
  {
   "cell_type": "markdown",
   "metadata": {},
   "source": [
    "### One hot the categorical features\n",
    "\n",
    "Convert some categorical features to one hot encoded features.\n",
    "\n",
    "Define a function"
   ]
  },
  {
   "cell_type": "code",
   "execution_count": 9,
   "metadata": {},
   "outputs": [],
   "source": [
    "def convert_feature_to_one_hot(df, feature_name, prefix):\n",
    "    \"\"\"\n",
    "    Converts a categorical feature into a one hot encoded feature\n",
    "    \n",
    "    Args:\n",
    "        df [dataframe]: training or test dataset\n",
    "        feature_name [str]: feature to convert to one hot encoding\n",
    "        prefix [str]: string to use on new feature\n",
    "\n",
    "    Return:\n",
    "        df [dataframe]: One hot encoded representation of the feature\n",
    "    \"\"\"\n",
    "\n",
    "    # One hot encode a feature\n",
    "    df_feature = pd.get_dummies(\n",
    "        df[feature_name], prefix = prefix)\n",
    "    df = pd.concat([df, df_feature], axis=1)\n",
    "    df.drop(feature_name, axis=1, inplace=True)\n",
    "\n",
    "    return(df)"
   ]
  },
  {
   "cell_type": "markdown",
   "metadata": {},
   "source": [
    "Set up two lists for the one hot encoding. \n",
    "\n",
    "A list of the feature names that are categorical and to be converted using one hot encoding.\n",
    "A list of the prefixes to use for these features."
   ]
  },
  {
   "cell_type": "code",
   "execution_count": 10,
   "metadata": {},
   "outputs": [],
   "source": [
    "features_to_one_hot = [\"stroke_team\", \"weekday\"]\n",
    "list_prefix = [\"team\", \"weekday\"]"
   ]
  },
  {
   "cell_type": "markdown",
   "metadata": {},
   "source": [
    "For each feature in the list, for each train and test dataset, convert to one hot encoded."
   ]
  },
  {
   "cell_type": "code",
   "execution_count": 12,
   "metadata": {},
   "outputs": [],
   "source": [
    "for feature, prefix in zip(features_to_one_hot, list_prefix):\n",
    "    if feature in selected_features:\n",
    "#        train = convert_feature_to_one_hot(train, feature, prefix)\n",
    "        test = convert_feature_to_one_hot(test, feature, prefix)"
   ]
  },
  {
   "cell_type": "markdown",
   "metadata": {},
   "source": [
    "Feature names with one hot encoding"
   ]
  },
  {
   "cell_type": "code",
   "execution_count": 13,
   "metadata": {},
   "outputs": [
    {
     "name": "stdout",
     "output_type": "stream",
     "text": [
      "There are 7 original features (before one-hot encoding)\n",
      "There are 124 features (after one-hot encoding)\n"
     ]
    }
   ],
   "source": [
    "features_ohe = list(test)\n",
    "n_features_ohe = len(features_ohe)\n",
    "\n",
    "print(f\"There are {n_features} original features (before one-hot encoding)\")\n",
    "print(f\"There are {n_features_ohe} features (after one-hot encoding)\")"
   ]
  },
  {
   "cell_type": "markdown",
   "metadata": {},
   "source": [
    "Read in the data that contains the target feature: improvement due to IVT use (created in notebook 100)\n",
    "\n",
    "This only contains patietns that had thrombolysis (so will need to select only those patients in the input feature dataset)"
   ]
  },
  {
   "cell_type": "code",
   "execution_count": 14,
   "metadata": {},
   "outputs": [],
   "source": [
    "filename = os.path.join(paths.data_save_path,\n",
    "                        (f\"100_xgb_{n_features}_features_1_kfold_binary\" + \n",
    "                        \"_improvement_due_to_ivt.csv\"))\n",
    "\n",
    "df_test_ivt_and_no_ivt_shap = pd.read_csv(filename)"
   ]
  },
  {
   "cell_type": "markdown",
   "metadata": {},
   "source": [
    "View file (has each patient repeated 6 times, once for each mRS threshold)"
   ]
  },
  {
   "cell_type": "code",
   "execution_count": 26,
   "metadata": {},
   "outputs": [
    {
     "data": {
      "text/plain": [
       "0        0.667180\n",
       "1        0.502605\n",
       "2        0.652915\n",
       "3        0.159988\n",
       "4        0.444915\n",
       "           ...   \n",
       "41377    0.663825\n",
       "41378   -0.211177\n",
       "41379    0.113321\n",
       "41380    0.185595\n",
       "41381    0.343665\n",
       "Name: shap_ivt_improvement, Length: 41382, dtype: float64"
      ]
     },
     "execution_count": 26,
     "metadata": {},
     "output_type": "execute_result"
    }
   ],
   "source": [
    "y_test = df_test_ivt_and_no_ivt_shap[\"shap_ivt_improvement\"]\n",
    "y_test"
   ]
  },
  {
   "cell_type": "markdown",
   "metadata": {},
   "source": [
    "Setup test by repeating the rows 6 times (to match the target feature)"
   ]
  },
  {
   "cell_type": "code",
   "execution_count": 30,
   "metadata": {},
   "outputs": [],
   "source": [
    "X_test = test.copy(deep=True)\n",
    "\n",
    "for t in range(5):\n",
    "    X_test = pd.concat([X_test, test]).reset_index(drop=True)"
   ]
  },
  {
   "cell_type": "markdown",
   "metadata": {},
   "source": [
    "# KP YOU ARE HERE.\n",
    "\n",
    "# CONTINUE IF WANT THIS ANALYSIS - CHECK WITH MIKE"
   ]
  },
  {
   "cell_type": "markdown",
   "metadata": {},
   "source": [
    "## Load XGBoost model"
   ]
  },
  {
   "cell_type": "code",
   "execution_count": null,
   "metadata": {},
   "outputs": [],
   "source": [
    "def fit_xgboost(filename, X_train, y_train):\n",
    "    \"\"\"\n",
    "    Given the filename, either load if the model exists (saved as a pickle), \n",
    "    else train a new model.\n",
    "\n",
    "    Args:\n",
    "        filename [string]: where xgboost model is saved\n",
    "        X_train [dataframe]: feature values\n",
    "        y_train [dataframe]: target feature\n",
    "        \n",
    "    Returns:\n",
    "        model [object]: xgboost classifier model\n",
    "\n",
    "    \"\"\"\n",
    "    # Check if exists\n",
    "    file_exists = exists(filename)\n",
    "\n",
    "    if file_exists:\n",
    "    # Load models\n",
    "        with open(filename, 'rb') as filehandler:\n",
    "            model = pickle.load(filehandler)\n",
    "    else:\n",
    "        # Define and Fit model\n",
    "        model = XGBClassifier(verbosity=0, seed=42, learning_rate=0.5,\n",
    "                              tree_method='gpu_hist')\n",
    "        model.fit(X_train, y_train)\n",
    "\n",
    "        # Save using pickle\n",
    "        with open(filename, 'wb') as filehandler:\n",
    "            pickle.dump(model, filehandler)\n",
    "\n",
    "    return(model)"
   ]
  },
  {
   "cell_type": "code",
   "execution_count": null,
   "metadata": {},
   "outputs": [],
   "source": [
    "def calculate_shap_extended(shap_extended_filename, explainer_filename, model, \n",
    "                            X_data, X_background):\n",
    "    \"\"\"\n",
    "    TreeExplainer is a fast and exact method to estimate SHAP values for tree \n",
    "    models and ensembles of trees. Using this we can calculate the SHAP values.\n",
    "\n",
    "    Either load from pickle (if file exists), or calculate.\n",
    "\n",
    "    Args:\n",
    "        model [xgboost classification model object]: xgboost object\n",
    "        k [integer]: kfold number\n",
    "        X_train [dataframe]: training set (used as background data)\n",
    "        X_test [dtaframe]: test set (to calculate the SHAP values for)\n",
    "\n",
    "    Return:\n",
    "        shap_values_extended [dictionary]: the extended shap values (contains \n",
    "                    .values, .base, and .data)\n",
    "        \n",
    "    \"\"\"    \n",
    "    # Check if exists\n",
    "    file_exists = exists(shap_extended_filename)\n",
    "\n",
    "    if file_exists:\n",
    "        # Load SHAP values extended\n",
    "        with open(shap_extended_filename, 'rb') as filehandler:\n",
    "            shap_values_extended = pickle.load(filehandler)\n",
    "    else:\n",
    "        # Calculate SHAP values extended\n",
    "\n",
    "        # Set up explainer using the model and feature values from training set\n",
    "        explainer = shap.TreeExplainer(model, X_background)\n",
    "\n",
    "        # Get (and store) Shapley values along with base and feature values\n",
    "        shap_values_extended = explainer(X_data)\n",
    "\n",
    "        # Save explainer using pickle\n",
    "        with open(explainer_filename, 'wb') as filehandler:\n",
    "            pickle.dump(explainer, filehandler)\n",
    "            \n",
    "        # Save shap values extendedr using pickle\n",
    "        with open(shap_extended_filename, 'wb') as filehandler:\n",
    "            pickle.dump(shap_values_extended, filehandler)\n",
    "            \n",
    "    return(shap_values_extended)"
   ]
  },
  {
   "cell_type": "markdown",
   "metadata": {},
   "source": [
    "# NEED TO WORK OUT WHAT HAPPENONG ONWARDS, AND IF NEED FOR THE GITHUB REPOSITORY"
   ]
  },
  {
   "cell_type": "markdown",
   "metadata": {},
   "source": [
    "Calculate SHAP values for the improvement due to thrombolysis for the patients in the training set (want the SHAP improvement due to IVT for the training set - will use this as the target feature in a later XGBoost model)"
   ]
  },
  {
   "cell_type": "code",
   "execution_count": null,
   "metadata": {},
   "outputs": [],
   "source": [
    "model_threshold = []\n",
    "\n",
    "for t in range(6):\n",
    "    binary_target_feature = f'binary_{t}'\n",
    "    y_train = convert_feature_to_binary(y_train_orig, t)\n",
    "    y_test = convert_feature_to_binary(y_test_orig, t)\n",
    "\n",
    "    # Model filename\n",
    "    filename = os.path.join(paths.model_save_path, \n",
    "                            (paths.notebook + paths.model_text + '_' +\n",
    "                             str(t) + '.p'))\n",
    "    \n",
    "    model_threshold.append()\n",
    "    "
   ]
  },
  {
   "cell_type": "code",
   "execution_count": null,
   "metadata": {},
   "outputs": [
    {
     "name": "stderr",
     "output_type": "stream",
     "text": [
      " 99%|===================| 133598/134677 [01:28<00:00]        "
     ]
    },
    {
     "ename": "IndexError",
     "evalue": "list index out of range",
     "output_type": "error",
     "traceback": [
      "\u001b[0;31m---------------------------------------------------------------------------\u001b[0m",
      "\u001b[0;31mIndexError\u001b[0m                                Traceback (most recent call last)",
      "\u001b[1;32m/home/kerry/Documents/GitHub/stroke_outcome_ml/xgb_7_features/100_xgb_1fold_7_features_ivtshap_vs_otttime.ipynb Cell 59\u001b[0m line \u001b[0;36m1\n\u001b[1;32m     <a href='vscode-notebook-cell:/home/kerry/Documents/GitHub/stroke_outcome_ml/xgb_7_features/100_xgb_1fold_7_features_ivtshap_vs_otttime.ipynb#Y105sZmlsZQ%3D%3D?line=13'>14</a>\u001b[0m     shap_values_train_no_ivt_threshold\u001b[39m.\u001b[39mappend(shap_values_train_extended_no_ivt\u001b[39m.\u001b[39mvalues)\n\u001b[1;32m     <a href='vscode-notebook-cell:/home/kerry/Documents/GitHub/stroke_outcome_ml/xgb_7_features/100_xgb_1fold_7_features_ivtshap_vs_otttime.ipynb#Y105sZmlsZQ%3D%3D?line=15'>16</a>\u001b[0m \u001b[39m# Create a dataframe for the patients in the training set that got IVT (as need the onset to treatment time). \u001b[39;00m\n\u001b[1;32m     <a href='vscode-notebook-cell:/home/kerry/Documents/GitHub/stroke_outcome_ml/xgb_7_features/100_xgb_1fold_7_features_ivtshap_vs_otttime.ipynb#Y105sZmlsZQ%3D%3D?line=16'>17</a>\u001b[0m \u001b[39m# A row per patient. Store the features needed for the plot, and the SHAP for getting IVT at their onset to treatment time, and their SHAP if not get IVT.\u001b[39;00m\n\u001b[0;32m---> <a href='vscode-notebook-cell:/home/kerry/Documents/GitHub/stroke_outcome_ml/xgb_7_features/100_xgb_1fold_7_features_ivtshap_vs_otttime.ipynb#Y105sZmlsZQ%3D%3D?line=17'>18</a>\u001b[0m df_train_ivt_and_no_ivt_shap \u001b[39m=\u001b[39m create_df_with_without_ivt(X_train,\n\u001b[1;32m     <a href='vscode-notebook-cell:/home/kerry/Documents/GitHub/stroke_outcome_ml/xgb_7_features/100_xgb_1fold_7_features_ivtshap_vs_otttime.ipynb#Y105sZmlsZQ%3D%3D?line=18'>19</a>\u001b[0m                 shap_values_train_threshold, shap_values_train_no_ivt_threshold)\n\u001b[1;32m     <a href='vscode-notebook-cell:/home/kerry/Documents/GitHub/stroke_outcome_ml/xgb_7_features/100_xgb_1fold_7_features_ivtshap_vs_otttime.ipynb#Y105sZmlsZQ%3D%3D?line=19'>20</a>\u001b[0m df_train_ivt_and_no_ivt_shap\u001b[39m.\u001b[39mhead()\n",
      "\u001b[1;32m/home/kerry/Documents/GitHub/stroke_outcome_ml/xgb_7_features/100_xgb_1fold_7_features_ivtshap_vs_otttime.ipynb Cell 59\u001b[0m line \u001b[0;36m1\n\u001b[1;32m     <a href='vscode-notebook-cell:/home/kerry/Documents/GitHub/stroke_outcome_ml/xgb_7_features/100_xgb_1fold_7_features_ivtshap_vs_otttime.ipynb#Y105sZmlsZQ%3D%3D?line=16'>17</a>\u001b[0m df_temp[\u001b[39mf\u001b[39m\u001b[39m\"\u001b[39m\u001b[39mmRS_threshold\u001b[39m\u001b[39m\"\u001b[39m] \u001b[39m=\u001b[39m t\n\u001b[1;32m     <a href='vscode-notebook-cell:/home/kerry/Documents/GitHub/stroke_outcome_ml/xgb_7_features/100_xgb_1fold_7_features_ivtshap_vs_otttime.ipynb#Y105sZmlsZQ%3D%3D?line=17'>18</a>\u001b[0m \u001b[39m# Get SHAP values for this threshold\u001b[39;00m\n\u001b[0;32m---> <a href='vscode-notebook-cell:/home/kerry/Documents/GitHub/stroke_outcome_ml/xgb_7_features/100_xgb_1fold_7_features_ivtshap_vs_otttime.ipynb#Y105sZmlsZQ%3D%3D?line=18'>19</a>\u001b[0m sv \u001b[39m=\u001b[39m shap_values_extended_ivt_threshold[t]\u001b[39m.\u001b[39mvalues\n\u001b[1;32m     <a href='vscode-notebook-cell:/home/kerry/Documents/GitHub/stroke_outcome_ml/xgb_7_features/100_xgb_1fold_7_features_ivtshap_vs_otttime.ipynb#Y105sZmlsZQ%3D%3D?line=19'>20</a>\u001b[0m sv_not \u001b[39m=\u001b[39m shap_values_extended_no_ivt_threshold[t]\u001b[39m.\u001b[39mvalues\n\u001b[1;32m     <a href='vscode-notebook-cell:/home/kerry/Documents/GitHub/stroke_outcome_ml/xgb_7_features/100_xgb_1fold_7_features_ivtshap_vs_otttime.ipynb#Y105sZmlsZQ%3D%3D?line=21'>22</a>\u001b[0m \u001b[39m# Store the SHAP values for feature onset_to_thrombolysis_time\u001b[39;00m\n",
      "\u001b[0;31mIndexError\u001b[0m: list index out of range"
     ]
    }
   ],
   "source": [
    "X_train_no_ivt = X_train.copy(deep=True)\n",
    "X_train_no_ivt[\"onset_to_thrombolysis_time\"] = -100\n",
    "shap_values_train_no_ivt_threshold = []\n",
    "\n",
    "# Loop through thresholds folds. Get model and get SHAP for patients not getting IVT\n",
    "for t in range(6):\n",
    "    model = model_threshold[t]\n",
    "    \n",
    "    # Set up explainer using the model and feature values from training set\n",
    "    explainer = shap.TreeExplainer(model, X_train)\n",
    "\n",
    "    # Get (and store) Shapley values along with base and feature values\n",
    "    shap_values_train_extended_no_ivt = explainer(X_train_no_ivt)\n",
    "    shap_values_train_no_ivt_threshold.append(shap_values_train_extended_no_ivt.values)\n",
    "\n",
    "# Create a dataframe for the patients in the training set that got IVT (as need the onset to treatment time). \n",
    "# A row per patient. Store the features needed for the plot, and the SHAP for getting IVT at their onset to treatment time, and their SHAP if not get IVT.\n",
    "df_train_ivt_and_no_ivt_shap = create_df_with_without_ivt(X_train,\n",
    "                shap_values_train_threshold, shap_values_train_no_ivt_threshold)\n",
    "df_train_ivt_and_no_ivt_shap.head()"
   ]
  },
  {
   "cell_type": "code",
   "execution_count": null,
   "metadata": {},
   "outputs": [],
   "source": [
    "mask_train_get_ivt = X_train[\"onset_to_thrombolysis_time\"] > -100\n",
    "X_train_get_ivt = X_train[mask_train_get_ivt]\n",
    "mask_test_get_ivt = X_test[\"onset_to_thrombolysis_time\"] > -100\n",
    "X_test_get_ivt = X_test[mask_test_get_ivt]"
   ]
  },
  {
   "cell_type": "code",
   "execution_count": null,
   "metadata": {},
   "outputs": [],
   "source": [
    "t = 0\n",
    "\n",
    "# get the target feature: the SHAP for improvement due to IVT \n",
    "# (wrt the mRS threshold)\n",
    "mask_train_mrs = df_train_ivt_and_no_ivt_shap[\"mRS_threshold\"] == t\n",
    "y_train_shap_improvement_from_ivt  = df_train_ivt_and_no_ivt_shap[\"shap_ivt_improvement\"][mask_train_mrs]\n",
    "mask_test_mrs = df_test_ivt_and_no_ivt_shap[\"mRS_threshold\"] == t \n",
    "y_test_shap_improvement_from_ivt = df_test_ivt_and_no_ivt_shap[\"shap_ivt_improvement\"][mask_test_mrs]"
   ]
  },
  {
   "cell_type": "code",
   "execution_count": null,
   "metadata": {},
   "outputs": [
    {
     "data": {
      "text/plain": [
       "0           6\n",
       "1           7\n",
       "2          12\n",
       "3          15\n",
       "4          16\n",
       "        ...  \n",
       "6892    33652\n",
       "6893    33656\n",
       "6894    33657\n",
       "6895    33666\n",
       "6896    33669\n",
       "Name: patient_id, Length: 6897, dtype: object"
      ]
     },
     "execution_count": 120,
     "metadata": {},
     "output_type": "execute_result"
    }
   ],
   "source": [
    "df_test_ivt_and_no_ivt_shap[mask_test_mrs][\"patient_id\"]"
   ]
  },
  {
   "cell_type": "code",
   "execution_count": null,
   "metadata": {},
   "outputs": [
    {
     "name": "stderr",
     "output_type": "stream",
     "text": [
      "100%|===================| 33559/33670 [00:23<00:00]        "
     ]
    }
   ],
   "source": [
    "r_square_threshold = []\n",
    "roc_auc_ovr_threshold = []\n",
    "accuracy_threshold = []\n",
    "error_within_one_threshold = []\n",
    "feature_importance_threshold = []\n",
    "y_probs_threshold = []\n",
    "y_pred_threshold = []\n",
    "model_threshold = []\n",
    "shap_values_extended_si_threshold = []\n",
    "shap_values_si_threshold = []\n",
    "\n",
    "# Loop through mRS thresholds\n",
    "for t in range(6):\n",
    "\n",
    "    # set string for output\n",
    "    binary_target_feature = f'binary_{t}'\n",
    "\n",
    "    # get the target feature: the SHAP for improvement due to IVT \n",
    "    # (wrt the mRS threshold)\n",
    "    mask_train_mrs = df_train_ivt_and_no_ivt_shap[\"mRS_threshold\"] == t\n",
    "    y_train_shap_improvement_from_ivt = df_train_ivt_and_no_ivt_shap[\"shap_ivt_improvement\"][mask_train_mrs]\n",
    "    X_train_ivt = X_train[mask_train_mrs]\n",
    "    mask_test_mrs = df_test_ivt_and_no_ivt_shap[\"mRS_threshold\"] = t \n",
    "    y_test_shap_improvement_from_ivt = df_test_ivt_and_no_ivt_shap[\"shap_ivt_improvement\"][mask_test_mrs]\n",
    "\n",
    "    #check the patient ID match up between these two data sources\n",
    "\n",
    "\n",
    "    # Model filename\n",
    "    filename = os.path.join(paths.model_save_path, (paths.notebook + \n",
    "                            paths.model_text + '_' + str(t) + \n",
    "                            '_shapimprovment.p'))\n",
    "    # Check if exists\n",
    "    file_exists = exists(filename)\n",
    "\n",
    "    if file_exists:\n",
    "    # Load models\n",
    "        with open(filename, 'rb') as filehandler:\n",
    "            model = pickle.load(filehandler)\n",
    "            model_threshold.append(model)        \n",
    "    else:\n",
    "        # Define and Fit model\n",
    "        model = XGBClassifier(verbosity=0, seed=42, learning_rate=0.5,\n",
    "                              tree_method='gpu_hist')\n",
    "        model.fit(X_train, y_train_shap_improvement_from_ivt)\n",
    "        model_threshold.append(model)\n",
    "\n",
    "        # Save using pickle\n",
    "        filename = os.path.join(paths.model_save_path, (paths.notebook + \n",
    "                                paths.model_text + '_' + str(t) + \n",
    "                                '_shapimprovment.p'))\n",
    "        with open(filename, 'wb') as filehandler:\n",
    "            pickle.dump(model_threshold[t], filehandler)\n",
    "    \n",
    "    # Get target categories from model\n",
    "    classes = model.classes_\n",
    "\n",
    "    # Get and store predicted probabilities\n",
    "    y_probs = model.predict_proba(X_test)\n",
    "    y_probs_threshold.append(y_probs)#[:,1])\n",
    "\n",
    "    # Get and store predicted class\n",
    "    y_pred = model.predict(X_test)\n",
    "    y_pred_threshold.append(y_pred)\n",
    "\n",
    "    # Calculate ROC AUC for multiclass models, using One vs Rest\n",
    "    roc_auc_ovr = roc_auc_score(y_test_shap_improvement_from_ivt, y_probs[:,1], \n",
    "                                labels = classes, \n",
    "                                multi_class = 'ovr', average = 'macro')\n",
    "    roc_auc_ovr_threshold.append(roc_auc_ovr)\n",
    "\n",
    "    # Calculate error\n",
    "    y_error = y_test_shap_improvement_from_ivt - y_pred\n",
    "    accuracy = np.mean(y_error==0)\n",
    "    accuracy_threshold.append(accuracy)\n",
    "\n",
    "    error_within_one = np.mean(np.abs(y_error)<=1)\n",
    "    error_within_one_threshold.append(error_within_one)\n",
    "\n",
    "    # Get and store feature importances\n",
    "    feature_importance = model.feature_importances_\n",
    "    feature_importance_threshold.append(feature_importance)\n",
    "\n",
    "    # Set filename\n",
    "    shap_filename = os.path.join(paths.data_save_path, (paths.notebook + \n",
    "                                paths.model_text + '_' + str(t) + \n",
    "                                '_shapimprovment_shap_values_extended.p'))\n",
    "    # Check if exists\n",
    "    file_exists = exists(shap_filename)\n",
    "\n",
    "    if file_exists:\n",
    "        # Load explainer\n",
    "        with open(shap_filename, 'rb') as filehandler:\n",
    "            shap_values_extended = pickle.load(filehandler)\n",
    "            shap_values = shap_values_extended.values\n",
    "            shap_values_si_threshold.append(shap_values)     \n",
    "    else:\n",
    "        # Get and store SHAP values\n",
    "        # Set up explainer using the model and feature values from training set\n",
    "        explainer = shap.TreeExplainer(model, X_train)\n",
    "\n",
    "        # Get (and store) Shapley values along with base and feature values\n",
    "        shap_values_extended = explainer(X_test)\n",
    "        shap_values_extended_si_threshold.append(shap_values_extended)\n",
    "        # Shap values exist for each classification in a Tree\n",
    "        # We are interested in 1=give thrombolysis (not 0=not give thrombolysis)\n",
    "        shap_values = shap_values_extended.values\n",
    "        shap_values_si_threshold.append(shap_values)     \n",
    "\n",
    "        explainer_filename = os.path.join(paths.model_save_path, \n",
    "                                          (paths.notebook + paths.model_text + \n",
    "                                           '_' + str(t) + \n",
    "                                           '_shapimprovment_shap_explainer.p'))\n",
    "\n",
    "        # Save explainer using pickle\n",
    "        with open(explainer_filename, 'wb') as filehandler:\n",
    "            pickle.dump(explainer, filehandler)\n",
    "            \n",
    "        # Save shap values extendedr using pickle\n",
    "        with open(shap_filename, 'wb') as filehandler:\n",
    "            pickle.dump(shap_values_extended, filehandler)\n"
   ]
  },
  {
   "cell_type": "code",
   "execution_count": null,
   "metadata": {},
   "outputs": [
    {
     "ename": "NameError",
     "evalue": "name 'df_not_ivt_shap' is not defined",
     "output_type": "error",
     "traceback": [
      "\u001b[0;31m---------------------------------------------------------------------------\u001b[0m",
      "\u001b[0;31mNameError\u001b[0m                                 Traceback (most recent call last)",
      "\u001b[1;32m/home/kerry/Documents/GitHub/stroke_outcome_ml/xgb_7_features/100_xgb_1fold_7_features_ivtshap_vs_otttime.ipynb Cell 63\u001b[0m line \u001b[0;36m2\n\u001b[1;32m      <a href='vscode-notebook-cell:/home/kerry/Documents/GitHub/stroke_outcome_ml/xgb_7_features/100_xgb_1fold_7_features_ivtshap_vs_otttime.ipynb#Y132sZmlsZQ%3D%3D?line=0'>1</a>\u001b[0m t\u001b[39m=\u001b[39m\u001b[39m1\u001b[39m\n\u001b[0;32m----> <a href='vscode-notebook-cell:/home/kerry/Documents/GitHub/stroke_outcome_ml/xgb_7_features/100_xgb_1fold_7_features_ivtshap_vs_otttime.ipynb#Y132sZmlsZQ%3D%3D?line=1'>2</a>\u001b[0m mask \u001b[39m=\u001b[39m (df_not_ivt_shap[\u001b[39m\"\u001b[39m\u001b[39mmRS_threshold\u001b[39m\u001b[39m\"\u001b[39m]\u001b[39m==\u001b[39mt)\n",
      "\u001b[0;31mNameError\u001b[0m: name 'df_not_ivt_shap' is not defined"
     ]
    }
   ],
   "source": [
    "t=1\n",
    "mask = (df_not_ivt_shap[\"mRS_threshold\"]==t)\n",
    "#"
   ]
  },
  {
   "cell_type": "code",
   "execution_count": null,
   "metadata": {},
   "outputs": [
    {
     "data": {
      "text/plain": [
       "0       -0.166807\n",
       "1       -0.047152\n",
       "2       -0.011488\n",
       "3       -0.061943\n",
       "4       -0.065017\n",
       "           ...   \n",
       "26768   -0.047805\n",
       "26769   -0.046907\n",
       "26770   -0.051523\n",
       "26771   -0.095337\n",
       "26772   -0.032208\n",
       "Name: shap_ivt, Length: 26773, dtype: float64"
      ]
     },
     "execution_count": 209,
     "metadata": {},
     "output_type": "execute_result"
    }
   ],
   "source": [
    "df_not_ivt_shap[\"shap_ivt\"][mask]"
   ]
  },
  {
   "cell_type": "code",
   "execution_count": null,
   "metadata": {},
   "outputs": [
    {
     "data": {
      "text/html": [
       "<div>\n",
       "<style scoped>\n",
       "    .dataframe tbody tr th:only-of-type {\n",
       "        vertical-align: middle;\n",
       "    }\n",
       "\n",
       "    .dataframe tbody tr th {\n",
       "        vertical-align: top;\n",
       "    }\n",
       "\n",
       "    .dataframe thead th {\n",
       "        text-align: right;\n",
       "    }\n",
       "</style>\n",
       "<table border=\"1\" class=\"dataframe\">\n",
       "  <thead>\n",
       "    <tr style=\"text-align: right;\">\n",
       "      <th></th>\n",
       "      <th>patient_id</th>\n",
       "    </tr>\n",
       "  </thead>\n",
       "  <tbody>\n",
       "    <tr>\n",
       "      <th>0</th>\n",
       "      <td>0</td>\n",
       "    </tr>\n",
       "    <tr>\n",
       "      <th>1</th>\n",
       "      <td>1</td>\n",
       "    </tr>\n",
       "    <tr>\n",
       "      <th>2</th>\n",
       "      <td>2</td>\n",
       "    </tr>\n",
       "    <tr>\n",
       "      <th>3</th>\n",
       "      <td>3</td>\n",
       "    </tr>\n",
       "    <tr>\n",
       "      <th>4</th>\n",
       "      <td>4</td>\n",
       "    </tr>\n",
       "    <tr>\n",
       "      <th>...</th>\n",
       "      <td>...</td>\n",
       "    </tr>\n",
       "    <tr>\n",
       "      <th>26768</th>\n",
       "      <td>33663</td>\n",
       "    </tr>\n",
       "    <tr>\n",
       "      <th>26769</th>\n",
       "      <td>33664</td>\n",
       "    </tr>\n",
       "    <tr>\n",
       "      <th>26770</th>\n",
       "      <td>33665</td>\n",
       "    </tr>\n",
       "    <tr>\n",
       "      <th>26771</th>\n",
       "      <td>33667</td>\n",
       "    </tr>\n",
       "    <tr>\n",
       "      <th>26772</th>\n",
       "      <td>33668</td>\n",
       "    </tr>\n",
       "  </tbody>\n",
       "</table>\n",
       "<p>26773 rows × 1 columns</p>\n",
       "</div>"
      ],
      "text/plain": [
       "       patient_id\n",
       "0               0\n",
       "1               1\n",
       "2               2\n",
       "3               3\n",
       "4               4\n",
       "...           ...\n",
       "26768       33663\n",
       "26769       33664\n",
       "26770       33665\n",
       "26771       33667\n",
       "26772       33668\n",
       "\n",
       "[26773 rows x 1 columns]"
      ]
     },
     "execution_count": 196,
     "metadata": {},
     "output_type": "execute_result"
    }
   ],
   "source": [
    "df_not_ivt_shap_hist = pd.DataFrame()\n",
    "#            columns=[\"patient_id\", \"mRS0\",_\"mRS1\",\"mRS2\",\"mRS3\",\"mRS4\",\"mRS5\"])\n",
    "\n",
    "df_not_ivt_shap_hist[\"patient_id\"] = mask_not_get_ivt.index[mask_not_get_ivt]\n",
    "df_not_ivt_shap_hist"
   ]
  },
  {
   "cell_type": "code",
   "execution_count": null,
   "metadata": {},
   "outputs": [],
   "source": [
    "t=0\n",
    "mask = (df_not_ivt_shap[\"mRS_threshold\"]==t) * 1\n"
   ]
  },
  {
   "cell_type": "code",
   "execution_count": null,
   "metadata": {},
   "outputs": [
    {
     "data": {
      "text/plain": [
       "1   -0.023642\n",
       "1   -0.047152\n",
       "1   -0.052457\n",
       "1   -0.002041\n",
       "1    0.007191\n",
       "       ...   \n",
       "0   -0.166807\n",
       "0   -0.166404\n",
       "0   -0.126442\n",
       "0   -0.050259\n",
       "0   -0.062451\n",
       "Name: shap_ivt, Length: 963828, dtype: float64"
      ]
     },
     "execution_count": 201,
     "metadata": {},
     "output_type": "execute_result"
    }
   ],
   "source": [
    "df_not_ivt_shap[\"shap_ivt\"][mask]"
   ]
  },
  {
   "cell_type": "code",
   "execution_count": null,
   "metadata": {},
   "outputs": [],
   "source": [
    "df_not_ivt_shap_hist[f\"mRS{t}\"] = df_not_ivt_shap[\"shap_ivt\"][mask]\n",
    "\n",
    "df_not_ivt_shap_hist"
   ]
  },
  {
   "cell_type": "code",
   "execution_count": null,
   "metadata": {},
   "outputs": [
    {
     "data": {
      "text/html": [
       "<div>\n",
       "<style scoped>\n",
       "    .dataframe tbody tr th:only-of-type {\n",
       "        vertical-align: middle;\n",
       "    }\n",
       "\n",
       "    .dataframe tbody tr th {\n",
       "        vertical-align: top;\n",
       "    }\n",
       "\n",
       "    .dataframe thead th {\n",
       "        text-align: right;\n",
       "    }\n",
       "</style>\n",
       "<table border=\"1\" class=\"dataframe\">\n",
       "  <thead>\n",
       "    <tr style=\"text-align: right;\">\n",
       "      <th></th>\n",
       "      <th>patient_id</th>\n",
       "      <th>mRS0</th>\n",
       "      <th>mRS1</th>\n",
       "      <th>mRS2</th>\n",
       "      <th>mRS3</th>\n",
       "      <th>mRS4</th>\n",
       "      <th>mRS5</th>\n",
       "    </tr>\n",
       "  </thead>\n",
       "  <tbody>\n",
       "    <tr>\n",
       "      <th>0</th>\n",
       "      <td>0</td>\n",
       "      <td>-0.099839</td>\n",
       "      <td>-0.166807</td>\n",
       "      <td>-0.166404</td>\n",
       "      <td>-0.126442</td>\n",
       "      <td>-0.050259</td>\n",
       "      <td>-0.062451</td>\n",
       "    </tr>\n",
       "    <tr>\n",
       "      <th>1</th>\n",
       "      <td>1</td>\n",
       "      <td>-0.023642</td>\n",
       "      <td>-0.047152</td>\n",
       "      <td>-0.052457</td>\n",
       "      <td>-0.002041</td>\n",
       "      <td>0.007191</td>\n",
       "      <td>-0.048604</td>\n",
       "    </tr>\n",
       "    <tr>\n",
       "      <th>2</th>\n",
       "      <td>2</td>\n",
       "      <td>-0.054853</td>\n",
       "      <td>-0.011488</td>\n",
       "      <td>0.017904</td>\n",
       "      <td>-0.018028</td>\n",
       "      <td>0.015476</td>\n",
       "      <td>0.007878</td>\n",
       "    </tr>\n",
       "    <tr>\n",
       "      <th>3</th>\n",
       "      <td>3</td>\n",
       "      <td>-0.073782</td>\n",
       "      <td>-0.061943</td>\n",
       "      <td>-0.071805</td>\n",
       "      <td>-0.054383</td>\n",
       "      <td>-0.029267</td>\n",
       "      <td>-0.056903</td>\n",
       "    </tr>\n",
       "    <tr>\n",
       "      <th>4</th>\n",
       "      <td>4</td>\n",
       "      <td>-0.141552</td>\n",
       "      <td>-0.065017</td>\n",
       "      <td>-0.052700</td>\n",
       "      <td>-0.038531</td>\n",
       "      <td>-0.025879</td>\n",
       "      <td>-0.027960</td>\n",
       "    </tr>\n",
       "    <tr>\n",
       "      <th>...</th>\n",
       "      <td>...</td>\n",
       "      <td>...</td>\n",
       "      <td>...</td>\n",
       "      <td>...</td>\n",
       "      <td>...</td>\n",
       "      <td>...</td>\n",
       "      <td>...</td>\n",
       "    </tr>\n",
       "    <tr>\n",
       "      <th>26768</th>\n",
       "      <td>33663</td>\n",
       "      <td>-0.018078</td>\n",
       "      <td>-0.047805</td>\n",
       "      <td>-0.034776</td>\n",
       "      <td>-0.043087</td>\n",
       "      <td>-0.053411</td>\n",
       "      <td>-0.047012</td>\n",
       "    </tr>\n",
       "    <tr>\n",
       "      <th>26769</th>\n",
       "      <td>33664</td>\n",
       "      <td>-0.029461</td>\n",
       "      <td>-0.046907</td>\n",
       "      <td>-0.041286</td>\n",
       "      <td>-0.012281</td>\n",
       "      <td>0.025063</td>\n",
       "      <td>-0.003881</td>\n",
       "    </tr>\n",
       "    <tr>\n",
       "      <th>26770</th>\n",
       "      <td>33665</td>\n",
       "      <td>-0.063849</td>\n",
       "      <td>-0.051523</td>\n",
       "      <td>-0.034569</td>\n",
       "      <td>0.000410</td>\n",
       "      <td>0.029581</td>\n",
       "      <td>0.010270</td>\n",
       "    </tr>\n",
       "    <tr>\n",
       "      <th>26771</th>\n",
       "      <td>33667</td>\n",
       "      <td>-0.084796</td>\n",
       "      <td>-0.095337</td>\n",
       "      <td>-0.091491</td>\n",
       "      <td>-0.080734</td>\n",
       "      <td>-0.051906</td>\n",
       "      <td>-0.074080</td>\n",
       "    </tr>\n",
       "    <tr>\n",
       "      <th>26772</th>\n",
       "      <td>33668</td>\n",
       "      <td>-0.078092</td>\n",
       "      <td>-0.032208</td>\n",
       "      <td>0.009488</td>\n",
       "      <td>-0.009156</td>\n",
       "      <td>0.114398</td>\n",
       "      <td>0.094911</td>\n",
       "    </tr>\n",
       "  </tbody>\n",
       "</table>\n",
       "<p>26773 rows × 7 columns</p>\n",
       "</div>"
      ],
      "text/plain": [
       "       patient_id      mRS0      mRS1      mRS2      mRS3      mRS4      mRS5\n",
       "0               0 -0.099839 -0.166807 -0.166404 -0.126442 -0.050259 -0.062451\n",
       "1               1 -0.023642 -0.047152 -0.052457 -0.002041  0.007191 -0.048604\n",
       "2               2 -0.054853 -0.011488  0.017904 -0.018028  0.015476  0.007878\n",
       "3               3 -0.073782 -0.061943 -0.071805 -0.054383 -0.029267 -0.056903\n",
       "4               4 -0.141552 -0.065017 -0.052700 -0.038531 -0.025879 -0.027960\n",
       "...           ...       ...       ...       ...       ...       ...       ...\n",
       "26768       33663 -0.018078 -0.047805 -0.034776 -0.043087 -0.053411 -0.047012\n",
       "26769       33664 -0.029461 -0.046907 -0.041286 -0.012281  0.025063 -0.003881\n",
       "26770       33665 -0.063849 -0.051523 -0.034569  0.000410  0.029581  0.010270\n",
       "26771       33667 -0.084796 -0.095337 -0.091491 -0.080734 -0.051906 -0.074080\n",
       "26772       33668 -0.078092 -0.032208  0.009488 -0.009156  0.114398  0.094911\n",
       "\n",
       "[26773 rows x 7 columns]"
      ]
     },
     "execution_count": 210,
     "metadata": {},
     "output_type": "execute_result"
    }
   ],
   "source": [
    "df_not_ivt_shap_hist = pd.DataFrame()\n",
    "#            columns=[\"patient_id\", \"mRS0\",\"mRS1\",\"mRS2\",\"mRS3\",\"mRS4\",\"mRS5\"])\n",
    "\n",
    "df_not_ivt_shap_hist[\"patient_id\"] = mask_not_get_ivt.index[mask_not_get_ivt]\n",
    "for t in range(6):\n",
    "    mask = (df_not_ivt_shap[\"mRS_threshold\"]==t)\n",
    "\n",
    "    df_not_ivt_shap_hist[f\"mRS{t}\"] = df_not_ivt_shap[\"shap_ivt\"][mask]\n",
    "\n",
    "df_not_ivt_shap_hist"
   ]
  },
  {
   "cell_type": "code",
   "execution_count": null,
   "metadata": {},
   "outputs": [
    {
     "data": {
      "text/html": [
       "<div>\n",
       "<style scoped>\n",
       "    .dataframe tbody tr th:only-of-type {\n",
       "        vertical-align: middle;\n",
       "    }\n",
       "\n",
       "    .dataframe tbody tr th {\n",
       "        vertical-align: top;\n",
       "    }\n",
       "\n",
       "    .dataframe thead th {\n",
       "        text-align: right;\n",
       "    }\n",
       "</style>\n",
       "<table border=\"1\" class=\"dataframe\">\n",
       "  <thead>\n",
       "    <tr style=\"text-align: right;\">\n",
       "      <th></th>\n",
       "      <th>patient_id</th>\n",
       "      <th>mRS0</th>\n",
       "      <th>mRS1</th>\n",
       "      <th>mRS2</th>\n",
       "      <th>mRS3</th>\n",
       "      <th>mRS4</th>\n",
       "      <th>mRS5</th>\n",
       "    </tr>\n",
       "  </thead>\n",
       "  <tbody>\n",
       "    <tr>\n",
       "      <th>0</th>\n",
       "      <td>0</td>\n",
       "      <td>-0.099839</td>\n",
       "      <td>-0.166807</td>\n",
       "      <td>-0.166404</td>\n",
       "      <td>-0.126442</td>\n",
       "      <td>-0.050259</td>\n",
       "      <td>-0.062451</td>\n",
       "    </tr>\n",
       "    <tr>\n",
       "      <th>1</th>\n",
       "      <td>1</td>\n",
       "      <td>-0.023642</td>\n",
       "      <td>-0.047152</td>\n",
       "      <td>-0.052457</td>\n",
       "      <td>-0.002041</td>\n",
       "      <td>0.007191</td>\n",
       "      <td>-0.048604</td>\n",
       "    </tr>\n",
       "    <tr>\n",
       "      <th>2</th>\n",
       "      <td>2</td>\n",
       "      <td>-0.054853</td>\n",
       "      <td>-0.011488</td>\n",
       "      <td>0.017904</td>\n",
       "      <td>-0.018028</td>\n",
       "      <td>0.015476</td>\n",
       "      <td>0.007878</td>\n",
       "    </tr>\n",
       "    <tr>\n",
       "      <th>3</th>\n",
       "      <td>3</td>\n",
       "      <td>-0.073782</td>\n",
       "      <td>-0.061943</td>\n",
       "      <td>-0.071805</td>\n",
       "      <td>-0.054383</td>\n",
       "      <td>-0.029267</td>\n",
       "      <td>-0.056903</td>\n",
       "    </tr>\n",
       "    <tr>\n",
       "      <th>4</th>\n",
       "      <td>4</td>\n",
       "      <td>-0.141552</td>\n",
       "      <td>-0.065017</td>\n",
       "      <td>-0.052700</td>\n",
       "      <td>-0.038531</td>\n",
       "      <td>-0.025879</td>\n",
       "      <td>-0.027960</td>\n",
       "    </tr>\n",
       "    <tr>\n",
       "      <th>...</th>\n",
       "      <td>...</td>\n",
       "      <td>...</td>\n",
       "      <td>...</td>\n",
       "      <td>...</td>\n",
       "      <td>...</td>\n",
       "      <td>...</td>\n",
       "      <td>...</td>\n",
       "    </tr>\n",
       "    <tr>\n",
       "      <th>26768</th>\n",
       "      <td>33663</td>\n",
       "      <td>-0.018078</td>\n",
       "      <td>-0.047805</td>\n",
       "      <td>-0.034776</td>\n",
       "      <td>-0.043087</td>\n",
       "      <td>-0.053411</td>\n",
       "      <td>-0.047012</td>\n",
       "    </tr>\n",
       "    <tr>\n",
       "      <th>26769</th>\n",
       "      <td>33664</td>\n",
       "      <td>-0.029461</td>\n",
       "      <td>-0.046907</td>\n",
       "      <td>-0.041286</td>\n",
       "      <td>-0.012281</td>\n",
       "      <td>0.025063</td>\n",
       "      <td>-0.003881</td>\n",
       "    </tr>\n",
       "    <tr>\n",
       "      <th>26770</th>\n",
       "      <td>33665</td>\n",
       "      <td>-0.063849</td>\n",
       "      <td>-0.051523</td>\n",
       "      <td>-0.034569</td>\n",
       "      <td>0.000410</td>\n",
       "      <td>0.029581</td>\n",
       "      <td>0.010270</td>\n",
       "    </tr>\n",
       "    <tr>\n",
       "      <th>26771</th>\n",
       "      <td>33667</td>\n",
       "      <td>-0.084796</td>\n",
       "      <td>-0.095337</td>\n",
       "      <td>-0.091491</td>\n",
       "      <td>-0.080734</td>\n",
       "      <td>-0.051906</td>\n",
       "      <td>-0.074080</td>\n",
       "    </tr>\n",
       "    <tr>\n",
       "      <th>26772</th>\n",
       "      <td>33668</td>\n",
       "      <td>-0.078092</td>\n",
       "      <td>-0.032208</td>\n",
       "      <td>0.009488</td>\n",
       "      <td>-0.009156</td>\n",
       "      <td>0.114398</td>\n",
       "      <td>0.094911</td>\n",
       "    </tr>\n",
       "  </tbody>\n",
       "</table>\n",
       "<p>26773 rows × 7 columns</p>\n",
       "</div>"
      ],
      "text/plain": [
       "       patient_id      mRS0      mRS1      mRS2      mRS3      mRS4      mRS5\n",
       "0               0 -0.099839 -0.166807 -0.166404 -0.126442 -0.050259 -0.062451\n",
       "1               1 -0.023642 -0.047152 -0.052457 -0.002041  0.007191 -0.048604\n",
       "2               2 -0.054853 -0.011488  0.017904 -0.018028  0.015476  0.007878\n",
       "3               3 -0.073782 -0.061943 -0.071805 -0.054383 -0.029267 -0.056903\n",
       "4               4 -0.141552 -0.065017 -0.052700 -0.038531 -0.025879 -0.027960\n",
       "...           ...       ...       ...       ...       ...       ...       ...\n",
       "26768       33663 -0.018078 -0.047805 -0.034776 -0.043087 -0.053411 -0.047012\n",
       "26769       33664 -0.029461 -0.046907 -0.041286 -0.012281  0.025063 -0.003881\n",
       "26770       33665 -0.063849 -0.051523 -0.034569  0.000410  0.029581  0.010270\n",
       "26771       33667 -0.084796 -0.095337 -0.091491 -0.080734 -0.051906 -0.074080\n",
       "26772       33668 -0.078092 -0.032208  0.009488 -0.009156  0.114398  0.094911\n",
       "\n",
       "[26773 rows x 7 columns]"
      ]
     },
     "execution_count": 70,
     "metadata": {},
     "output_type": "execute_result"
    }
   ],
   "source": [
    "df_not_ivt_shap_hist"
   ]
  },
  {
   "cell_type": "code",
   "execution_count": null,
   "metadata": {},
   "outputs": [
    {
     "data": {
      "text/plain": [
       "Text(0.5, 1.0, 'Frequency of SHAP values for each mRS threshold')"
      ]
     },
     "execution_count": 84,
     "metadata": {},
     "output_type": "execute_result"
    },
    {
     "data": {
      "image/png": "[encoded data removed]",
      "text/plain": [
       "<Figure size 1500x500 with 1 Axes>"
      ]
     },
     "metadata": {},
     "output_type": "display_data"
    }
   ],
   "source": [
    "#fig, ((ax0, ax1), (ax2, ax3)) = plt.subplots(nrows=2, ncols=2)\n",
    "fig, ax = plt.subplots(figsize=(15, 5))\n",
    "colors = [\"red\",\"orange\",\"yellow\",\"green\",\"blue\",\"purple\"]\n",
    "label = [\"mRS0\",\"mRS1\",\"mRS2\",\"mRS3\",\"mRS4\",\"mRS5\"]\n",
    "ax.hist(np.array(df_not_ivt_shap_hist[label]), 10, histtype='bar', label=label, color=colors)\n",
    "ax.legend(prop={'size': 10})\n",
    "ax.set_xlabel(\"SHAP value (log odds)\")\n",
    "ax.set_ylabel(\"Count\")\n",
    "ax.set_title('Frequency of SHAP values for each mRS threshold')"
   ]
  },
  {
   "cell_type": "code",
   "execution_count": null,
   "metadata": {},
   "outputs": [
    {
     "data": {
      "text/plain": [
       "(26773, 6)"
      ]
     },
     "execution_count": 79,
     "metadata": {},
     "output_type": "execute_result"
    }
   ],
   "source": [
    "np.array(df_not_ivt_shap_hist[label]).shape"
   ]
  },
  {
   "cell_type": "code",
   "execution_count": null,
   "metadata": {},
   "outputs": [
    {
     "ename": "KeyError",
     "evalue": "'mRS_threshold'",
     "output_type": "error",
     "traceback": [
      "\u001b[0;31m---------------------------------------------------------------------------\u001b[0m",
      "\u001b[0;31mKeyError\u001b[0m                                  Traceback (most recent call last)",
      "\u001b[1;32m/home/kerry/Documents/GitHub/stroke_outcome_xgb_shap_offline/outcome_experimental/07_xgb_1fold_6_features_ivtshap_vs_otttime.ipynb Cell 44\u001b[0m line \u001b[0;36m1\n\u001b[0;32m----> <a href='vscode-notebook-cell:/home/kerry/Documents/GitHub/stroke_outcome_xgb_shap_offline/outcome_experimental/07_xgb_1fold_6_features_ivtshap_vs_otttime.ipynb#Y314sZmlsZQ%3D%3D?line=0'>1</a>\u001b[0m df_not_ivt_shap[\u001b[39m\"\u001b[39;49m\u001b[39mshap_ivt\u001b[39;49m\u001b[39m\"\u001b[39;49m]\u001b[39m.\u001b[39;49mgroupby([\u001b[39m\"\u001b[39;49m\u001b[39mmRS_threshold\u001b[39;49m\u001b[39m\"\u001b[39;49m])\n",
      "File \u001b[0;32m~/miniconda3/envs/sam10/lib/python3.10/site-packages/pandas/core/series.py:2076\u001b[0m, in \u001b[0;36mSeries.groupby\u001b[0;34m(self, by, axis, level, as_index, sort, group_keys, squeeze, observed, dropna)\u001b[0m\n\u001b[1;32m   2073\u001b[0m     \u001b[39mraise\u001b[39;00m \u001b[39mTypeError\u001b[39;00m(\u001b[39m\"\u001b[39m\u001b[39mYou have to supply one of \u001b[39m\u001b[39m'\u001b[39m\u001b[39mby\u001b[39m\u001b[39m'\u001b[39m\u001b[39m and \u001b[39m\u001b[39m'\u001b[39m\u001b[39mlevel\u001b[39m\u001b[39m'\u001b[39m\u001b[39m\"\u001b[39m)\n\u001b[1;32m   2074\u001b[0m axis \u001b[39m=\u001b[39m \u001b[39mself\u001b[39m\u001b[39m.\u001b[39m_get_axis_number(axis)\n\u001b[0;32m-> 2076\u001b[0m \u001b[39mreturn\u001b[39;00m SeriesGroupBy(\n\u001b[1;32m   2077\u001b[0m     obj\u001b[39m=\u001b[39;49m\u001b[39mself\u001b[39;49m,\n\u001b[1;32m   2078\u001b[0m     keys\u001b[39m=\u001b[39;49mby,\n\u001b[1;32m   2079\u001b[0m     axis\u001b[39m=\u001b[39;49maxis,\n\u001b[1;32m   2080\u001b[0m     level\u001b[39m=\u001b[39;49mlevel,\n\u001b[1;32m   2081\u001b[0m     as_index\u001b[39m=\u001b[39;49mas_index,\n\u001b[1;32m   2082\u001b[0m     sort\u001b[39m=\u001b[39;49msort,\n\u001b[1;32m   2083\u001b[0m     group_keys\u001b[39m=\u001b[39;49mgroup_keys,\n\u001b[1;32m   2084\u001b[0m     squeeze\u001b[39m=\u001b[39;49msqueeze,\n\u001b[1;32m   2085\u001b[0m     observed\u001b[39m=\u001b[39;49mobserved,\n\u001b[1;32m   2086\u001b[0m     dropna\u001b[39m=\u001b[39;49mdropna,\n\u001b[1;32m   2087\u001b[0m )\n",
      "File \u001b[0;32m~/miniconda3/envs/sam10/lib/python3.10/site-packages/pandas/core/groupby/groupby.py:965\u001b[0m, in \u001b[0;36mGroupBy.__init__\u001b[0;34m(self, obj, keys, axis, level, grouper, exclusions, selection, as_index, sort, group_keys, squeeze, observed, mutated, dropna)\u001b[0m\n\u001b[1;32m    962\u001b[0m \u001b[39mif\u001b[39;00m grouper \u001b[39mis\u001b[39;00m \u001b[39mNone\u001b[39;00m:\n\u001b[1;32m    963\u001b[0m     \u001b[39mfrom\u001b[39;00m \u001b[39mpandas\u001b[39;00m\u001b[39m.\u001b[39;00m\u001b[39mcore\u001b[39;00m\u001b[39m.\u001b[39;00m\u001b[39mgroupby\u001b[39;00m\u001b[39m.\u001b[39;00m\u001b[39mgrouper\u001b[39;00m \u001b[39mimport\u001b[39;00m get_grouper\n\u001b[0;32m--> 965\u001b[0m     grouper, exclusions, obj \u001b[39m=\u001b[39m get_grouper(\n\u001b[1;32m    966\u001b[0m         obj,\n\u001b[1;32m    967\u001b[0m         keys,\n\u001b[1;32m    968\u001b[0m         axis\u001b[39m=\u001b[39;49maxis,\n\u001b[1;32m    969\u001b[0m         level\u001b[39m=\u001b[39;49mlevel,\n\u001b[1;32m    970\u001b[0m         sort\u001b[39m=\u001b[39;49msort,\n\u001b[1;32m    971\u001b[0m         observed\u001b[39m=\u001b[39;49mobserved,\n\u001b[1;32m    972\u001b[0m         mutated\u001b[39m=\u001b[39;49m\u001b[39mself\u001b[39;49m\u001b[39m.\u001b[39;49mmutated,\n\u001b[1;32m    973\u001b[0m         dropna\u001b[39m=\u001b[39;49m\u001b[39mself\u001b[39;49m\u001b[39m.\u001b[39;49mdropna,\n\u001b[1;32m    974\u001b[0m     )\n\u001b[1;32m    976\u001b[0m \u001b[39mself\u001b[39m\u001b[39m.\u001b[39mobj \u001b[39m=\u001b[39m obj\n\u001b[1;32m    977\u001b[0m \u001b[39mself\u001b[39m\u001b[39m.\u001b[39maxis \u001b[39m=\u001b[39m obj\u001b[39m.\u001b[39m_get_axis_number(axis)\n",
      "File \u001b[0;32m~/miniconda3/envs/sam10/lib/python3.10/site-packages/pandas/core/groupby/grouper.py:888\u001b[0m, in \u001b[0;36mget_grouper\u001b[0;34m(obj, key, axis, level, sort, observed, mutated, validate, dropna)\u001b[0m\n\u001b[1;32m    886\u001b[0m         in_axis, level, gpr \u001b[39m=\u001b[39m \u001b[39mFalse\u001b[39;00m, gpr, \u001b[39mNone\u001b[39;00m\n\u001b[1;32m    887\u001b[0m     \u001b[39melse\u001b[39;00m:\n\u001b[0;32m--> 888\u001b[0m         \u001b[39mraise\u001b[39;00m \u001b[39mKeyError\u001b[39;00m(gpr)\n\u001b[1;32m    889\u001b[0m \u001b[39melif\u001b[39;00m \u001b[39misinstance\u001b[39m(gpr, Grouper) \u001b[39mand\u001b[39;00m gpr\u001b[39m.\u001b[39mkey \u001b[39mis\u001b[39;00m \u001b[39mnot\u001b[39;00m \u001b[39mNone\u001b[39;00m:\n\u001b[1;32m    890\u001b[0m     \u001b[39m# Add key to exclusions\u001b[39;00m\n\u001b[1;32m    891\u001b[0m     exclusions\u001b[39m.\u001b[39madd(gpr\u001b[39m.\u001b[39mkey)\n",
      "\u001b[0;31mKeyError\u001b[0m: 'mRS_threshold'"
     ]
    }
   ],
   "source": [
    "df_not_ivt_shap[\"shap_ivt\"].groupby([\"mRS_threshold\"])"
   ]
  },
  {
   "cell_type": "code",
   "execution_count": null,
   "metadata": {},
   "outputs": [],
   "source": [
    "model = LinearRegression(df_ivt_shap[\"shap_ivt\"],df_ivt_shap[\"onset_to_thrombolysis_time\"])"
   ]
  },
  {
   "cell_type": "markdown",
   "metadata": {},
   "source": [
    "Duration to run notebook"
   ]
  },
  {
   "cell_type": "code",
   "execution_count": null,
   "metadata": {},
   "outputs": [],
   "source": [
    "str(datetime.timedelta(seconds=(time.time()-start_time)))"
   ]
  }
 ],
 "metadata": {
  "kernelspec": {
   "display_name": "Python 3 (ipykernel)",
   "language": "python",
   "name": "python3"
  },
  "language_info": {
   "codemirror_mode": {
    "name": "ipython",
    "version": 3
   },
   "file_extension": ".py",
   "mimetype": "text/x-python",
   "name": "python",
   "nbconvert_exporter": "python",
   "pygments_lexer": "ipython3",
   "version": "3.10.12"
  },
  "vscode": {
   "interpreter": {
    "hash": "f85b883bff9a8a9f39576b94acbdf6672b3dc17c35647e7395f81e785740a4b3"
   }
  }
 },
 "nbformat": 4,
 "nbformat_minor": 4
}
