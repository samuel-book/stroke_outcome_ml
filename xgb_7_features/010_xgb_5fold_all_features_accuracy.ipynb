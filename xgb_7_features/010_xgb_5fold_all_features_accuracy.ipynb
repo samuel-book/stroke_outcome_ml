{
 "cells": [
  {
   "attachments": {},
   "cell_type": "markdown",
   "metadata": {},
   "source": [
    "# XGBoost to predict discharge disability\n",
    "#### Using all features, with a 5-fold cross validation, train a multiclass classification model to give the probability (likelihood) that each patient is in each discharge disability class (mRS 0, 1, 2, 3, 4, 5 or 6)\n",
    "\n",
    "### Plain English summary\n",
    "\n",
    "Before look at feature selection, let's look at the performance of a model trained on all of the data. Use 5 k-fold splits. Also analyse the consistency of the results for these five different data divisions.\n",
    "\n",
    "### Model and data\n",
    "Model: XGBoost classifier.\n",
    "Feature data: All the relevant features in SSNAP\n",
    "Target feature: Discharge disability\n",
    "\n",
    "### Aims\n",
    "What's the performance of a model using all of the available features?\n",
    "Is model performance (and patterns detected) dependent on the data divisions in the k-fold splits?\n",
    "\n",
    "##### Section 1: Accuracy of model (and consistency across k-folds)\n",
    "Look at accuracy in terms of:\n",
    "1. Accuracy (i. % correct, ii. % within one correct)\n",
    "1. Confusion matrix\n",
    "1. ROCAUC\n",
    "##### Section 2: Calibration and assessment of accuracy when model has high confidence\n",
    "##### Section 3: Reliability\n",
    "\n",
    "### Observations\n",
    "Model performance (and patterns detected) are reasonably consistent across the 5 k-fold splits.\n",
    "This give us the confidence to do our analysis of SHAP values on a single k-fold split. Doing so removes the issue of accounting for different SHAP base values across the different k-fold models.\n",
    "\n",
    "Feature importance (as calculated by XGBoost) is only returned for the model (as a whole) and not per classification class. Whereas SHAP values are returned for each classification class.\n",
    "The one hot encoded stroke team features dominate the list of 25 most importance features (22 of the top 25 are stroke teams features). Here are the important features (omitting the one hot encoded stroke teams):\n",
    "prior_disability, stroke_severity, nihss_arrival_loc, age, thrombolysis_no_but_improving, nihss_arrival_best_gaze, any_afib_diagnosis, scan_to_thrombolysis_time, year, nihss_arrival_motor_arm_left.\n",
    "\n",
    "The top ranked features as determined by the SHAP values are: \n",
    "\n",
    "#### Further work\n",
    "\n",
    "Now look at feature selection. \n",
    "\n",
    "#### Resources\n",
    "Using code from https://github.com/samuel-book/samuel_shap_paper_1/blob/main/xgb_10_features/02b_xgb_combined_fit_accuracy_key_features_separate_k_fold.ipynb\n",
    "\n",
    "and https://github.com/samuel-book/samuel_shap_paper_1/blob/main/xgb_10_features/03_xgb_combined_shap_key_features.ipynb\n",
    "\n",
    "(code orignially from 01a_xgb_kfold_all_features_accuracy_importance_shap.ipynb and 01_xgb_5fold_all_features_accuracy_importance_shap.ipynb)\n"
   ]
  },
  {
   "attachments": {},
   "cell_type": "markdown",
   "metadata": {},
   "source": [
    "## Import libraries"
   ]
  },
  {
   "cell_type": "code",
   "execution_count": 1,
   "metadata": {},
   "outputs": [],
   "source": [
    "# Turn warnings off to keep notebook tidy\n",
    "import warnings\n",
    "warnings.filterwarnings(\"ignore\")\n",
    "\n",
    "import os\n",
    "import matplotlib.pyplot as plt\n",
    "from matplotlib.lines import Line2D\n",
    "import numpy as np\n",
    "import pandas as pd\n",
    "\n",
    "import scipy\n",
    "\n",
    "from xgboost import XGBClassifier\n",
    "from sklearn.metrics import auc\n",
    "from sklearn.metrics import roc_curve\n",
    "\n",
    "import json\n",
    "\n",
    "from dataclasses import dataclass\n",
    "\n",
    "import seaborn as sns\n",
    "\n",
    "from sklearn.metrics import roc_auc_score\n",
    "\n",
    "from sklearn.metrics import confusion_matrix\n",
    "\n",
    "import pickle\n",
    "import shap\n",
    "\n",
    "from os.path import exists\n",
    "\n",
    "import math\n",
    "\n",
    "import importlib\n",
    "# Import local package\n",
    "#from utils import waterfall\n",
    "## Force package to be reloaded\n",
    "#importlib.reload(waterfall);\n",
    "\n",
    "# Need for cm subplots?\n",
    "#from mpl_toolkits.axes_grid1 import make_axes_locatable\n",
    "#from matplotlib.colors import LogNorm\n",
    "#from matplotlib.ticker import MultipleLocator\n",
    "\n",
    "import time"
   ]
  },
  {
   "attachments": {},
   "cell_type": "markdown",
   "metadata": {},
   "source": [
    "Report the time duration to run notebook"
   ]
  },
  {
   "cell_type": "code",
   "execution_count": 2,
   "metadata": {},
   "outputs": [],
   "source": [
    "start_time = time.time()"
   ]
  },
  {
   "cell_type": "markdown",
   "metadata": {},
   "source": [
    "Choose number of kfolds (either =1 for the first kfold, or =5 for the full 5 kfold split)"
   ]
  },
  {
   "cell_type": "code",
   "execution_count": 3,
   "metadata": {},
   "outputs": [],
   "source": [
    "n_kfold = 5"
   ]
  },
  {
   "attachments": {},
   "cell_type": "markdown",
   "metadata": {},
   "source": [
    "## Set up paths and filenames\n",
    "\n",
    "Use os.path.join() to create filenames. So define folders without trailing forward slash, and include all characters in file names."
   ]
  },
  {
   "cell_type": "code",
   "execution_count": 4,
   "metadata": {},
   "outputs": [],
   "source": [
    "@dataclass(frozen=True)\n",
    "class Paths:\n",
    "    '''Singleton object for storing paths to data and database.'''\n",
    "    output_save_path: str = './output'\n",
    "    model_save_path: str = './saved_models'\n",
    "    data_read_path: str = '../data_processing/output/kfold_5fold'\n",
    "    model_text: str = f'xgb_all_features_{n_kfold}fold'\n",
    "    notebook: str = '010_'\n",
    "\n",
    "paths = Paths()"
   ]
  },
  {
   "cell_type": "markdown",
   "metadata": {},
   "source": [
    "Create output folders if needed"
   ]
  },
  {
   "cell_type": "code",
   "execution_count": 5,
   "metadata": {},
   "outputs": [],
   "source": [
    "path = paths.output_save_path\n",
    "if not os.path.exists(path):\n",
    "    os.makedirs(path)\n",
    "        \n",
    "path = paths.model_save_path\n",
    "if not os.path.exists(path):\n",
    "    os.makedirs(path)"
   ]
  },
  {
   "attachments": {},
   "cell_type": "markdown",
   "metadata": {},
   "source": [
    "Some features need to be removed from the dataset (those that are duplicates). Define a function to do this."
   ]
  },
  {
   "cell_type": "code",
   "execution_count": 6,
   "metadata": {},
   "outputs": [],
   "source": [
    "def drop_columns(df, cols):\n",
    "    \"\"\"\n",
    "    df [dataframe]: The feature values per patient\n",
    "    cols [list]: The features to remove if presente\n",
    "    \"\"\"\n",
    "    for col in cols:\n",
    "        if col in df.columns: df.drop([col], axis=1, inplace=True)\n",
    "    return(df)"
   ]
  },
  {
   "cell_type": "markdown",
   "metadata": {},
   "source": [
    "Specify the columns to remove"
   ]
  },
  {
   "cell_type": "code",
   "execution_count": 7,
   "metadata": {},
   "outputs": [],
   "source": [
    "cols_remove = ['id','stroke_team_id']"
   ]
  },
  {
   "cell_type": "markdown",
   "metadata": {},
   "source": [
    "## Import data\n",
    "\n",
    "Data has previously been split into 5 stratified k-fold splits. Read these in."
   ]
  },
  {
   "cell_type": "code",
   "execution_count": 8,
   "metadata": {},
   "outputs": [],
   "source": [
    "train_data_kfold, test_data_kfold = [], []\n",
    "\n",
    "for k in range(n_kfold):\n",
    "    # Read in training set, restrict to chosen features, rename titles, & store\n",
    "    filename = os.path.join(paths.data_read_path, \n",
    "                            ('03_train_' + str(k) + '.csv'))\n",
    "    train = pd.read_csv(filename)\n",
    "#    train.rename(columns=dict_feature_name, inplace=True)\n",
    "    train = drop_columns(train, cols_remove)\n",
    "    train_data_kfold.append(train)\n",
    "\n",
    "    filename = os.path.join(paths.data_read_path, \n",
    "                            ('03_test_' + str(k) + '.csv'))\n",
    "    test = pd.read_csv(filename)\n",
    "#    test.rename(columns=dict_feature_name, inplace=True)\n",
    "    test = drop_columns(test, cols_remove)\n",
    "    test_data_kfold.append(test)"
   ]
  },
  {
   "cell_type": "markdown",
   "metadata": {},
   "source": [
    "Select the features for the model"
   ]
  },
  {
   "cell_type": "code",
   "execution_count": 9,
   "metadata": {},
   "outputs": [],
   "source": [
    "selected_features = list(train_data_kfold[0])\n",
    "selected_features.remove('discharge_disability')\n",
    "n_features = len(selected_features)\n",
    "selected_features.append('discharge_disability')"
   ]
  },
  {
   "cell_type": "markdown",
   "metadata": {},
   "source": [
    "Limit dataset to selected features (in this case, we are keeping all the available features, the previous cell may specify otherwise for another purpose)"
   ]
  },
  {
   "cell_type": "code",
   "execution_count": 10,
   "metadata": {},
   "outputs": [],
   "source": [
    "for k in range(n_kfold):\n",
    "    train = train_data_kfold[k]\n",
    "    train = train[selected_features]\n",
    "    train_data_kfold[k] = train\n",
    "\n",
    "    test = test_data_kfold[k]\n",
    "    test = test[selected_features]\n",
    "    test_data_kfold[k] = test"
   ]
  },
  {
   "attachments": {},
   "cell_type": "markdown",
   "metadata": {},
   "source": [
    "Store the output classes"
   ]
  },
  {
   "cell_type": "code",
   "execution_count": 11,
   "metadata": {},
   "outputs": [],
   "source": [
    "class_names = train_data_kfold[0]['discharge_disability'].unique()\n",
    "class_names = np.sort(class_names)\n",
    "n_classes = len(class_names)"
   ]
  },
  {
   "cell_type": "markdown",
   "metadata": {},
   "source": [
    "Take copy of stroke team to use to create a histogram (before this feature is converted into a one hot encoded feature)"
   ]
  },
  {
   "cell_type": "code",
   "execution_count": 12,
   "metadata": {},
   "outputs": [],
   "source": [
    "test_stroke_team_kfold = (\n",
    "                 [test_data_kfold[k][\"stroke_team\"] for k in range(n_kfold)])"
   ]
  },
  {
   "attachments": {},
   "cell_type": "markdown",
   "metadata": {},
   "source": [
    "### One hot the categorical features\n",
    "\n",
    "Convert some categorical features to one hot encoded features.\n",
    "\n",
    "Define a function"
   ]
  },
  {
   "cell_type": "code",
   "execution_count": 13,
   "metadata": {},
   "outputs": [],
   "source": [
    "def convert_feature_to_one_hot(df, feature_name, prefix):\n",
    "    \"\"\"\n",
    "    df [dataframe]: training or test dataset\n",
    "    feature_name [str]: feature to convert to ont hot encoding\n",
    "    prefix [str]: string to use on new feature\n",
    "    \"\"\"\n",
    "\n",
    "    # One hot encode a feature\n",
    "    df_feature = pd.get_dummies(\n",
    "        df[feature_name], prefix = prefix)\n",
    "    df = pd.concat([df, df_feature], axis=1)\n",
    "    df.drop(feature_name, axis=1, inplace=True)\n",
    "\n",
    "    return(df)"
   ]
  },
  {
   "attachments": {},
   "cell_type": "markdown",
   "metadata": {},
   "source": [
    "Set up two lists for the one hot encoding. \n",
    "\n",
    "A list of the feature names that are categorical and to be converted using one hot encoding.\n",
    "A list of the prefixes to use for these features."
   ]
  },
  {
   "cell_type": "code",
   "execution_count": 14,
   "metadata": {},
   "outputs": [],
   "source": [
    "features_to_one_hot = [\"stroke_team\", \"weekday\"]\n",
    "list_prefix = [\"team\", \"weekday\"]"
   ]
  },
  {
   "attachments": {},
   "cell_type": "markdown",
   "metadata": {},
   "source": [
    "For each feature in the list, for each train and test dataset, convert to one hot encoded."
   ]
  },
  {
   "cell_type": "code",
   "execution_count": 15,
   "metadata": {},
   "outputs": [],
   "source": [
    "for feature, prefix in zip(features_to_one_hot, list_prefix):\n",
    "    if feature in selected_features:\n",
    "        for k in range(n_kfold):\n",
    "            train_data_kfold[k] = (\n",
    "              convert_feature_to_one_hot(train_data_kfold[k], feature, prefix))\n",
    "            test_data_kfold[k] = (\n",
    "              convert_feature_to_one_hot(test_data_kfold[k], feature, prefix))"
   ]
  },
  {
   "attachments": {},
   "cell_type": "markdown",
   "metadata": {},
   "source": [
    "Feature names with one hot encoding"
   ]
  },
  {
   "cell_type": "code",
   "execution_count": 16,
   "metadata": {},
   "outputs": [],
   "source": [
    "features_ohe = list(train_data_kfold[0])\n",
    "features_ohe.remove(\"discharge_disability\")\n",
    "n_features = len(features_ohe)"
   ]
  },
  {
   "cell_type": "code",
   "execution_count": 17,
   "metadata": {},
   "outputs": [
    {
     "name": "stdout",
     "output_type": "stream",
     "text": [
      "There are 55 original features (before one-hot encoding)\n",
      "There are 177 features (after one-hot encoding)\n"
     ]
    }
   ],
   "source": [
    "print(f\"There are {len(selected_features)} original features \"\n",
    "      f\"(before one-hot encoding)\")\n",
    "print(f\"There are {n_features} features (after one-hot encoding)\")"
   ]
  },
  {
   "attachments": {},
   "cell_type": "markdown",
   "metadata": {},
   "source": [
    "## Fit XGBoost model\n",
    "\n",
    "Train model with all features to predict the disability of each patient at discharge. This is a multiclass classification model, where each patient is given a probability of begin in each of the classes. For our case, for the individual mRS levels.\n",
    "\n",
    "This model will be the same as trained in notebook 020_xgb_feature_selection.ipynb (that is used for comparison with the feature selection models)"
   ]
  },
  {
   "cell_type": "markdown",
   "metadata": {},
   "source": [
    "Create function to return X and y data for train and test sets"
   ]
  },
  {
   "cell_type": "code",
   "execution_count": 18,
   "metadata": {},
   "outputs": [],
   "source": [
    "def get_x_y_data(train, test, target):\n",
    "    \"\"\"\n",
    "    Pass data from the split and return the dataframes with the target in one \n",
    "    dataframe (X), and dependent features in another (y)\n",
    "    \n",
    "    train (dataframe): dataframe containing training instances \n",
    "    test (dataframe): dataframe containing test instances\n",
    "    target (string): column name of the targert feature (the column to separate from the two dataframes)\n",
    "    \"\"\"    \n",
    "\n",
    "    # Get X and y\n",
    "    X_train = train.drop(target, axis=1)\n",
    "    X_test = test.drop(target, axis=1)\n",
    "    y_train = train[target]\n",
    "    y_test = test[target]\n",
    "\n",
    "    return(X_train, X_test, y_train, y_test)"
   ]
  },
  {
   "cell_type": "markdown",
   "metadata": {},
   "source": [
    "Create function to get xgboost model (either load if file exists, else train)"
   ]
  },
  {
   "cell_type": "code",
   "execution_count": 19,
   "metadata": {},
   "outputs": [],
   "source": [
    "def xgboost_model(filename, X_train, y_train):\n",
    "    \"\"\"\n",
    "    Given the filename, either load if the model exists (saved as a pickle), \n",
    "    else train anew model.\n",
    "\n",
    "    filename [string]: where xgboost model is saved\n",
    "    X_train [dataframe]: feature values\n",
    "    y_train [dataframe]: target feature\n",
    "    \"\"\"\n",
    "    # Check if exists\n",
    "    file_exists = exists(filename)\n",
    "\n",
    "    if file_exists:\n",
    "    # Load models\n",
    "        with open(filename, 'rb') as filehandler:\n",
    "            model = pickle.load(filehandler)\n",
    "    else:\n",
    "        # Define and Fit model\n",
    "        model = XGBClassifier(verbosity=0, seed=42, learning_rate=0.5,\n",
    "                              tree_method='gpu_hist')\n",
    "        model.fit(X_train, y_train)\n",
    "\n",
    "        # Save using pickle\n",
    "        with open(filename, 'wb') as filehandler:\n",
    "            pickle.dump(model, filehandler)\n",
    "    return(model)"
   ]
  },
  {
   "cell_type": "code",
   "execution_count": 20,
   "metadata": {},
   "outputs": [],
   "source": [
    "# Initiate lists\n",
    "r_square_kfold = []\n",
    "roc_auc_ovr_kfold = []\n",
    "accuracy_kfold = []\n",
    "error_within_one_kfold = []\n",
    "feature_importance_kfold = []\n",
    "y_probs_kfold = []\n",
    "y_pred_kfold = []\n",
    "model_kfold = []\n",
    "\n",
    "# Loop through k folds\n",
    "for k in range(n_kfold):\n",
    "\n",
    "    # Get k fold split\n",
    "    (X_train, X_test, y_train, y_test) = get_x_y_data(train_data_kfold[k],\n",
    "                                                      test_data_kfold[k],\n",
    "                                                      'discharge_disability')\n",
    "\n",
    "    # Model filename\n",
    "    filename = os.path.join(paths.model_save_path, \n",
    "                    (paths.notebook + paths.model_text + '_' + str(k) + '.p'))\n",
    "    \n",
    "    model = xgboost_model(filename, X_train, y_train)\n",
    "    model_kfold.append(model)\n",
    "\n",
    "    # Get target categories from model\n",
    "    classes = model.classes_\n",
    "\n",
    "    # Get and store predicted probabilities\n",
    "    y_probs = model.predict_proba(X_test)\n",
    "    y_probs_kfold.append(y_probs)\n",
    "\n",
    "    # Get and store predicted class\n",
    "    y_pred = model.predict(X_test)\n",
    "    y_pred_kfold.append(y_pred)\n",
    "\n",
    "    # Calculate ROC AUC for multiclass models, using One vs Rest\n",
    "    roc_auc_ovr = roc_auc_score(y_test, y_probs, labels = classes, \n",
    "                                multi_class = 'ovr', average = 'macro')\n",
    "    roc_auc_ovr_kfold.append(roc_auc_ovr)\n",
    "\n",
    "    # Calculate error\n",
    "    y_error = y_test - y_pred\n",
    "    accuracy = np.mean(y_error==0)\n",
    "    accuracy_kfold.append(accuracy)\n",
    "\n",
    "    error_within_one = np.mean(np.abs(y_error)<=1)\n",
    "    error_within_one_kfold.append(error_within_one)"
   ]
  },
  {
   "cell_type": "markdown",
   "metadata": {},
   "source": [
    "## Section 1: Accuracy"
   ]
  },
  {
   "cell_type": "markdown",
   "metadata": {},
   "source": [
    "#### Section 1.1 Accuracy (average and consistency across k-folds)\n",
    "i. % correct\\\n",
    "ii. % within one correct"
   ]
  },
  {
   "cell_type": "code",
   "execution_count": 21,
   "metadata": {},
   "outputs": [
    {
     "name": "stdout",
     "output_type": "stream",
     "text": [
      "All features, accuracy: 0.441 (std across 5 kfolds: 0.002)\n",
      "All features, accuracy within one: 0.759 (std across 5 kfolds: 0.002)\n"
     ]
    }
   ],
   "source": [
    "accuracy_mean = np.mean(accuracy_kfold)\n",
    "error_within_one_mean = np.mean(error_within_one_kfold)\n",
    "\n",
    "print (f'All features, accuracy: {accuracy_mean:0.3f} '\n",
    "       f'(std across {n_kfold} kfolds: {np.std(accuracy_kfold):0.3f})')\n",
    "\n",
    "print (f'All features, accuracy within one: {error_within_one_mean:0.3f} '\n",
    "       f'(std across {n_kfold} kfolds: {np.std(error_within_one_kfold):0.3f})')"
   ]
  },
  {
   "cell_type": "markdown",
   "metadata": {},
   "source": [
    "#### Section 1.2 Confusion matrix (across the kfolds)\n",
    "\n",
    "Resource (subplots with imshow): https://stackoverflow.com/questions/18266642/multiple-imshow-subplots-each-with-colorbar"
   ]
  },
  {
   "cell_type": "code",
   "execution_count": 22,
   "metadata": {},
   "outputs": [
    {
     "data": {
      "image/png": "[encoded data removed]",
      "text/plain": [
       "<Figure size 2000x500 with 10 Axes>"
      ]
     },
     "metadata": {},
     "output_type": "display_data"
    }
   ],
   "source": [
    "# Define number subplots for the figure\n",
    "nrows = 1\n",
    "ncols = n_kfold\n",
    "\n",
    "fig, axs = plt.subplots(nrows=nrows, ncols=ncols)\n",
    "\n",
    "if ncols > 1:\n",
    "    fig.suptitle('Confusion matrices (per kfold)', fontsize=10)\n",
    "\n",
    "# Set figure width (relative to the number of kfolds)\n",
    "width = 20 * (n_kfold/5)\n",
    "fig.set_size_inches(width,5)\n",
    "\n",
    "# Legend height\n",
    "shrink = 0.5\n",
    "\n",
    "# Initialise indices for the subplots\n",
    "row = 0\n",
    "col = 0\n",
    "\n",
    "# Loop through the kfolds, create a subplot per kfold (of a confusion matrix)\n",
    "for k, ax in zip(range(n_kfold), axs):\n",
    "\n",
    "#    # Get axes\n",
    "#    if col > 1:\n",
    "#        # not take row argument as that only has 1 value, so axs is 1D\n",
    "#        ax = axs[col] \n",
    "#    else:\n",
    "#        ax = axs\n",
    "\n",
    "#    # Set axis title\n",
    "#    ax.title(f'Kfold {k+1}')\n",
    "\n",
    "    # Get k fold split\n",
    "    (X_train, X_test, y_train, y_test) = get_x_y_data(train_data_kfold[k],\n",
    "                                                      test_data_kfold[k],\n",
    "                                                      'discharge_disability')\n",
    "    # Calculate values for confusion matrix\n",
    "    cm = confusion_matrix(y_test, y_pred_kfold[k])\n",
    "\n",
    "    # Visualize the confusion matrix with colors\n",
    "    heatmap = ax.imshow(cm, cmap=plt.cm.Blues, origin='lower')\n",
    "    plt.colorbar(heatmap, shrink=shrink, ax=ax, alpha=0.5, label='Count')\n",
    "\n",
    "    # Add values to plot\n",
    "    for i in range(len(cm)):\n",
    "        for j in range(len(cm[0])):\n",
    "            ax.text(j, i, cm[i][j], ha='center', va='center', color='grey', \n",
    "                    size=8)\n",
    "\n",
    "    # Set axis titles\n",
    "    ax.set_xlabel('Predicted value')\n",
    "    ax.set_ylabel('Observed value')\n",
    "\n",
    "    # Move to the next subplot\n",
    "    col += 1\n",
    "    # Move to the next row if exceed number of columns\n",
    "    if col == ncols: \n",
    "        col = 0\n",
    "        row += 1\n",
    "\n",
    "plt.tight_layout()\n",
    "\n",
    "# Make space for title\n",
    "plt.subplots_adjust(top=1)\n",
    "\n",
    "filename = os.path.join(paths.output_save_path, \n",
    "                        (paths.notebook + paths.model_text + \n",
    "                       '_confusion_matrices_per_kfold.jpg'))\n",
    "\n",
    "plt.savefig(filename, dpi=300)\n",
    "\n",
    "plt.show()"
   ]
  },
  {
   "cell_type": "markdown",
   "metadata": {},
   "source": [
    "#### Section 1.3 ROC AUC for multiclass model\n",
    "\n",
    "Calculate the overall ROC AUC for multiclass classification (a value per k-fold model)"
   ]
  },
  {
   "cell_type": "code",
   "execution_count": 23,
   "metadata": {},
   "outputs": [
    {
     "name": "stdout",
     "output_type": "stream",
     "text": [
      "ROCAUC (mean of 5 k-folds): 0.817\n",
      "ROCAUC (std across 5 kfolds): 0.001)\n"
     ]
    },
    {
     "ename": "TypeError",
     "evalue": "unsupported format string passed to list.__format__",
     "output_type": "error",
     "traceback": [
      "\u001b[0;31m---------------------------------------------------------------------------\u001b[0m",
      "\u001b[0;31mTypeError\u001b[0m                                 Traceback (most recent call last)",
      "\u001b[1;32m/home/kerry/Documents/GitHub/stroke_outcome_ml/xgb_7_features/010_xgb_5fold_all_features_accuracy.ipynb Cell 47\u001b[0m line \u001b[0;36m4\n\u001b[1;32m      <a href='vscode-notebook-cell:/home/kerry/Documents/GitHub/stroke_outcome_ml/xgb_7_features/010_xgb_5fold_all_features_accuracy.ipynb#X61sZmlsZQ%3D%3D?line=1'>2</a>\u001b[0m \u001b[39mprint\u001b[39m (\u001b[39mf\u001b[39m\u001b[39m'\u001b[39m\u001b[39mROCAUC (mean of \u001b[39m\u001b[39m{\u001b[39;00mn_kfold\u001b[39m}\u001b[39;00m\u001b[39m k-folds): \u001b[39m\u001b[39m{\u001b[39;00mroc_auc_ovr_mean\u001b[39m:\u001b[39;00m\u001b[39m0.3f\u001b[39m\u001b[39m}\u001b[39;00m\u001b[39m'\u001b[39m)\n\u001b[1;32m      <a href='vscode-notebook-cell:/home/kerry/Documents/GitHub/stroke_outcome_ml/xgb_7_features/010_xgb_5fold_all_features_accuracy.ipynb#X61sZmlsZQ%3D%3D?line=2'>3</a>\u001b[0m \u001b[39mprint\u001b[39m (\u001b[39mf\u001b[39m\u001b[39m'\u001b[39m\u001b[39mROCAUC (std across \u001b[39m\u001b[39m{\u001b[39;00mn_kfold\u001b[39m}\u001b[39;00m\u001b[39m kfolds): \u001b[39m\u001b[39m{\u001b[39;00mnp\u001b[39m.\u001b[39mstd(roc_auc_ovr_kfold)\u001b[39m:\u001b[39;00m\u001b[39m0.3f\u001b[39m\u001b[39m}\u001b[39;00m\u001b[39m)\u001b[39m\u001b[39m'\u001b[39m)\n\u001b[0;32m----> <a href='vscode-notebook-cell:/home/kerry/Documents/GitHub/stroke_outcome_ml/xgb_7_features/010_xgb_5fold_all_features_accuracy.ipynb#X61sZmlsZQ%3D%3D?line=3'>4</a>\u001b[0m \u001b[39mprint\u001b[39m (\u001b[39mf\u001b[39m\u001b[39m'\u001b[39m\u001b[39mROCAUC (per kfold): \u001b[39m\u001b[39m{\u001b[39;00mroc_auc_ovr_kfold\u001b[39m:\u001b[39;00m\u001b[39m0.3f\u001b[39m\u001b[39m}\u001b[39;00m\u001b[39m'\u001b[39m)\n",
      "\u001b[0;31mTypeError\u001b[0m: unsupported format string passed to list.__format__"
     ]
    }
   ],
   "source": [
    "roc_auc_ovr_mean = np.mean(roc_auc_ovr_kfold)\n",
    "print (f'ROCAUC (mean of {n_kfold} k-folds): {roc_auc_ovr_mean:0.3f}')\n",
    "print (f'ROCAUC (std across {n_kfold} kfolds): {np.std(roc_auc_ovr_kfold):0.3f})')\n",
    "print (f'ROCAUC (per kfold): {roc_auc_ovr_kfold:0.3f}')"
   ]
  },
  {
   "cell_type": "markdown",
   "metadata": {},
   "source": [
    "To calculate the ROC AUC for a multiclass classification model, we use functions that are slightly modified from the binary classifier case.\n",
    "\n",
    "For this case the ROC AUC is calculated for each pair-wise selection of the classes, and treating this as a binary model (in a way), and so using the usual method to calculate the ROC AUC. The whole model ROC AUC is taken as the average across all pair-wise comparisons.\n",
    "\n",
    "This is known as the one vs one method.\n",
    "\n",
    "The other option is the one vs rest method. For each class it then groups the others as \"the rest\", and treats that as the binary split for the classic ROC AUC calculation. Taking the average across these 6 comparisons (one per class) gives the ROC AUC for the whole model.\n",
    "\n",
    "We can observe the ROC AUC plot (and histograms) for each class. And for each kfold model.\n",
    "\n",
    "The histograms show the range of probabilities for being a specific class for 1) the patients that are that class 2) the patients that are not that class.\n",
    "For OvO the patients that are not that class are for a single other class.\n",
    "For OvR the patients that are not that class are for all of the other classes.\n",
    "\n",
    "Resources:\n",
    "\n",
    "https://towardsdatascience.com/multiclass-classification-evaluation-with-roc-curves-and-roc-auc-294fd4617e3a\n",
    "\n",
    "https://github.com/vinyluis/Articles/blob/main/ROC%20Curve%20and%20ROC%20AUC/ROC%20Curve%20-%20Multiclass.ipynb"
   ]
  },
  {
   "cell_type": "code",
   "execution_count": null,
   "metadata": {},
   "outputs": [],
   "source": [
    "def calculate_tpr_fpr(y_real, y_pred):\n",
    "    '''\n",
    "    Calculates the True Positive Rate (tpr) and the True Negative Rate (fpr) based on real and predicted observations\n",
    "    \n",
    "    Args:\n",
    "        y_real: The list or series with the real classes\n",
    "        y_pred: The list or series with the predicted classes\n",
    "        \n",
    "    Returns:\n",
    "        tpr: The True Positive Rate of the classifier\n",
    "        fpr: The False Positive Rate of the classifier\n",
    "    '''\n",
    "    \n",
    "    # Calculates the confusion matrix and recover each element\n",
    "    cm = confusion_matrix(y_real, y_pred)\n",
    "    TN = cm[0, 0]\n",
    "    FP = cm[0, 1]\n",
    "    FN = cm[1, 0]\n",
    "    TP = cm[1, 1]\n",
    "    \n",
    "    # Calculates tpr and fpr\n",
    "    tpr =  TP/(TP + FN) # sensitivity - true positive rate\n",
    "    fpr = 1 - TN/(TN+FP) # 1-specificity - false positive rate\n",
    "    \n",
    "    return tpr, fpr"
   ]
  },
  {
   "cell_type": "code",
   "execution_count": null,
   "metadata": {},
   "outputs": [],
   "source": [
    "def get_all_roc_coordinates(y_real, y_proba):\n",
    "    '''\n",
    "    Calculates all the ROC Curve coordinates (tpr and fpr) by considering each point as a threshold for the predicion of the class.\n",
    "    \n",
    "    Args:\n",
    "        y_real: The list or series with the real classes.\n",
    "        y_proba: The array with the probabilities for each class, obtained by using the `.predict_proba()` method.\n",
    "        \n",
    "    Returns:\n",
    "        tpr_list: The list of TPRs representing each threshold.\n",
    "        fpr_list: The list of FPRs representing each threshold.\n",
    "    '''\n",
    "    tpr_list = [0]\n",
    "    fpr_list = [0]\n",
    "    for i in range(len(y_proba)):\n",
    "        threshold = y_proba[i]\n",
    "        y_pred = y_proba >= threshold\n",
    "        tpr, fpr = calculate_tpr_fpr(y_real, y_pred)\n",
    "        tpr_list.append(tpr)\n",
    "        fpr_list.append(fpr)\n",
    "    return tpr_list, fpr_list"
   ]
  },
  {
   "cell_type": "code",
   "execution_count": null,
   "metadata": {},
   "outputs": [],
   "source": [
    "def plot_roc_curve(tpr, fpr, scatter = True, ax = None):\n",
    "    '''\n",
    "    Plots the ROC Curve by using the list of coordinates (tpr and fpr).\n",
    "    \n",
    "    Args:\n",
    "        tpr: The list of TPRs representing each coordinate.\n",
    "        fpr: The list of FPRs representing each coordinate.\n",
    "        scatter: When True, the points used on the calculation will be plotted with the line (default = True).\n",
    "    '''\n",
    "    if ax == None:\n",
    "        plt.figure(figsize=(5, 5))\n",
    "        ax = plt.axes()\n",
    "    \n",
    "    if scatter:\n",
    "        sns.scatterplot(x=fpr, y=tpr, ax=ax)\n",
    "    sns.lineplot(x=fpr, y=tpr, ax=ax)\n",
    "    sns.lineplot(x=[0, 1], y=[0, 1], color='green', ax=ax)\n",
    "    plt.xlim(-0.05, 1.05)\n",
    "    plt.ylim(-0.05, 1.05)\n",
    "    plt.xlabel(\"False Positive Rate\")\n",
    "    plt.ylabel(\"True Positive Rate\")"
   ]
  },
  {
   "cell_type": "markdown",
   "metadata": {},
   "source": [
    "ROC Curve - One vs Rest (OvR)\n",
    "\n",
    "Compares each class with the rest of the classes"
   ]
  },
  {
   "cell_type": "code",
   "execution_count": null,
   "metadata": {},
   "outputs": [],
   "source": [
    "classes = model.classes_\n",
    "\n",
    "bins = [i/20 for i in range(20)] + [1]\n",
    "\n",
    "# figure width to change with number of classes\n",
    "width = 15 * (len(classes)/6)\n",
    "\n",
    "# Create a figure per kfold\n",
    "for k in range(n_kfold):\n",
    "    # Plots the Probability Distributions and the ROC Curves One vs Rest\n",
    "    plt.figure(figsize = (width, 8))\n",
    "    fig.suptitle(f'K-fold {k}')\n",
    "    roc_auc_ovr = {}\n",
    "\n",
    "    # Get k fold split\n",
    "    (X_train, X_test, y_train, y_test) = get_x_y_data(train_data_kfold[k],\n",
    "                                                      test_data_kfold[k],\n",
    "                                                      'discharge_disability')\n",
    "\n",
    "    # With a subplot for each class\n",
    "    for i in range(len(classes)):\n",
    "\n",
    "        # Gets the class\n",
    "        c = classes[i]\n",
    "        \n",
    "        # Prepares an auxiliar dataframe to help with the plots\n",
    "        df_aux = pd.DataFrame()\n",
    "        df_aux['class'] = [1 if y == c else 0 for y in y_test]\n",
    "        df_aux['prob'] = y_probs_kfold[k][:, i]\n",
    "        df_aux = df_aux.reset_index(drop = True)\n",
    "        \n",
    "        # Calculates the ROC AUC OvR\n",
    "        roc_auc_ovr[c] = roc_auc_score(df_aux['class'], df_aux['prob'])\n",
    "\n",
    "        # Plots the probability distribution for the class and the rest\n",
    "        ax = plt.subplot(2, len(classes), i+1)\n",
    "        sns.histplot(x=\"prob\", data=df_aux, hue='class', color='b', \n",
    "                     ax=ax, bins=bins)\n",
    "        ax.set_title(f'Histogram (class {c})')\n",
    "        ax.legend([f\"Class: {c}\", \"Rest\"])\n",
    "        ax.set_xlabel(f\"P(x = {c})\")\n",
    "        \n",
    "        # Calculates the ROC Coordinates and plots the ROC Curves\n",
    "        ax_bottom = plt.subplot(2, len(classes), i+len(classes)+1)\n",
    "        tpr, fpr = get_all_roc_coordinates(df_aux['class'], df_aux['prob'])\n",
    "        plot_roc_curve(tpr, fpr, scatter = False, ax = ax_bottom)\n",
    "        ax_bottom.set_title(\n",
    "                    f'AUCROC (class {c}): {round(roc_auc_ovr[c],3)}')\n",
    "        \n",
    "    plt.tight_layout()\n",
    "\n",
    "    # Save\n",
    "    filename = os.path.join(paths.output_save_path, (paths.notebook + \n",
    "                    paths.model_text + '_rocauc_ovr_kfold_' + str(k) + '.jpg')) \n",
    "    plt.savefig(filename, dpi=300)\n",
    "    plt.show()\n"
   ]
  },
  {
   "cell_type": "markdown",
   "metadata": {},
   "source": [
    "Here we show the exact same results, instead this time each set of subplots shows the same class for all kfolds (rather above shows the set of subplots for each of the classes in the same kfold)"
   ]
  },
  {
   "cell_type": "code",
   "execution_count": null,
   "metadata": {},
   "outputs": [],
   "source": [
    "classes = model.classes_\n",
    "\n",
    "bins = [i/20 for i in range(20)] + [1]\n",
    "\n",
    "# figure width to change with number of kfolds\n",
    "width = 15 * (n_kfold/5)\n",
    "\n",
    "# Create a figure per class\n",
    "for i in range(len(classes)):\n",
    "    # Gets the class\n",
    "    c = classes[i]\n",
    "    \n",
    "    # Plots the Probability Distributions and the ROC Curves One vs Rest\n",
    "    plt.figure(figsize = (width, 8))\n",
    "    fig.suptitle(f'Class {c}')\n",
    "    roc_auc_ovr = {}\n",
    "\n",
    "    # With a subplot for each kfold\n",
    "    for k in range(n_kfold):\n",
    "        \n",
    "        # Get k fold split\n",
    "        (X_train, X_test, y_train, y_test) = get_x_y_data(\n",
    "                                                    train_data_kfold[k],\n",
    "                                                    test_data_kfold[k],\n",
    "                                                    'discharge_disability')\n",
    "        \n",
    "        # Prepares an auxiliar dataframe to help with the plots\n",
    "        df_aux = pd.DataFrame()\n",
    "        df_aux['class'] = [1 if y == c else 0 for y in y_test]\n",
    "        df_aux['prob'] = y_probs_kfold[k][:, i]\n",
    "        df_aux = df_aux.reset_index(drop = True)\n",
    "        \n",
    "        # Calculates the ROC AUC OvR\n",
    "        roc_auc_ovr[k] = roc_auc_score(df_aux['class'], df_aux['prob'])\n",
    "\n",
    "        # Plots the probability distribution for the class and the rest\n",
    "        ax = plt.subplot(2, 5, (k + 1))\n",
    "        sns.histplot(x=\"prob\", data=df_aux, hue='class', color='b', \n",
    "                     ax=ax, bins=bins)\n",
    "        ax.set_title(f'Histogram (k-fold {k+1})')\n",
    "        ax.legend([f\"Class: {c}\", \"Rest\"])\n",
    "        ax.set_xlabel(f\"P(x = {c})\")\n",
    "        \n",
    "        # Calculates the ROC Coordinates and plots the ROC Curves\n",
    "        ax_bottom = plt.subplot(2, 5, (k + 1 + n_kfold))\n",
    "        tpr, fpr = get_all_roc_coordinates(df_aux['class'], df_aux['prob'])\n",
    "        plot_roc_curve(tpr, fpr, scatter=False, ax=ax_bottom)\n",
    "        ax_bottom.set_title(\n",
    "                    f'AUCROC (k-fold {k+1}): {round(roc_auc_ovr[k],3)}')\n",
    "        \n",
    "    plt.tight_layout()\n",
    "\n",
    "    # Save\n",
    "    filename = os.path.join(paths.output_save_path, (paths.notebook + \n",
    "                    paths.model_text + '_rocauc_ovr_class_' + str(c) + '.jpg'))\n",
    "    plt.savefig(filename, dpi=300)\n",
    "    plt.show()\n"
   ]
  },
  {
   "cell_type": "markdown",
   "metadata": {},
   "source": [
    "To interpret the above plots, think of the model as having 7 separate parts, each giving the probability of classifying an instance as each class (0, 1, 2, 3, 4, 5, 6).\n",
    "\n",
    "These charts look at the performance of each of the model parts in isolation.\n",
    "\n",
    "Left hand graph: Showing the probability of the model classifying an instance as class 0, for all of the instances that are a 0 (orange), for all the instances that are not 0 (blue). The blues are made up of the classes 1, 2, 3, 4, 5, 6.\n",
    "\n",
    "Right hand graph: Showing the probability of the model classifying an instance as class 6, for all of the instances that are a 6 (orange), for all the instances that are not 6 (blue). The blues are made up of the classes 0, 1, 2, 3, 4, 5.\n",
    "\n",
    "The model does not use a set threshold to determine the classification from a single graph (as in a binary label model). It instead classifies instances based on the class that has the maximum probability for that instance.\n",
    "\n",
    "Therefore, for the LHS graph we can not know which of the instances end up getting a class 0 classification, as the threshold will differ for each instnace. So an orange point with 0.3 probability may get a 0 classification, and another orange point with 0.3 probability may not get a 0 classification.\n",
    "\n",
    "Using ROC AUC to choose the features means we are choosing the feature which best differentiates each class from the others (a mean across all classes). It is not showing a model that has the best prediction (as it is not comparing the probabilities across the 7 classes).\n",
    "\n",
    "The blue histogram in the OvR graphs represents the other 6 classes. When perform OvO the orange distribution is the same across all the graphs, but the blue is filtered to show just one of the other classes. Summing up all the OvR blue bits will give the OvO graph.\n",
    "\n",
    "(see end of notebook for analysis using OvO)"
   ]
  },
  {
   "attachments": {},
   "cell_type": "markdown",
   "metadata": {},
   "source": [
    "## Section 2: Calibration and assessment of accuracy when model has high confidence.\n",
    "\n",
    "To test for callibration, look at each output classification separately, take all of the instances and group them based on the probability for that classification as given by the model. See how many are that classification. \n",
    "For example, all of the instances that the model gives a probability in the range 0.2 to 0.3, in a well callibrated model between 0.2 to 0.3 of these instances would be this category). \n",
    "\n",
    "For a multiclass classification model, we calculate the calibration for each class.\n",
    "\n",
    "Need to get the probability for the true category per instance."
   ]
  },
  {
   "cell_type": "markdown",
   "metadata": {},
   "source": [
    "Define function to plot line per kfold data in dataframe"
   ]
  },
  {
   "cell_type": "code",
   "execution_count": null,
   "metadata": {},
   "outputs": [],
   "source": [
    "def plot_results(reliability_collated, c, ax, n_kfold, title_text=\"\"):\n",
    "    \"\"\"\n",
    "    reliability_collated (dataframe): Contains 3 columns per bin\n",
    "    c (string): The classification category (used in the plot title)\n",
    "    ax (matplotlib axis object):  \n",
    "    \"\"\"\n",
    "\n",
    "    # Loop through k-fold reliability results\n",
    "    for k in range(n_kfold):\n",
    "        # Get values for the kfold\n",
    "        mask = reliability_collated['k-fold'] == k\n",
    "        result_kfold = reliability_collated[mask]\n",
    "        # Plot the confidence vs fraction positive\n",
    "        x = result_kfold['confidence']\n",
    "        y = result_kfold['fraction_positive']\n",
    "        ax.plot(x,y, color='orange')\n",
    "\n",
    "    # Add 1:1 line\n",
    "    ax.plot([0,1],[0,1], color='k', linestyle ='--')\n",
    "\n",
    "    # Refine plot\n",
    "    ax.set_xlabel('Model probability')\n",
    "    ax.set_ylabel('Fraction positive')\n",
    "    ax.set_xlim(0, 1)\n",
    "    ax.set_ylim(0, 1)\n",
    "    ax.set_title(f'Predicting mRS{round(c)}\\n{title_text}')\n",
    "\n",
    "    return(ax)"
   ]
  },
  {
   "cell_type": "markdown",
   "metadata": {},
   "source": [
    "Define function to create the dataframe df_reliability"
   ]
  },
  {
   "cell_type": "code",
   "execution_count": null,
   "metadata": {},
   "outputs": [],
   "source": [
    "def create_df_reliability(digitized, prob_observed,\n",
    "                          observed_binary, classification, observed, c):\n",
    "    df = pd.DataFrame()\n",
    "    df['bin'] = digitized\n",
    "    df['probability_observed'] = prob_observed\n",
    "    df['observed'] = observed_binary\n",
    "    df['classification'] = classification\n",
    "    df['correct'] = observed == classification\n",
    "    df['count'] = 1\n",
    "    df['class'] = c\n",
    "\n",
    "    return(df)"
   ]
  },
  {
   "cell_type": "markdown",
   "metadata": {},
   "source": [
    "Define function to group data in dataframe by value in column \"bins\"\n",
    "\n",
    "# KP qus, can we not pass \"bins\" and instead use the data in column bins to populate that column?"
   ]
  },
  {
   "cell_type": "code",
   "execution_count": null,
   "metadata": {},
   "outputs": [],
   "source": [
    "def group_data_by_bins(bins, k, df_reliability):\n",
    "    \n",
    "    df = pd.DataFrame()\n",
    "\n",
    "    # Add bins and k-fold to summary\n",
    "    df['bin'] = bins\n",
    "    df['bin_nominal'] = np.array(range(len(bins)))\n",
    "    df['k-fold'] = k\n",
    "\n",
    "    # Calculate mean of predicted probability of correct category in each bin\n",
    "    df['confidence'] = \\\n",
    "        df_reliability.groupby('bin').mean()['probability_observed']\n",
    "\n",
    "    # Calculate the proportion of patients in this class\n",
    "    df[f'fraction_positive'] = \\\n",
    "        df_reliability.groupby('bin').mean()['observed']\n",
    "\n",
    "    # Calculate proportion correct in each bin\n",
    "    df['fraction_correct'] = \\\n",
    "        df_reliability.groupby('bin').mean()['correct']\n",
    "\n",
    "    # Calculate fraction of results in each bin\n",
    "    df['fraction_results'] = \\\n",
    "        df_reliability.groupby('bin').sum()['count'] / df_reliability.shape[0]\n",
    "\n",
    "    return(df)"
   ]
  },
  {
   "cell_type": "markdown",
   "metadata": {},
   "source": [
    "Define function to define the bins (based on bin method) and digitize the data (prob_observed) into these bins."
   ]
  },
  {
   "cell_type": "code",
   "execution_count": null,
   "metadata": {},
   "outputs": [],
   "source": [
    "def calculate_bins_digitized(bin_method, prob_observed):\n",
    "    \n",
    "    if bin_method == 'steps':\n",
    "        # Bin data with numpy digitize (this will assign a bin to each instance \n",
    "        # based on the probability assigned by the model)\n",
    "        # Create bins with equal steps\n",
    "        step = 0.10\n",
    "        # Using np.round() and tolist() to force the values to be floats\n",
    "        # with 1dp\n",
    "        bins = np.round(np.arange(step, 1+step, step),1).tolist()\n",
    "        digitized = np.digitize(prob_observed, bins)\n",
    "    elif bin_method == 'counts':\n",
    "        # Create bins with equal counts (ensure a good number of instances in each bin)\n",
    "        (res, bins) = pd.qcut(prob_observed, q=10, retbins=True)\n",
    "        digitized = np.digitize(prob_observed, bins)\n",
    "    return(bins, digitized)"
   ]
  },
  {
   "cell_type": "markdown",
   "metadata": {},
   "source": [
    "Plot calibration per classification (showing the 5 individual k-folds)"
   ]
  },
  {
   "cell_type": "code",
   "execution_count": null,
   "metadata": {},
   "outputs": [],
   "source": [
    "# Setup dictionary to store dataframes of results\n",
    "dict_results = dict()\n",
    "\n",
    "fig = plt.figure(figsize=(20,10))\n",
    "\n",
    "subplot = 0\n",
    "\n",
    "for bin_method in ['steps', 'counts']:\n",
    "\n",
    "    # Reset column counter\n",
    "    col = 0\n",
    "\n",
    "    for c in class_names:\n",
    "        # Collate results for each class in a Dataframe\n",
    "        reliability_collated = pd.DataFrame()\n",
    "\n",
    "        # Loop through k fold predictions\n",
    "        for k in range(n_kfold):\n",
    "\n",
    "            # Get k fold split\n",
    "            (X_train, X_test, y_train, y_test) = (\n",
    "                get_x_y_data(train_data_kfold[k], test_data_kfold[k],\n",
    "                             'discharge_disability'))\n",
    "\n",
    "            # Get observed class\n",
    "            observed = y_test\n",
    "            # And convert to binary for this class (1 = in class, 0 = rest)\n",
    "            observed_binary = observed == c\n",
    "    \n",
    "            # Probability for current class and kfold, for all instances\n",
    "            prob_observed = y_probs_kfold[k][:,col]\n",
    "\n",
    "            # Determine the models classification of each instance\n",
    "            classification = np.argmax(y_probs_kfold[k], axis=1)\n",
    "\n",
    "            # Depending on bin method, convert prob_observed into bins            \n",
    "            (bins, digitized) = calculate_bins_digitized(bin_method, \n",
    "                                                         prob_observed)\n",
    "\n",
    "            # Put single fold data in DataFrame\n",
    "            df_reliability = create_df_reliability(digitized, prob_observed,\n",
    "                                observed_binary, classification, observed, c)\n",
    "\n",
    "            # Summarise data by bin in new dataframe\n",
    "            df_reliability_by_bins = group_data_by_bins(bins,k,df_reliability)\n",
    "\n",
    "            # Add k-fold results to DataFrame collation\n",
    "            reliability_collated = reliability_collated.append(\n",
    "                                                        df_reliability_by_bins)\n",
    "\n",
    "        # Get probability from next column (for next class)\n",
    "        col += 1\n",
    "        subplot += 1\n",
    "\n",
    "        # Get mean results across kfolds\n",
    "        reliability_mean_kfolds = reliability_collated.groupby('bin').mean()\n",
    "        reliability_mean_kfolds.drop('k-fold', axis=1, inplace=True)\n",
    "    \n",
    "        # Plot predicted prob vs fraction positive\n",
    "        ax = fig.add_subplot(2, n_classes, subplot)\n",
    "\n",
    "        plot_results(reliability_collated, c, ax, n_kfold,\n",
    "                     title_text=f\"(equal {bin_method})\")\n",
    "\n",
    "        # instantiate a second axes that shares the same x-axis\n",
    "        ax1 = ax.twinx()  \n",
    "        for k in range(5):\n",
    "            mask = reliability_collated['k-fold'] == k\n",
    "            result_kfold = reliability_collated[mask]\n",
    "            x = result_kfold['confidence']\n",
    "            y = result_kfold['fraction_results']\n",
    "            ax1.plot(x,y, color='blue')\n",
    "            \n",
    "        ax1.set_xlim(0, 1)\n",
    "        ax1.set_ylim(0, 0.5)\n",
    "        ax1.set_ylabel('Fraction of instances')\n",
    "\n",
    "        ax.grid()\n",
    "        ax1.grid()\n",
    "\n",
    "        # Only put one legend in figure (bottom left subplot)\n",
    "        if subplot == n_classes+1:\n",
    "            custom_lines = [Line2D([0], [0], color='orange', alpha=0.6, lw=2),\n",
    "                            Line2D([0], [0], color='blue', alpha = 0.6, lw=2)]\n",
    "            \n",
    "            # Place it below x axis a quarter length of y axis\n",
    "            y_range = ax.get_ylim()[1] - ax.get_ylim()[0]\n",
    "            \n",
    "            plt.legend(custom_lines, \n",
    "                       ['Fraction positive', 'Fraction of instances'],\n",
    "                       loc='lower center', \n",
    "                       bbox_to_anchor=(0,-(y_range * 0.25),0,0))\n",
    "\n",
    "        plt.tight_layout(pad=2)\n",
    "\n",
    "        # Store in dictionary\n",
    "        dict_results[f'reliability_collated_{bin_method}_{c}'] = (\n",
    "                                                        reliability_collated)\n",
    "        dict_results[f'reliability_mean_kfolds_{bin_method}_{c}'] = (\n",
    "                                                        reliability_mean_kfolds)\n",
    "        \n",
    "fig.tight_layout(pad=2)\n",
    "\n",
    "filename = os.path.join(paths.output_save_path, \n",
    "                       (paths.notebook + paths.model_text + '_calibration.jpg'))\n",
    "plt.savefig(filename, dpi=300)"
   ]
  },
  {
   "cell_type": "markdown",
   "metadata": {},
   "source": [
    "Represent the plots as the mean, with the standard deviation across the kfolds. (from notebook 01_xgb_5fold_all_features_accuracy_importance_shap.ipynb)"
   ]
  },
  {
   "cell_type": "code",
   "execution_count": null,
   "metadata": {},
   "outputs": [],
   "source": [
    "dict_results[f'reliability_collated_{class_names[0]}']"
   ]
  },
  {
   "cell_type": "code",
   "execution_count": null,
   "metadata": {},
   "outputs": [],
   "source": [
    "fig = plt.figure(figsize=(20,5))\n",
    "\n",
    "col = 1\n",
    "\n",
    "for c in class_names:\n",
    "\n",
    "    reliability_collated = dict_results[f'reliability_collated_{c}']\n",
    "\n",
    "    # Calculate mean and standard error across the 5 kfolds in new dataframe\n",
    "    reliability_overview = pd.DataFrame()\n",
    "\n",
    "    reliability_overview['confidence_mean'] = \\\n",
    "        reliability_summary.groupby('bin_nominal').mean()['confidence']\n",
    "\n",
    "    reliability_overview['confidence_stddev'] = \\\n",
    "        reliability_summary.groupby('bin_nominal').std()['confidence']\n",
    "\n",
    "    reliability_overview['confidence_stderr'] = \\\n",
    "        reliability_overview['confidence_stddev']/math.sqrt(5)\n",
    "\n",
    "    reliability_overview['fraction_positive_mean'] = \\\n",
    "        reliability_summary.groupby('bin_nominal').mean()['fraction_positive']\n",
    "\n",
    "    reliability_overview['fraction_positive_stddev'] = \\\n",
    "        reliability_summary.groupby('bin_nominal').std()['fraction_positive']\n",
    "\n",
    "    reliability_overview['fraction_positive_stderr'] = \\\n",
    "        reliability_overview['fraction_positive_stddev']/math.sqrt(5)\n",
    "\n",
    "    x = reliability_overview['confidence_mean']\n",
    "    y = reliability_overview['fraction_positive_mean']\n",
    "    xerr = reliability_overview['confidence_stderr']\n",
    "    yerr = reliability_overview['fraction_positive_stderr']\n",
    "\n",
    "    # Plot predicted prob vs fraction psotive\n",
    "    ax1 = fig.add_subplot(1,n_classes,col)\n",
    "\n",
    "#    ax1.plot(x,y, color='orange')\n",
    "    ax1.errorbar(x, y, yerr=yerr, xerr=xerr, color='orange')\n",
    "    # Add 1:1 line\n",
    "    ax1.plot([0,1],[0,1], color='k', linestyle ='--')\n",
    "    # Refine plot\n",
    "    ax1.set_xlabel('Model probability')\n",
    "    ax1.set_ylabel('Fraction positive')\n",
    "    ax1.set_xlim(0, 1)\n",
    "    ax1.set_ylim(0, 1)\n",
    "    ax1.set_title(f'Discharge disability mRS{c}')\n",
    "    ax1.grid()\n",
    "\n",
    "    col += 1\n",
    "#    filename = f'{paths.data_save_path}{paths.notebook}{paths.model_text}_reliability.jpg'\n",
    "#    plt.savefig(filename, dpi=300)\n",
    "plt.tight_layout(pad=2)"
   ]
  },
  {
   "attachments": {},
   "cell_type": "markdown",
   "metadata": {},
   "source": [
    "## Section 3: Reliability\n",
    "\n",
    "What's the accuracy of model, when model is at least a certain threshold confident?\n",
    "\n",
    "As the model output is softmax (meaning that the sum of all of the class outputs add up to one), if an instance is 50% certain, then it will be classified as this (as no other class could exceed this). Not expecting many to be, as the model splits it's certainty across 7 classes (this would be 1/7 = 14%).\n",
    "\n",
    "For example, look at the model predicting if an instance is each class: How many instances is the model 50% certain that the instance is that class?"
   ]
  },
  {
   "cell_type": "markdown",
   "metadata": {},
   "source": [
    "Choosing a threshold that's one of the bins, to see the performance of the model at this level of confidence."
   ]
  },
  {
   "cell_type": "code",
   "execution_count": null,
   "metadata": {},
   "outputs": [],
   "source": [
    "# Specify threshold to calculate results for (analysis only includes instances \n",
    "# for which the model is this certain for each class).\n",
    "# Specify a value in the tens\n",
    "threshold = 0.4\n",
    "threshold = np.round(threshold,1)\n",
    "\n",
    "# Initialise lists. \n",
    "# For each class, store fraction of instances that the model is this certain\n",
    "list_frac_certain_per_class = []\n",
    "# For each class, store model accuracy for these instances\n",
    "list_accuracy_of_these_per_class = []\n",
    "\n",
    "# Create bins that are relevant to this threshold (using np.round() and tolist()\n",
    "# to force the values to be floats with 1dp)\n",
    "step = 0.10\n",
    "bins = np.round(np.arange(threshold+step, 1, step),1).tolist()\n",
    "\n",
    "print (f'For instances with at least {int(threshold * 100)}% confidence from model')\n",
    "print (f'Include instances in the bins {bins}')\n",
    "print ()\n",
    "for c in class_names:\n",
    "    reliability_mean_kfolds = (\n",
    "                        dict_results[f'reliability_mean_kfolds_steps_{c}'])\n",
    "\n",
    "    frac = reliability_mean_kfolds.loc[bins].sum()['fraction_results']\n",
    "    acc = ((reliability_mean_kfolds.loc[bins]['fraction_correct'] * \n",
    "            reliability_mean_kfolds.loc[bins]['fraction_results']).sum()/frac)\n",
    "\n",
    "    list_frac_certain_per_class.append(frac)\n",
    "    list_accuracy_of_these_per_class.append(acc)\n",
    "    \n",
    "    print (f'PREDICTING CLASS: {round(c)}')\n",
    "    print (f'Proportion of instances with > {int(threshold * 100)}% confidence: {frac:0.3f}')\n",
    "    print (f'Accuracy for instances with > {int(threshold * 100)}% confidence: {acc:0.3f}')\n",
    "    print ()"
   ]
  },
  {
   "cell_type": "markdown",
   "metadata": {},
   "source": [
    "Choosing any threshold to see the performance of the model at this level of confidence."
   ]
  },
  {
   "cell_type": "code",
   "execution_count": null,
   "metadata": {},
   "outputs": [],
   "source": [
    "threshold = 0.45\n",
    "col = 0\n",
    "\n",
    "# Initialise lists. \n",
    "# For each class, store fraction of instances that the model is this certain\n",
    "list_frac_certain_per_class = []\n",
    "# For each class, store model accuracy for these instances\n",
    "list_accuracy_of_these_per_class = []\n",
    "\n",
    "print (f'For instances with at least {int(threshold * 100)}% confidence from model')\n",
    "print ()\n",
    "\n",
    "for c in class_names:\n",
    "    # Collate results for each class in a Dataframe\n",
    "    reliability_collated = pd.DataFrame()\n",
    "\n",
    "    # Loop through k fold predictions\n",
    "    for k in range(5):\n",
    "\n",
    "        # Get k fold split\n",
    "        (X_train, X_test, y_train, y_test) = get_x_y_data(train_data_kfold[k],\n",
    "                                                          test_data_kfold[k],\n",
    "                                                          'discharge_disability')\n",
    "\n",
    "        # Get observed class\n",
    "        observed = y_test\n",
    "        # And convert to binary for this class (1 = in class, 0 = rest)\n",
    "        observed_binary = observed == c\n",
    "\n",
    "        # Probability for current class and kfold, for all instances\n",
    "        prob_observed = y_probs_kfold[k][:,col]\n",
    "        # Determine the models classification of each instance\n",
    "        classification = np.argmax(y_probs_kfold[k], axis=1)\n",
    "        \n",
    "        # Put instances in bin (either less than, or greater than threshold)\n",
    "        bins = [threshold, 1.0]\n",
    "        digitized = np.digitize(prob_observed, bins)\n",
    "\n",
    "        # Put this single kfold data in DataFrame, row per instance\n",
    "        df_reliability = create_df_reliability(digitized, prob_observed,\n",
    "                                observed_binary, classification, observed, c)\n",
    "\n",
    "        # Group instances by bins\n",
    "        df_reliability_by_bins = group_data_by_bins(bins, k, df_reliability)\n",
    "\n",
    "        # Add k-fold results to DataFrame collation\n",
    "        reliability_collated = reliability_collated.append(\n",
    "                                                    df_reliability_by_bins)\n",
    "    # Get mean results for each bin across kfolds\n",
    "    reliability_mean_kfolds = reliability_collated.groupby('bin').mean()\n",
    "    reliability_mean_kfolds.drop('k-fold', axis=1, inplace=True)\n",
    "\n",
    "    # bin_for_threshold\n",
    "    bin_for_threshold = 1.0\n",
    "    frac = reliability_mean_kfolds.loc[bin_for_threshold]['fraction_results']\n",
    "    acc = reliability_mean_kfolds.loc[bin_for_threshold]['fraction_correct']\n",
    "\n",
    "    list_frac_certain_per_class.append(frac)\n",
    "    list_accuracy_of_these_per_class.append(acc)\n",
    "    \n",
    "    col += 1\n",
    "\n",
    "    print (f'PREDICTING CLASS: {round(c)}')\n",
    "    print (f'Proportion of instances with > {int(threshold * 100)}% confidence: {frac:0.3f}')\n",
    "    print (f'Accuracy for instances with > {int(threshold * 100)}% confidence: {acc:0.3f}')\n",
    "    print ()"
   ]
  },
  {
   "cell_type": "markdown",
   "metadata": {},
   "source": [
    "Average across the kfolds, plotting for each class the proportion of instances that the model is that confident about, and for those how many the model is correct on."
   ]
  },
  {
   "cell_type": "code",
   "execution_count": null,
   "metadata": {},
   "outputs": [],
   "source": [
    "fig = plt.figure(figsize=(8,8))\n",
    "\n",
    "# Plot accuracy vs probability\n",
    "ax1 = fig.add_subplot(1,1,1)\n",
    "plt.title(f'For instances with at least {int(threshold * 100)}% '\n",
    "          f'confidence from model')\n",
    "    \n",
    "ax1.plot(class_names, list_accuracy_of_these_per_class, color='orange')\n",
    "# Refine plot\n",
    "ax1.set_xlabel('Category')\n",
    "ax1.set_ylabel(f'Accuracy for instances with > {int(threshold * 100)}% '\n",
    "               f'confidence')\n",
    "\n",
    "# instantiate a second axes that shares the same x-axis\n",
    "ax2 = ax1.twinx()  \n",
    "ax2.plot(class_names, list_frac_certain_per_class, color='blue')\n",
    "ax2.set_ylabel(f'Proportion of instances with > {int(threshold * 100)}% '\n",
    "               f'confidence')\n",
    "        \n",
    "\n",
    "custom_lines = [Line2D([0], [0], color='orange', alpha=0.6, lw=2),\n",
    "                Line2D([0], [0], color='blue', alpha = 0.6,lw=2)]\n",
    "\n",
    "#ax1.grid()\n",
    "#ax2.grid()\n",
    "\n",
    "plt.legend(custom_lines, ['Proportion correct', 'Proportion of instances'],\n",
    "           loc='upper center')"
   ]
  },
  {
   "cell_type": "markdown",
   "metadata": {},
   "source": [
    "***** End of main notebook *****"
   ]
  },
  {
   "cell_type": "markdown",
   "metadata": {},
   "source": [
    "## Extra analysis\n",
    "\n",
    "Code here so as to not clog up the main notebook flow (but could be useful extra visualisations)"
   ]
  },
  {
   "cell_type": "markdown",
   "metadata": {},
   "source": [
    "### ROC Curve - One vs One (OvO)\n",
    "\n",
    "Compares each possible combination of the classes, two at a time.\n",
    "\n",
    "As this is run for each kfold, this is a lot of output. Here show it just for the first kfold (and use the analysis in the notebook looking at one vs rest for the kfold consistency analysis)"
   ]
  },
  {
   "cell_type": "code",
   "execution_count": null,
   "metadata": {},
   "outputs": [],
   "source": [
    "classes_combinations = []\n",
    "for i in range(n_classes):\n",
    "    for j in range(n_classes):\n",
    "        if i != j:\n",
    "            classes_combinations.append([i, j])"
   ]
  },
  {
   "cell_type": "code",
   "execution_count": null,
   "metadata": {},
   "outputs": [],
   "source": [
    "k = 0\n",
    "\n",
    "# Get k fold split\n",
    "(X_train, X_test, y_train, y_test) = get_x_y_data(train_data_kfold[k],\n",
    "                                                    test_data_kfold[k],\n",
    "                                                    'discharge_disability')\n",
    "\n",
    "# Plots the Probability Distributions and the ROC Curves One vs ONe\n",
    "fig_height = 6 * (n_classes-1)\n",
    "\n",
    "plt.figure(figsize = (20, fig_height))\n",
    "bins = [i/20 for i in range(20)] + [1]\n",
    "roc_auc_ovo = {}\n",
    "\n",
    "# For subplot placement\n",
    "col_top = 0\n",
    "group_count = 0\n",
    "\n",
    "for i in range(len(classes_combinations)):\n",
    "    # Gets the class\n",
    "    comb = classes_combinations[i]\n",
    "    c1 = comb[0]\n",
    "    c2 = comb[1]\n",
    "    c1_index = class_names.index(c1)\n",
    "    title = str(c1) + \" vs \" + str(c2)\n",
    "    \n",
    "    # Prepares an auxiliar dataframe to help with the plots\n",
    "    df_aux = pd.DataFrame()#X_test.copy()\n",
    "    df_aux['class'] = y_test\n",
    "    df_aux['prob'] = y_probs[k][:, c1_index]\n",
    "    \n",
    "    # Slices only the subset with both classes\n",
    "    df_aux = df_aux[(df_aux['class'] == c1) | (df_aux['class'] == c2)]\n",
    "    df_aux['class'] = [1 if y == c1 else 0 for y in df_aux['class']]\n",
    "    df_aux = df_aux.reset_index(drop = True)\n",
    "    \n",
    "    # Plots the probability distribution for the class and the rest\n",
    "    group_count += 1\n",
    "    col_top += 1\n",
    "    if group_count == (n_classes):\n",
    "        group_count = 1\n",
    "        col_top = col_top + (n_classes-1)\n",
    "        \n",
    "    # Plots the probability distribution for the class and the rest\n",
    "    #ax = plt.subplot(2, len(classes_combinations), i+1)\n",
    "    ax = plt.subplot(2*n_classes, n_classes-1, col_top)\n",
    "    sns.histplot(x=\"prob\", data=df_aux, hue='class', color='b', ax=ax, \n",
    "                 bins=bins)\n",
    "    ax.set_title(title)\n",
    "    ax.legend([f\"Class 1: {c1}\", f\"Class 0: {c2}\"])\n",
    "    ax.set_xlabel(f\"P(x = {c1})\")\n",
    "    \n",
    "    # Calculates the ROC Coordinates and plots the ROC Curves\n",
    "    col_bottom = col_top + (n_classes-1)\n",
    "    ax_bottom = plt.subplot(2*n_classes, n_classes-1, col_bottom)\n",
    "#   ax_bottom = plt.subplot(2, len(classes_combinations), i+len(classes_combinations)+1)\n",
    "    tpr, fpr = get_all_roc_coordinates(df_aux['class'], df_aux['prob'])\n",
    "    plot_roc_curve(tpr, fpr, scatter = False, ax=ax_bottom)\n",
    "    ax_bottom.set_title(\"ROC Curve OvO\")\n",
    "    \n",
    "    # Calculates the ROC AUC OvO\n",
    "    roc_auc_ovo[title] = roc_auc_score(df_aux['class'], df_aux['prob'])\n",
    "    \n",
    "plt.tight_layout()\n",
    "\n",
    "filename = os.path.join(paths.output_save_path, (paths.notebook + \n",
    "                paths.model_text + '_rocauc_heatmap_kfold' + str(k) + '.jpg'))\n",
    "plt.savefig(filename, dpi=300)"
   ]
  },
  {
   "cell_type": "markdown",
   "metadata": {},
   "source": [
    "To interpret these OvO graphs, look at the x axis to see which category the probability is being shown for. Orange shows the instances that have that classification. Blue shows the instances that have another classification (as shown on the title or legend).\n",
    "\n",
    "The better the model determines the difference between these two classes, the more separate the two histogram (orange to the right - many instances close to probability of 1, with blue to the left - many instances with a probability close to 0)\n",
    "\n",
    "Top left graph narrative: Showing the probability of being class 0. Orange show range of probabilities to be 0 for those instances that are 0. Blue show range of probabilities to be 0 for those instances that are 1.\n",
    "\n",
    "Bottom gright graph narrative: Showing the probability of being class 6. Orange show range of probabilities to be 6 for those instances that are 6. Blue show range of probabilities to be 6 for those instances that are 5."
   ]
  },
  {
   "cell_type": "markdown",
   "metadata": {},
   "source": [
    "Show the ROC AUC for the OvO as a heat map.\n",
    "First prepare the data"
   ]
  },
  {
   "cell_type": "code",
   "execution_count": null,
   "metadata": {},
   "outputs": [],
   "source": [
    "roc_auc_ovo_array = np.empty((n_classes, n_classes), dtype=object)\n",
    "\n",
    "# Displays the ROC AUC for each class\n",
    "for k in roc_auc_ovo:\n",
    "    roc_auc_ovo_array[int(k[0]),int(k[-1])] = roc_auc_ovo[k]\n",
    "\n",
    "# No entry for diagonal, fill with zero\n",
    "np.fill_diagonal(roc_auc_ovo_array, 0)\n",
    "\n",
    "# Convert to flaot\n",
    "roc_auc_ovo_array = roc_auc_ovo_array.astype(float)"
   ]
  },
  {
   "cell_type": "markdown",
   "metadata": {},
   "source": [
    "Plot the ROCAUC heatmap\n",
    "The placement is the output class, the value is how well the model classifies the correct class from one other class."
   ]
  },
  {
   "cell_type": "code",
   "execution_count": null,
   "metadata": {},
   "outputs": [],
   "source": [
    "# Visualize the confusion matrix with colors\n",
    "fig = plt.figure(figsize=(6,6))\n",
    "ax1 = fig.add_subplot(1,1,1)\n",
    "heatmap = plt.imshow(roc_auc_ovo_array, cmap=plt.cm.Blues, origin='lower')\n",
    "colorbar = plt.colorbar(heatmap, shrink=0.8, ax=ax1, alpha=0.5, label='Count')\n",
    "\n",
    "# To add values to plot\n",
    "for i in range(len(roc_auc_ovo_array)):\n",
    "    for j in range(len(roc_auc_ovo_array[0])):\n",
    "        plt.text(j, i, roc_auc_ovo_array[i][j].round(2), ha='center', \n",
    "                 va='center', color='r')\n",
    "\n",
    "ax1.set_xlabel('Predicted value')\n",
    "ax1.set_ylabel('Observed value')\n",
    "plt.show()"
   ]
  },
  {
   "cell_type": "markdown",
   "metadata": {},
   "source": [
    "Showing the calliration as average of kfold, with error bars for variation across the 5 kfolds.\n",
    "\n",
    "The individual kfold lines show the story more clearly"
   ]
  },
  {
   "cell_type": "code",
   "execution_count": null,
   "metadata": {},
   "outputs": [],
   "source": [
    "fig = plt.figure(figsize=(20,5))\n",
    "\n",
    "col = 1\n",
    "\n",
    "for c in class_names:\n",
    "#    reliability_collated = dict_results[f'reliability_collated_count_{c}']\n",
    "    reliability_summary = dict_results[f'reliability_summary_counts_{c}']\n",
    "    # Calculate mean and standard error across the 5 kfolds in new dataframe\n",
    "    reliability_overview = pd.DataFrame()\n",
    "\n",
    "    reliability_overview['confidence_mean'] = \\\n",
    "        reliability_summary.groupby('bin_nominal').mean()['confidence']\n",
    "\n",
    "    reliability_overview['confidence_stddev'] = \\\n",
    "        reliability_summary.groupby('bin_nominal').std()['confidence']\n",
    "\n",
    "    reliability_overview['confidence_stderr'] = \\\n",
    "        reliability_overview['confidence_stddev']/math.sqrt(5)\n",
    "\n",
    "    reliability_overview['fraction_positive_mean'] = \\\n",
    "        reliability_summary.groupby('bin_nominal').mean()['fraction_positive']\n",
    "\n",
    "    reliability_overview['fraction_positive_stddev'] = \\\n",
    "        reliability_summary.groupby('bin_nominal').std()['fraction_positive']\n",
    "\n",
    "    reliability_overview['fraction_positive_stderr'] = \\\n",
    "        reliability_overview['fraction_positive_stddev']/math.sqrt(5)\n",
    "\n",
    "    x = reliability_overview['confidence_mean']\n",
    "    y = reliability_overview['fraction_positive_mean']\n",
    "    xerr = reliability_overview['confidence_stderr']\n",
    "    yerr = reliability_overview['fraction_positive_stderr']\n",
    "\n",
    "    # Plot predicted prob vs fraction psotive\n",
    "    ax1 = fig.add_subplot(1,n_classes,col)\n",
    "\n",
    "#    ax1.plot(x,y, color='orange')\n",
    "    ax1.errorbar(x, y, yerr=yerr, xerr=xerr, color='orange')\n",
    "    # Add 1:1 line\n",
    "    ax1.plot([0,1],[0,1], color='k', linestyle ='--')\n",
    "    # Refine plot\n",
    "    ax1.set_xlabel('Model probability')\n",
    "    ax1.set_ylabel('Fraction positive')\n",
    "    ax1.set_title(f'Predicting mRS{round(c)}\\n (equal counts)')\n",
    "    ax1.set_xlim(0, 1)\n",
    "    ax1.set_ylim(0, 1)\n",
    "\n",
    "    ax1.grid()\n",
    "\n",
    "    col += 1\n",
    "    filename = os.path.join(paths.output_save_path, \n",
    "                       (paths.notebook + paths.model_text + '_reliability.jpg')\n",
    "    plt.savefig(filename, dpi=300)\n",
    "\n",
    "plt.tight_layout(pad=2)"
   ]
  },
  {
   "cell_type": "markdown",
   "metadata": {},
   "source": [
    "Calculate reliability, and plot alongside the calibration results for each class (using bins as defined as 1. equal steps 2. equal counts)\n",
    "\n",
    "The reliability is not as easy to understand for the multiclass classification case.\n",
    "\n",
    "When it is a binary case, you know the assigned predicted class by comparing a single output value with a threshold value (default 0.5).\n",
    "For the multiclass classification, the assigned predicted class is the class with the largest probability - need to check all before know the result."
   ]
  },
  {
   "cell_type": "code",
   "execution_count": null,
   "metadata": {},
   "outputs": [],
   "source": [
    "for c in class_names:\n",
    "    subplot = 0\n",
    "    print(f'Results for class {c}')\n",
    "\n",
    "    fig = plt.figure(figsize=(8,8))\n",
    "\n",
    "    for bin_method in ['steps', 'counts']:\n",
    "        reliability_collated = (\n",
    "                    dict_results[f'reliability_collated_{bin_method}_{c}'])\n",
    "\n",
    "        # Plot predicted prob vs fraction psotive\n",
    "        subplot+=1\n",
    "        ax1 = fig.add_subplot(2,2,subplot)\n",
    "\n",
    "        # Loop through k-fold reliability results\n",
    "        for k in range(5):\n",
    "            mask = reliability_collated['k-fold'] == k\n",
    "            result_kfold = reliability_collated[mask]\n",
    "            x = result_kfold['confidence']\n",
    "            y = result_kfold['fraction_positive']\n",
    "            ax1.plot(x,y, color='orange')\n",
    "        # Add 1:1 line\n",
    "        ax1.plot([0,1],[0,1], color='k', linestyle ='--')\n",
    "        # Refine plot\n",
    "        ax1.set_xlabel('Model probability')\n",
    "        ax1.set_ylabel('Fraction positive')\n",
    "        ax1.set_title(f'Bins have equal {bin_method}')\n",
    "        ax1.set_xlim(0, 1)\n",
    "        ax1.set_ylim(0, 1)\n",
    "\n",
    "        subplot+=1\n",
    "        # Plot accuratest_data[k]cy vs probability\n",
    "        ax2 = fig.add_subplot(2,2,subplot)\n",
    "        # Loop through k-fold reliability results\n",
    "        for k in range(5):\n",
    "            mask = reliability_collated['k-fold'] == k\n",
    "            result_kfold = reliability_collated[mask]\n",
    "            x = result_kfold['confidence']\n",
    "            y = result_kfold['fraction_correct']\n",
    "            ax2.plot(x,y, color='orange')\n",
    "        # Refine plot\n",
    "        ax2.set_xlabel('Model probability')\n",
    "        ax2.set_ylabel('Fraction correct')\n",
    "        ax2.set_xlim(0, 1)\n",
    "        ax2.set_ylim(0, 1)\n",
    "\n",
    "        # instantiate a second axes that shares the same x-axis\n",
    "        ax3 = ax2.twinx()  \n",
    "        for k in range(5):\n",
    "            mask = reliability_collated['k-fold'] == k\n",
    "            result_kfold = reliability_collated[mask]\n",
    "            x = result_kfold['confidence']\n",
    "            y = result_kfold['fraction_results']\n",
    "            ax3.plot(x,y, color='blue')\n",
    "            \n",
    "        ax3.set_xlim(0, 1)\n",
    "        ax3.set_ylim(0, 0.5)\n",
    "        ax3.set_ylabel('Fraction of samples')\n",
    "\n",
    "        custom_lines = [Line2D([0], [0], color='orange', alpha=0.6, lw=2),\n",
    "                        Line2D([0], [0], color='blue', alpha = 0.6,lw=2)]\n",
    "\n",
    "        ax1.grid()\n",
    "        ax2.grid()\n",
    "\n",
    "        plt.legend(custom_lines, ['Fraction correct', 'Fraction of samples'],\n",
    "                loc='upper center')\n",
    "\n",
    "    plt.tight_layout(pad=2)\n",
    "\n",
    "    filename = os.path.join(paths.output_save_path, \n",
    "                      (paths.notebook + paths.model_text + '_reliability.jpg'))\n",
    "    plt.savefig(filename, dpi=300)\n",
    "    plt.show()"
   ]
  },
  {
   "cell_type": "markdown",
   "metadata": {},
   "source": [
    "Creating subplots with tuple and creating a separate disctionary. Before found subplots can return an array of Axes\n",
    "https://matplotlib.org/stable/api/_as_gen/matplotlib.pyplot.subplots.html "
   ]
  },
  {
   "cell_type": "code",
   "execution_count": null,
   "metadata": {},
   "outputs": [],
   "source": [
    "# Set up the figure and the axes\n",
    "fig, (ax1, ax2, ax3, ax4, ax5) = plt.subplots(1,5)\n",
    "\n",
    "# Create a dictionary of the axes so can loop through them\n",
    "dict_axes = {}\n",
    "dict_axes['ax1'] = ax1\n",
    "dict_axes['ax2'] = ax2\n",
    "dict_axes['ax3'] = ax3\n",
    "dict_axes['ax4'] = ax4\n",
    "dict_axes['ax5'] = ax5\n",
    "\n",
    "# Define for the figure\n",
    "fig.suptitle('Confusion matrices (per kfold)', fontsize=20)\n",
    "fig.set_size_inches(20,5)\n",
    "shrink = 0.5\n",
    "\n",
    "# Loop through the kfolds, subplot per kfold\n",
    "for k in range(5):\n",
    "    # Get axes\n",
    "    ax = dict_axes[f'ax{k+1}']\n",
    "    # Set axis title\n",
    "    ax.set_title(f'Kfold {k+1}')\n",
    "\n",
    "    # Get k fold split\n",
    "    (X_train, X_test, y_train, y_test) = get_x_y_data(train_data_kfold[k],\n",
    "                                                      test_data_kfold[k],\n",
    "                                                      'discharge_disability')\n",
    "    # Calculate values for confusion matrix\n",
    "    cm = confusion_matrix(y_test, y_pred_kfold[k])\n",
    "\n",
    "    # Visualize the confusion matrix with colors\n",
    "    heatmap = ax.imshow(cm, cmap=plt.cm.Blues, origin='lower')\n",
    "    plt.colorbar(heatmap, shrink=shrink, ax=ax, alpha=0.5, label='Count')\n",
    "\n",
    "    #Add values to plot\n",
    "    for i in range(len(cm)):\n",
    "        for j in range(len(cm[0])):\n",
    "            ax.text(j, i, cm[i][j], ha='center', va='center', color='grey', \n",
    "                    size=8)\n",
    "\n",
    "    ax.set_xlabel('Predicted value')\n",
    "    ax.set_ylabel('Observed value')\n",
    "\n",
    "plt.tight_layout()\n",
    "# Make space for title\n",
    "plt.subplots_adjust(top=1)\n",
    "\n",
    "filename = os.path.join(paths.output_save_path, (paths.notebook + \n",
    "                        paths.model_text + '_confusion_matrices_per_kfold.jpg'))\n",
    "plt.savefig(filename, dpi=300)\n",
    "\n",
    "plt.show()"
   ]
  }
 ],
 "metadata": {
  "kernelspec": {
   "display_name": "Python 3.10.11 ('sam10')",
   "language": "python",
   "name": "python3"
  },
  "language_info": {
   "codemirror_mode": {
    "name": "ipython",
    "version": 3
   },
   "file_extension": ".py",
   "mimetype": "text/x-python",
   "name": "python",
   "nbconvert_exporter": "python",
   "pygments_lexer": "ipython3",
   "version": "3.10.12"
  },
  "orig_nbformat": 4,
  "vscode": {
   "interpreter": {
    "hash": "f85b883bff9a8a9f39576b94acbdf6672b3dc17c35647e7395f81e785740a4b3"
   }
  }
 },
 "nbformat": 4,
 "nbformat_minor": 2
}
