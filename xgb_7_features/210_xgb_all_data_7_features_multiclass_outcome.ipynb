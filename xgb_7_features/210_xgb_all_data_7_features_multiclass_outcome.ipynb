{
 "cells": [
  {
   "attachments": {},
   "cell_type": "markdown",
   "metadata": {},
   "source": [
    "# XGBoost models informed by feature selection analysis (using all data)\n",
    "\n",
    "### Plain English summary\n",
    "\n",
    "Use a model equivalent to the one trained in notebook 040 (but for this one use all data to train the model, and no test set) to calculate the multiclass mRS distributions (individual mRS + cumulative distributions + weighted mRS) for all of the patients in the population with/without thrombolysis (Assume no-one on AFIb anticoagulant would receive thrombolysis - so remove these from the population and report the number removed).\n",
    "\n",
    "The model includes 7 features: [\"prior_disability\", \"stroke_severity\", \"stroke_team\", \"age\", \"onset-to-thrombolysis-time\", \"any_afib_diagnosis\", \"precise_onset_known\"]\n",
    "\n",
    "How would outcomes compare using:\n",
    "1. actual decision made\n",
    "1. benchmark\n",
    "1. 'best outcome'\n",
    "\n",
    "### Model and data\n",
    "XGBoost\\\n",
    "7 features: [\"prior_disability\", \"stroke_severity\", \"stroke_team\", \"age\", \"onset-to-thrombolysis-time\", \"any_afib_diagnosis\", \"precise_onset_known\"]\\\n",
    "All data (not use kfolds)\n",
    "\n",
    "### Aims\n",
    "\n",
    "### Observations\n",
    "\n",
    "\n",
    "#### Further work\n",
    "\n",
    "#### Resources\n",
    "pip install plotly\n",
    "pip install dash"
   ]
  },
  {
   "attachments": {},
   "cell_type": "markdown",
   "metadata": {},
   "source": [
    "## Import libraries"
   ]
  },
  {
   "cell_type": "code",
   "execution_count": 2,
   "metadata": {},
   "outputs": [],
   "source": [
    "# Turn warnings off to keep notebook tidy\n",
    "import warnings\n",
    "warnings.filterwarnings(\"ignore\")\n",
    "\n",
    "import os\n",
    "import matplotlib.pyplot as plt\n",
    "from matplotlib.lines import Line2D\n",
    "import numpy as np\n",
    "import pandas as pd\n",
    "#import plotly.express as px\n",
    "\n",
    "import scipy\n",
    "\n",
    "from xgboost import XGBClassifier\n",
    "from sklearn.metrics import auc\n",
    "from sklearn.metrics import roc_curve\n",
    "\n",
    "import json\n",
    "\n",
    "from dataclasses import dataclass\n",
    "\n",
    "import seaborn as sns\n",
    "\n",
    "from sklearn.metrics import roc_auc_score\n",
    "\n",
    "from sklearn.metrics import confusion_matrix\n",
    "\n",
    "import pickle\n",
    "import shap\n",
    "\n",
    "from os.path import exists\n",
    "\n",
    "import math\n",
    "\n",
    "import importlib\n",
    "# Import local package\n",
    "#from utils import waterfall\n",
    "## Force package to be reloaded\n",
    "#importlib.reload(waterfall);\n",
    "\n",
    "# Need for cm subplots?\n",
    "#from mpl_toolkits.axes_grid1 import make_axes_locatable\n",
    "#from matplotlib.colors import LogNorm\n",
    "#from matplotlib.ticker import MultipleLocator\n",
    "\n",
    "#pip install category_encoders\n",
    "#import category_encoders as ce\n",
    "\n",
    "#import dash_core_components as dcc\n",
    "#from dash import dcc\n",
    "#import plotly.express as px\n",
    "#import plotly.subplots as sp\n",
    "#from plotly.offline import plot\n",
    "#from plotly.subplots import make_subplots\n",
    "\n",
    "import time"
   ]
  },
  {
   "attachments": {},
   "cell_type": "markdown",
   "metadata": {},
   "source": [
    "Report the time duration to run notebook"
   ]
  },
  {
   "cell_type": "code",
   "execution_count": 3,
   "metadata": {},
   "outputs": [],
   "source": [
    "start_time = time.time()"
   ]
  },
  {
   "cell_type": "code",
   "execution_count": null,
   "metadata": {},
   "outputs": [],
   "source": [
    "# For those patients that do not get thrombolysis, the onset to thrombolysis time to calculate their outcome had they been given thrombolysis\n",
    "ott_default = 120"
   ]
  },
  {
   "cell_type": "markdown",
   "metadata": {},
   "source": [
    "Select the features for the model for disability discharge"
   ]
  },
  {
   "cell_type": "code",
   "execution_count": 36,
   "metadata": {},
   "outputs": [],
   "source": [
    "selected_features_mrs = [\"prior_disability\", \"stroke_severity\", \"stroke_team\", \n",
    "                     \"age\", \"onset_to_thrombolysis_time\", \"any_afib_diagnosis\", \n",
    "                     \"precise_onset_known\"]\n",
    "n_features = len(selected_features_mrs)\n",
    "selected_features_mrs.append('discharge_disability')"
   ]
  },
  {
   "cell_type": "markdown",
   "metadata": {},
   "source": [
    "Select the features for the model for treatment"
   ]
  },
  {
   "cell_type": "code",
   "execution_count": 40,
   "metadata": {},
   "outputs": [],
   "source": [
    "selected_features_treatment = [\"prior_disability\", \"stroke_severity\", \n",
    "                     \"age\", \"arrival_to_scan_time\", \"precise_onset_known\", \n",
    "                     \"onset_to_arrival_time\",\"onset_during_sleep\", \"stroke_team\"]\n",
    "n_features = len(selected_features_treatment)\n",
    "selected_features_treatment.append(\"S2Thrombolysis\")\n"
   ]
  },
  {
   "cell_type": "markdown",
   "metadata": {},
   "source": [
    "Get union of both"
   ]
  },
  {
   "cell_type": "code",
   "execution_count": 41,
   "metadata": {},
   "outputs": [],
   "source": [
    "selected_features_set = list(set.union(set(selected_features_mrs), set(selected_features_treatment)))"
   ]
  },
  {
   "attachments": {},
   "cell_type": "markdown",
   "metadata": {},
   "source": [
    "## Set up paths and filenames\n",
    "\n",
    "For consistency, the folders end with \"/\" and the text for filenames include no trailing \"_\"."
   ]
  },
  {
   "cell_type": "code",
   "execution_count": 8,
   "metadata": {},
   "outputs": [],
   "source": [
    "@dataclass(frozen=True)\n",
    "class Paths:\n",
    "    '''Singleton object for storing paths to data and database.'''\n",
    "    image_save_path: str = './saved_images'\n",
    "    model_save_path: str = './saved_models'\n",
    "    data_save_path: str = './saved_data'\n",
    "    data_read_path: str = '../data_processing/output'\n",
    "    model_text: str = 'xgb_all_data_multiclass_outcome'\n",
    "    notebook: str = '210_'\n",
    "\n",
    "paths = Paths()"
   ]
  },
  {
   "cell_type": "markdown",
   "metadata": {},
   "source": [
    "Create output folders if needed"
   ]
  },
  {
   "cell_type": "code",
   "execution_count": 9,
   "metadata": {},
   "outputs": [],
   "source": [
    "path = paths.image_save_path\n",
    "if not os.path.exists(path):\n",
    "    os.makedirs(path)\n",
    "        \n",
    "path = paths.model_save_path\n",
    "if not os.path.exists(path):\n",
    "    os.makedirs(path)\n",
    "\n",
    "path = paths.data_save_path\n",
    "if not os.path.exists(path):\n",
    "    os.makedirs(path)"
   ]
  },
  {
   "attachments": {},
   "cell_type": "markdown",
   "metadata": {},
   "source": [
    "## Import data\n",
    "\n",
    "Data has previously been split into 5 stratified k-fold splits."
   ]
  },
  {
   "cell_type": "code",
   "execution_count": 10,
   "metadata": {},
   "outputs": [],
   "source": [
    "# Read in training set, restrict to chosen features & store\n",
    "filename = os.path.join(paths.data_read_path, '02_reformatted_data_ml.csv')\n",
    "data = pd.read_csv(filename)"
   ]
  },
  {
   "cell_type": "markdown",
   "metadata": {},
   "source": [
    "Get data for both models"
   ]
  },
  {
   "cell_type": "code",
   "execution_count": 38,
   "metadata": {},
   "outputs": [],
   "source": []
  },
  {
   "cell_type": "code",
   "execution_count": null,
   "metadata": {},
   "outputs": [],
   "source": [
    "data = data[selected_features_set]"
   ]
  },
  {
   "attachments": {},
   "cell_type": "markdown",
   "metadata": {},
   "source": [
    "### One hot the categorical features\n",
    "\n",
    "Convert some categorical features to one hot encoded features.\n",
    "\n",
    "Define a function"
   ]
  },
  {
   "cell_type": "code",
   "execution_count": 11,
   "metadata": {},
   "outputs": [],
   "source": [
    "def convert_feature_to_one_hot(df, feature_name, prefix):\n",
    "    \"\"\"\n",
    "    df [dataframe]: training or test dataset\n",
    "    feature_name [str]: feature to convert to ont hot encoding\n",
    "    prefix [str]: string to use on new feature\n",
    "    \"\"\"\n",
    "\n",
    "    # One hot encode a feature\n",
    "    df_feature = pd.get_dummies(\n",
    "        df[feature_name], prefix = prefix)\n",
    "    df = pd.concat([df, df_feature], axis=1)\n",
    "    df.drop(feature_name, axis=1, inplace=True)\n",
    "\n",
    "    return(df)"
   ]
  },
  {
   "attachments": {},
   "cell_type": "markdown",
   "metadata": {},
   "source": [
    "Set up two lists for the one hot encoding. \n",
    "\n",
    "A list of the feature names that are categorical and to be converted using one hot encoding.\n",
    "A list of the prefixes to use for these features."
   ]
  },
  {
   "cell_type": "code",
   "execution_count": 12,
   "metadata": {},
   "outputs": [],
   "source": [
    "features_to_one_hot = [\"stroke_team\", \"weekday\"]\n",
    "list_prefix = [\"team\", \"weekday\"]"
   ]
  },
  {
   "attachments": {},
   "cell_type": "markdown",
   "metadata": {},
   "source": [
    "For each feature in the list, for each train and test dataset, convert to one hot encoded."
   ]
  },
  {
   "cell_type": "code",
   "execution_count": 13,
   "metadata": {},
   "outputs": [],
   "source": [
    "for feature, prefix in zip(features_to_one_hot, list_prefix):\n",
    "    if feature in selected_features_mrs:\n",
    "        data_mrs = convert_feature_to_one_hot(data_mrs, feature, prefix)\n",
    "    if feature in selected_features_treatment:\n",
    "        data_treatment = convert_feature_to_one_hot(data_treatment, feature, prefix)"
   ]
  },
  {
   "attachments": {},
   "cell_type": "markdown",
   "metadata": {},
   "source": [
    "Feature names with one hot encoding"
   ]
  },
  {
   "cell_type": "code",
   "execution_count": 14,
   "metadata": {},
   "outputs": [
    {
     "name": "stdout",
     "output_type": "stream",
     "text": [
      "There are 8 original features (before one-hot encoding)\n",
      "There are 124 features (after one-hot encoding)\n"
     ]
    }
   ],
   "source": [
    "feature_names_ohe = list(data_mrs)\n",
    "feature_names_ohe.remove(\"discharge_disability\")\n",
    "n_features_ohe = len(feature_names_ohe)\n",
    "\n",
    "print(f\"There are {len(selected_features_mrs)} original features (before one-hot encoding)\")\n",
    "print(f\"There are {n_features_ohe} features (after one-hot encoding)\")"
   ]
  },
  {
   "cell_type": "markdown",
   "metadata": {},
   "source": [
    "Extract the team names"
   ]
  },
  {
   "cell_type": "code",
   "execution_count": 15,
   "metadata": {},
   "outputs": [],
   "source": [
    "ohe_stroke_team_features = [col for col in feature_names_ohe if col.startswith('team')]"
   ]
  },
  {
   "cell_type": "markdown",
   "metadata": {},
   "source": [
    "## Edit data\n",
    "### Divide into X (features) and y (labels)\n",
    "We will separate out our features (the data we use to make a prediction) from our label (what we are trying to predict).\n",
    "By convention our features are called `X` (usually upper case to denote multiple features), and the label (disability discharge) `y`."
   ]
  },
  {
   "cell_type": "code",
   "execution_count": 17,
   "metadata": {},
   "outputs": [],
   "source": [
    "X = data.drop('discharge_disability', axis=1)\n",
    "y = data['discharge_disability']"
   ]
  },
  {
   "attachments": {},
   "cell_type": "markdown",
   "metadata": {},
   "source": [
    "## Fit XGBoost model\n",
    "\n",
    "Train model"
   ]
  },
  {
   "cell_type": "code",
   "execution_count": 24,
   "metadata": {},
   "outputs": [],
   "source": [
    "# Model filename\n",
    "filename = os.path.join(paths.model_save_path, \n",
    "                (paths.notebook + paths.model_text + '.p'))\n",
    "\n",
    "# Check if exists\n",
    "file_exists = exists(filename)\n",
    "\n",
    "if file_exists:\n",
    "# Load models\n",
    "    with open(filename, 'rb') as filehandler:\n",
    "        model = pickle.load(filehandler)\n",
    "else:\n",
    "    # Define and Fit model\n",
    "    model = XGBClassifier(verbosity=0, seed=42, learning_rate=0.5,\n",
    "                            tree_method='gpu_hist')\n",
    "    model.fit(X, y)\n",
    "\n",
    "    # Save using pickle\n",
    "    with open(filename, 'wb') as filehandler:\n",
    "        pickle.dump(model, filehandler)\n",
    "\n",
    "# Get the predictions for each patient \n",
    "#   (the classification, and the probability of being in either class)\n",
    "y_pred = model.predict(X)\n",
    "y_pred_proba = model.predict_proba(X)\n",
    "\n",
    "# Calculate error\n",
    "y_error = y - y_pred\n",
    "accuracy = np.mean(y_error==0)\n",
    "\n",
    "error_within_one = np.mean(np.abs(y_error)<=1)"
   ]
  },
  {
   "cell_type": "markdown",
   "metadata": {},
   "source": [
    "Setup the different X data for the scenarios\n"
   ]
  },
  {
   "cell_type": "code",
   "execution_count": null,
   "metadata": {},
   "outputs": [],
   "source": [
    "def calculate_population_outcome(y_probs):\n",
    "    weighted_mrs = y_probs\n",
    "    return(weighted_mrs.average())\n"
   ]
  },
  {
   "cell_type": "code",
   "execution_count": 34,
   "metadata": {},
   "outputs": [],
   "source": [
    "mrs_classes = np.arange(7)"
   ]
  },
  {
   "cell_type": "markdown",
   "metadata": {},
   "source": []
  },
  {
   "cell_type": "code",
   "execution_count": 25,
   "metadata": {},
   "outputs": [],
   "source": [
    "# Scenario actual decision\n",
    "\n",
    "# Get and store predicted probabilities\n",
    "y_probs = model.predict_proba(X)\n",
    "weighted_mrs = (y_probs * mrs_classes).sum(axis=1)\n",
    "ave_weighted_mrs = np.average(weighted_mrs)"
   ]
  },
  {
   "cell_type": "code",
   "execution_count": 35,
   "metadata": {},
   "outputs": [
    {
     "data": {
      "text/plain": [
       "2.6236414628157236"
      ]
     },
     "execution_count": 35,
     "metadata": {},
     "output_type": "execute_result"
    }
   ],
   "source": [
    "# Scenario benchmark decision\n",
    "\n",
    "# Open model to get thrombolysis treatment based on benchmark\n",
    "# Model filename\n",
    "filename_model = os.path.join(paths.model_save_path, \n",
    "                '200_xgb_10_features_all_data_thrombolysis_decision.p')\n",
    "\n",
    "# Data for thrombolysis decision\n",
    "selected_features_treatment = [\"prior_disability\", \"stroke_severity\", \n",
    "                     \"age\", \"arrival_to_scan_time\", \"precise_onset_known\", \n",
    "                     \"onset_to_arrival_time\",\"onset_during_sleep\", \"stroke_team\", \n",
    "                     \"S2Thrombolysis\"]\n",
    "\n",
    "X_thrombolysis_decision = data[selected_features_treatment]\n",
    "y_pred = model.predict(X_thrombolysis_decision)\n",
    "\n",
    "# Get and store predicted probabilities\n",
    "y_probs = model.predict_proba(X)\n",
    "weighted_mrs = (y_probs * mrs_classes).sum(axis=1)\n",
    "ave_weighted_mrs = np.average(weighted_mrs)\n"
   ]
  },
  {
   "cell_type": "code",
   "execution_count": null,
   "metadata": {},
   "outputs": [],
   "source": [
    "# Scenario best decision\n",
    "\n",
    "# Create X data for all treated\n",
    "X_all_treated = X.copy(deep=True)\n",
    "mask = X_all_treated[\"onset_to_thrombolysis_time\"] == -100\n",
    "X_all_treated[\"onset_to_thrombolysis_time\"][mask] = ott_default\n",
    "\n",
    "# Get and store predicted probabilities\n",
    "y_probs_all = model.predict_proba(X_all_treated)\n",
    "weighted_mrs_all = (y_probs_all * mrs_classes).sum(axis=1)\n",
    "ave_weighted_mrs_all_treated = np.average(weighted_mrs_all)\n",
    "\n",
    "# Create X data for none treated\n",
    "X_none_treated = X.copy(deep=True)\n",
    "X_none_treated[\"onset_to_thrombolysis_time\"] = -100\n",
    "\n",
    "# Get and store predicted probabilities\n",
    "y_probs_none = model.predict_proba(X_none_treated)\n",
    "weighted_mrs_none = (y_probs_all * mrs_classes).sum(axis=1)\n",
    "ave_weighted_mrs_none_treated = np.average(weighted_mrs_none)\n",
    "\n",
    "weighted_mrs_best = max(weighted_mrs_all, weighted_mrs_none)\n",
    "ave_weighted_mrs_best_treatment = np.average(weighted_mrs_best)"
   ]
  },
  {
   "cell_type": "code",
   "execution_count": null,
   "metadata": {},
   "outputs": [],
   "source": [
    "pop_outcome_actual = calculate_population_outcome(y_probs)"
   ]
  },
  {
   "cell_type": "markdown",
   "metadata": {},
   "source": [
    "Plot (want to create a subplot per patient, with the two mRS probability distributions on the same plot)"
   ]
  },
  {
   "cell_type": "code",
   "execution_count": null,
   "metadata": {},
   "outputs": [],
   "source": [
    "def create_df_for_bar_plot(df):\n",
    "    df_bar  = pd.DataFrame()\n",
    "    df_bar[\"Treatment\"] = ([\"Treatment\"] * 7) + ([\"No treatment\"] * 7)\n",
    "    df_bar[\"Discharge disability\"] = np.append(df.index.values, df.index.values)\n",
    "    df_bar[\"Probability\"] = np.append(df[\"with\"], df[\"without\"])\n",
    "    return(df_bar)"
   ]
  },
  {
   "cell_type": "markdown",
   "metadata": {},
   "source": [
    "Get predictions for these patients, and store (\\ dataframe for getting IVT, and a dataframe for not)"
   ]
  },
  {
   "cell_type": "code",
   "execution_count": null,
   "metadata": {},
   "outputs": [
    {
     "data": {
      "application/vnd.plotly.v1+json": {
       "config": {
        "plotlyServerURL": "https://plot.ly"
       },
       "data": [
        {
         "alignmentgroup": "True",
         "hovertemplate": "Treatment=Treatment<br>Discharge disability=%{x}<br>Probability=%{y}<extra></extra>",
         "legendgroup": "Treatment",
         "marker": {
          "color": "#636efa",
          "pattern": {
           "shape": ""
          }
         },
         "name": "Treatment",
         "offsetgroup": "Treatment",
         "orientation": "v",
         "showlegend": true,
         "textposition": "auto",
         "type": "bar",
         "x": [
          "mRS0",
          "mRS1",
          "mRS2",
          "mRS3",
          "mRS4",
          "mRS5",
          "mRS6"
         ],
         "xaxis": "x",
         "y": [
          0.032078612595796585,
          0.2683531939983368,
          0.18699011206626892,
          0.17143449187278748,
          0.1679832637310028,
          0.04506421834230423,
          0.1280960738658905
         ],
         "yaxis": "y"
        },
        {
         "alignmentgroup": "True",
         "hovertemplate": "Treatment=No treatment<br>Discharge disability=%{x}<br>Probability=%{y}<extra></extra>",
         "legendgroup": "No treatment",
         "marker": {
          "color": "#EF553B",
          "pattern": {
           "shape": ""
          }
         },
         "name": "No treatment",
         "offsetgroup": "No treatment",
         "orientation": "v",
         "showlegend": true,
         "textposition": "auto",
         "type": "bar",
         "x": [
          "mRS0",
          "mRS1",
          "mRS2",
          "mRS3",
          "mRS4",
          "mRS5",
          "mRS6"
         ],
         "xaxis": "x",
         "y": [
          0.017061864957213402,
          0.12195912003517151,
          0.10319898277521133,
          0.20700104534626007,
          0.17897619307041168,
          0.1801612228155136,
          0.19164156913757324
         ],
         "yaxis": "y"
        },
        {
         "alignmentgroup": "True",
         "hovertemplate": "Treatment=Treatment<br>Discharge disability=%{x}<br>Probability=%{y}<extra></extra>",
         "legendgroup": "Treatment",
         "marker": {
          "color": "#636efa",
          "pattern": {
           "shape": ""
          }
         },
         "name": "Treatment",
         "offsetgroup": "Treatment",
         "orientation": "v",
         "showlegend": true,
         "textposition": "auto",
         "type": "bar",
         "x": [
          "mRS0",
          "mRS1",
          "mRS2",
          "mRS3",
          "mRS4",
          "mRS5",
          "mRS6"
         ],
         "xaxis": "x2",
         "y": [
          0.032078612595796585,
          0.2683531939983368,
          0.18699011206626892,
          0.17143449187278748,
          0.1679832637310028,
          0.04506421834230423,
          0.1280960738658905
         ],
         "yaxis": "y2"
        },
        {
         "alignmentgroup": "True",
         "hovertemplate": "Treatment=No treatment<br>Discharge disability=%{x}<br>Probability=%{y}<extra></extra>",
         "legendgroup": "No treatment",
         "marker": {
          "color": "#EF553B",
          "pattern": {
           "shape": ""
          }
         },
         "name": "No treatment",
         "offsetgroup": "No treatment",
         "orientation": "v",
         "showlegend": true,
         "textposition": "auto",
         "type": "bar",
         "x": [
          "mRS0",
          "mRS1",
          "mRS2",
          "mRS3",
          "mRS4",
          "mRS5",
          "mRS6"
         ],
         "xaxis": "x2",
         "y": [
          0.017061864957213402,
          0.12195912003517151,
          0.10319898277521133,
          0.20700104534626007,
          0.17897619307041168,
          0.1801612228155136,
          0.19164156913757324
         ],
         "yaxis": "y2"
        },
        {
         "alignmentgroup": "True",
         "hovertemplate": "Treatment=Treatment<br>Discharge disability=%{x}<br>Probability=%{y}<extra></extra>",
         "legendgroup": "Treatment",
         "marker": {
          "color": "#636efa",
          "pattern": {
           "shape": ""
          }
         },
         "name": "Treatment",
         "offsetgroup": "Treatment",
         "orientation": "v",
         "showlegend": true,
         "textposition": "auto",
         "type": "bar",
         "x": [
          "mRS0",
          "mRS1",
          "mRS2",
          "mRS3",
          "mRS4",
          "mRS5",
          "mRS6"
         ],
         "xaxis": "x3",
         "y": [
          0.032078612595796585,
          0.2683531939983368,
          0.18699011206626892,
          0.17143449187278748,
          0.1679832637310028,
          0.04506421834230423,
          0.1280960738658905
         ],
         "yaxis": "y3"
        },
        {
         "alignmentgroup": "True",
         "hovertemplate": "Treatment=No treatment<br>Discharge disability=%{x}<br>Probability=%{y}<extra></extra>",
         "legendgroup": "No treatment",
         "marker": {
          "color": "#EF553B",
          "pattern": {
           "shape": ""
          }
         },
         "name": "No treatment",
         "offsetgroup": "No treatment",
         "orientation": "v",
         "showlegend": true,
         "textposition": "auto",
         "type": "bar",
         "x": [
          "mRS0",
          "mRS1",
          "mRS2",
          "mRS3",
          "mRS4",
          "mRS5",
          "mRS6"
         ],
         "xaxis": "x3",
         "y": [
          0.017061864957213402,
          0.12195912003517151,
          0.10319898277521133,
          0.20700104534626007,
          0.17897619307041168,
          0.1801612228155136,
          0.19164156913757324
         ],
         "yaxis": "y3"
        },
        {
         "alignmentgroup": "True",
         "hovertemplate": "Treatment=Treatment<br>Discharge disability=%{x}<br>Probability=%{y}<extra></extra>",
         "legendgroup": "Treatment",
         "marker": {
          "color": "#636efa",
          "pattern": {
           "shape": ""
          }
         },
         "name": "Treatment",
         "offsetgroup": "Treatment",
         "orientation": "v",
         "showlegend": true,
         "textposition": "auto",
         "type": "bar",
         "x": [
          "mRS0",
          "mRS1",
          "mRS2",
          "mRS3",
          "mRS4",
          "mRS5",
          "mRS6"
         ],
         "xaxis": "x4",
         "y": [
          0.032078612595796585,
          0.2683531939983368,
          0.18699011206626892,
          0.17143449187278748,
          0.1679832637310028,
          0.04506421834230423,
          0.1280960738658905
         ],
         "yaxis": "y4"
        },
        {
         "alignmentgroup": "True",
         "hovertemplate": "Treatment=No treatment<br>Discharge disability=%{x}<br>Probability=%{y}<extra></extra>",
         "legendgroup": "No treatment",
         "marker": {
          "color": "#EF553B",
          "pattern": {
           "shape": ""
          }
         },
         "name": "No treatment",
         "offsetgroup": "No treatment",
         "orientation": "v",
         "showlegend": true,
         "textposition": "auto",
         "type": "bar",
         "x": [
          "mRS0",
          "mRS1",
          "mRS2",
          "mRS3",
          "mRS4",
          "mRS5",
          "mRS6"
         ],
         "xaxis": "x4",
         "y": [
          0.017061864957213402,
          0.12195912003517151,
          0.10319898277521133,
          0.20700104534626007,
          0.17897619307041168,
          0.1801612228155136,
          0.19164156913757324
         ],
         "yaxis": "y4"
        },
        {
         "alignmentgroup": "True",
         "hovertemplate": "Treatment=Treatment<br>Discharge disability=%{x}<br>Probability=%{y}<extra></extra>",
         "legendgroup": "Treatment",
         "marker": {
          "color": "#636efa",
          "pattern": {
           "shape": ""
          }
         },
         "name": "Treatment",
         "offsetgroup": "Treatment",
         "orientation": "v",
         "showlegend": true,
         "textposition": "auto",
         "type": "bar",
         "x": [
          "mRS0",
          "mRS1",
          "mRS2",
          "mRS3",
          "mRS4",
          "mRS5",
          "mRS6"
         ],
         "xaxis": "x5",
         "y": [
          0.032078612595796585,
          0.2683531939983368,
          0.18699011206626892,
          0.17143449187278748,
          0.1679832637310028,
          0.04506421834230423,
          0.1280960738658905
         ],
         "yaxis": "y5"
        },
        {
         "alignmentgroup": "True",
         "hovertemplate": "Treatment=No treatment<br>Discharge disability=%{x}<br>Probability=%{y}<extra></extra>",
         "legendgroup": "No treatment",
         "marker": {
          "color": "#EF553B",
          "pattern": {
           "shape": ""
          }
         },
         "name": "No treatment",
         "offsetgroup": "No treatment",
         "orientation": "v",
         "showlegend": true,
         "textposition": "auto",
         "type": "bar",
         "x": [
          "mRS0",
          "mRS1",
          "mRS2",
          "mRS3",
          "mRS4",
          "mRS5",
          "mRS6"
         ],
         "xaxis": "x5",
         "y": [
          0.017061864957213402,
          0.12195912003517151,
          0.10319898277521133,
          0.20700104534626007,
          0.17897619307041168,
          0.1801612228155136,
          0.19164156913757324
         ],
         "yaxis": "y5"
        },
        {
         "alignmentgroup": "True",
         "hovertemplate": "Treatment=Treatment<br>Discharge disability=%{x}<br>Probability=%{y}<extra></extra>",
         "legendgroup": "Treatment",
         "marker": {
          "color": "#636efa",
          "pattern": {
           "shape": ""
          }
         },
         "name": "Treatment",
         "offsetgroup": "Treatment",
         "orientation": "v",
         "showlegend": true,
         "textposition": "auto",
         "type": "bar",
         "x": [
          "mRS0",
          "mRS1",
          "mRS2",
          "mRS3",
          "mRS4",
          "mRS5",
          "mRS6"
         ],
         "xaxis": "x6",
         "y": [
          0.032078612595796585,
          0.2683531939983368,
          0.18699011206626892,
          0.17143449187278748,
          0.1679832637310028,
          0.04506421834230423,
          0.1280960738658905
         ],
         "yaxis": "y6"
        },
        {
         "alignmentgroup": "True",
         "hovertemplate": "Treatment=No treatment<br>Discharge disability=%{x}<br>Probability=%{y}<extra></extra>",
         "legendgroup": "No treatment",
         "marker": {
          "color": "#EF553B",
          "pattern": {
           "shape": ""
          }
         },
         "name": "No treatment",
         "offsetgroup": "No treatment",
         "orientation": "v",
         "showlegend": true,
         "textposition": "auto",
         "type": "bar",
         "x": [
          "mRS0",
          "mRS1",
          "mRS2",
          "mRS3",
          "mRS4",
          "mRS5",
          "mRS6"
         ],
         "xaxis": "x6",
         "y": [
          0.017061864957213402,
          0.12195912003517151,
          0.10319898277521133,
          0.20700104534626007,
          0.17897619307041168,
          0.1801612228155136,
          0.19164156913757324
         ],
         "yaxis": "y6"
        },
        {
         "alignmentgroup": "True",
         "hovertemplate": "Treatment=Treatment<br>Discharge disability=%{x}<br>Probability=%{y}<extra></extra>",
         "legendgroup": "Treatment",
         "marker": {
          "color": "#636efa",
          "pattern": {
           "shape": ""
          }
         },
         "name": "Treatment",
         "offsetgroup": "Treatment",
         "orientation": "v",
         "showlegend": true,
         "textposition": "auto",
         "type": "bar",
         "x": [
          "mRS0",
          "mRS1",
          "mRS2",
          "mRS3",
          "mRS4",
          "mRS5",
          "mRS6"
         ],
         "xaxis": "x7",
         "y": [
          0.032078612595796585,
          0.2683531939983368,
          0.18699011206626892,
          0.17143449187278748,
          0.1679832637310028,
          0.04506421834230423,
          0.1280960738658905
         ],
         "yaxis": "y7"
        },
        {
         "alignmentgroup": "True",
         "hovertemplate": "Treatment=No treatment<br>Discharge disability=%{x}<br>Probability=%{y}<extra></extra>",
         "legendgroup": "No treatment",
         "marker": {
          "color": "#EF553B",
          "pattern": {
           "shape": ""
          }
         },
         "name": "No treatment",
         "offsetgroup": "No treatment",
         "orientation": "v",
         "showlegend": true,
         "textposition": "auto",
         "type": "bar",
         "x": [
          "mRS0",
          "mRS1",
          "mRS2",
          "mRS3",
          "mRS4",
          "mRS5",
          "mRS6"
         ],
         "xaxis": "x7",
         "y": [
          0.017061864957213402,
          0.12195912003517151,
          0.10319898277521133,
          0.20700104534626007,
          0.17897619307041168,
          0.1801612228155136,
          0.19164156913757324
         ],
         "yaxis": "y7"
        },
        {
         "alignmentgroup": "True",
         "hovertemplate": "Treatment=Treatment<br>Discharge disability=%{x}<br>Probability=%{y}<extra></extra>",
         "legendgroup": "Treatment",
         "marker": {
          "color": "#636efa",
          "pattern": {
           "shape": ""
          }
         },
         "name": "Treatment",
         "offsetgroup": "Treatment",
         "orientation": "v",
         "showlegend": true,
         "textposition": "auto",
         "type": "bar",
         "x": [
          "mRS0",
          "mRS1",
          "mRS2",
          "mRS3",
          "mRS4",
          "mRS5",
          "mRS6"
         ],
         "xaxis": "x8",
         "y": [
          0.032078612595796585,
          0.2683531939983368,
          0.18699011206626892,
          0.17143449187278748,
          0.1679832637310028,
          0.04506421834230423,
          0.1280960738658905
         ],
         "yaxis": "y8"
        },
        {
         "alignmentgroup": "True",
         "hovertemplate": "Treatment=No treatment<br>Discharge disability=%{x}<br>Probability=%{y}<extra></extra>",
         "legendgroup": "No treatment",
         "marker": {
          "color": "#EF553B",
          "pattern": {
           "shape": ""
          }
         },
         "name": "No treatment",
         "offsetgroup": "No treatment",
         "orientation": "v",
         "showlegend": true,
         "textposition": "auto",
         "type": "bar",
         "x": [
          "mRS0",
          "mRS1",
          "mRS2",
          "mRS3",
          "mRS4",
          "mRS5",
          "mRS6"
         ],
         "xaxis": "x8",
         "y": [
          0.017061864957213402,
          0.12195912003517151,
          0.10319898277521133,
          0.20700104534626007,
          0.17897619307041168,
          0.1801612228155136,
          0.19164156913757324
         ],
         "yaxis": "y8"
        }
       ],
       "layout": {
        "autosize": false,
        "height": 1600,
        "template": {
         "data": {
          "bar": [
           {
            "error_x": {
             "color": "#2a3f5f"
            },
            "error_y": {
             "color": "#2a3f5f"
            },
            "marker": {
             "line": {
              "color": "#E5ECF6",
              "width": 0.5
             },
             "pattern": {
              "fillmode": "overlay",
              "size": 10,
              "solidity": 0.2
             }
            },
            "type": "bar"
           }
          ],
          "barpolar": [
           {
            "marker": {
             "line": {
              "color": "#E5ECF6",
              "width": 0.5
             },
             "pattern": {
              "fillmode": "overlay",
              "size": 10,
              "solidity": 0.2
             }
            },
            "type": "barpolar"
           }
          ],
          "carpet": [
           {
            "aaxis": {
             "endlinecolor": "#2a3f5f",
             "gridcolor": "white",
             "linecolor": "white",
             "minorgridcolor": "white",
             "startlinecolor": "#2a3f5f"
            },
            "baxis": {
             "endlinecolor": "#2a3f5f",
             "gridcolor": "white",
             "linecolor": "white",
             "minorgridcolor": "white",
             "startlinecolor": "#2a3f5f"
            },
            "type": "carpet"
           }
          ],
          "choropleth": [
           {
            "colorbar": {
             "outlinewidth": 0,
             "ticks": ""
            },
            "type": "choropleth"
           }
          ],
          "contour": [
           {
            "colorbar": {
             "outlinewidth": 0,
             "ticks": ""
            },
            "colorscale": [
             [
              0,
              "#0d0887"
             ],
             [
              0.1111111111111111,
              "#46039f"
             ],
             [
              0.2222222222222222,
              "#7201a8"
             ],
             [
              0.3333333333333333,
              "#9c179e"
             ],
             [
              0.4444444444444444,
              "#bd3786"
             ],
             [
              0.5555555555555556,
              "#d8576b"
             ],
             [
              0.6666666666666666,
              "#ed7953"
             ],
             [
              0.7777777777777778,
              "#fb9f3a"
             ],
             [
              0.8888888888888888,
              "#fdca26"
             ],
             [
              1,
              "#f0f921"
             ]
            ],
            "type": "contour"
           }
          ],
          "contourcarpet": [
           {
            "colorbar": {
             "outlinewidth": 0,
             "ticks": ""
            },
            "type": "contourcarpet"
           }
          ],
          "heatmap": [
           {
            "colorbar": {
             "outlinewidth": 0,
             "ticks": ""
            },
            "colorscale": [
             [
              0,
              "#0d0887"
             ],
             [
              0.1111111111111111,
              "#46039f"
             ],
             [
              0.2222222222222222,
              "#7201a8"
             ],
             [
              0.3333333333333333,
              "#9c179e"
             ],
             [
              0.4444444444444444,
              "#bd3786"
             ],
             [
              0.5555555555555556,
              "#d8576b"
             ],
             [
              0.6666666666666666,
              "#ed7953"
             ],
             [
              0.7777777777777778,
              "#fb9f3a"
             ],
             [
              0.8888888888888888,
              "#fdca26"
             ],
             [
              1,
              "#f0f921"
             ]
            ],
            "type": "heatmap"
           }
          ],
          "heatmapgl": [
           {
            "colorbar": {
             "outlinewidth": 0,
             "ticks": ""
            },
            "colorscale": [
             [
              0,
              "#0d0887"
             ],
             [
              0.1111111111111111,
              "#46039f"
             ],
             [
              0.2222222222222222,
              "#7201a8"
             ],
             [
              0.3333333333333333,
              "#9c179e"
             ],
             [
              0.4444444444444444,
              "#bd3786"
             ],
             [
              0.5555555555555556,
              "#d8576b"
             ],
             [
              0.6666666666666666,
              "#ed7953"
             ],
             [
              0.7777777777777778,
              "#fb9f3a"
             ],
             [
              0.8888888888888888,
              "#fdca26"
             ],
             [
              1,
              "#f0f921"
             ]
            ],
            "type": "heatmapgl"
           }
          ],
          "histogram": [
           {
            "marker": {
             "pattern": {
              "fillmode": "overlay",
              "size": 10,
              "solidity": 0.2
             }
            },
            "type": "histogram"
           }
          ],
          "histogram2d": [
           {
            "colorbar": {
             "outlinewidth": 0,
             "ticks": ""
            },
            "colorscale": [
             [
              0,
              "#0d0887"
             ],
             [
              0.1111111111111111,
              "#46039f"
             ],
             [
              0.2222222222222222,
              "#7201a8"
             ],
             [
              0.3333333333333333,
              "#9c179e"
             ],
             [
              0.4444444444444444,
              "#bd3786"
             ],
             [
              0.5555555555555556,
              "#d8576b"
             ],
             [
              0.6666666666666666,
              "#ed7953"
             ],
             [
              0.7777777777777778,
              "#fb9f3a"
             ],
             [
              0.8888888888888888,
              "#fdca26"
             ],
             [
              1,
              "#f0f921"
             ]
            ],
            "type": "histogram2d"
           }
          ],
          "histogram2dcontour": [
           {
            "colorbar": {
             "outlinewidth": 0,
             "ticks": ""
            },
            "colorscale": [
             [
              0,
              "#0d0887"
             ],
             [
              0.1111111111111111,
              "#46039f"
             ],
             [
              0.2222222222222222,
              "#7201a8"
             ],
             [
              0.3333333333333333,
              "#9c179e"
             ],
             [
              0.4444444444444444,
              "#bd3786"
             ],
             [
              0.5555555555555556,
              "#d8576b"
             ],
             [
              0.6666666666666666,
              "#ed7953"
             ],
             [
              0.7777777777777778,
              "#fb9f3a"
             ],
             [
              0.8888888888888888,
              "#fdca26"
             ],
             [
              1,
              "#f0f921"
             ]
            ],
            "type": "histogram2dcontour"
           }
          ],
          "mesh3d": [
           {
            "colorbar": {
             "outlinewidth": 0,
             "ticks": ""
            },
            "type": "mesh3d"
           }
          ],
          "parcoords": [
           {
            "line": {
             "colorbar": {
              "outlinewidth": 0,
              "ticks": ""
             }
            },
            "type": "parcoords"
           }
          ],
          "pie": [
           {
            "automargin": true,
            "type": "pie"
           }
          ],
          "scatter": [
           {
            "fillpattern": {
             "fillmode": "overlay",
             "size": 10,
             "solidity": 0.2
            },
            "type": "scatter"
           }
          ],
          "scatter3d": [
           {
            "line": {
             "colorbar": {
              "outlinewidth": 0,
              "ticks": ""
             }
            },
            "marker": {
             "colorbar": {
              "outlinewidth": 0,
              "ticks": ""
             }
            },
            "type": "scatter3d"
           }
          ],
          "scattercarpet": [
           {
            "marker": {
             "colorbar": {
              "outlinewidth": 0,
              "ticks": ""
             }
            },
            "type": "scattercarpet"
           }
          ],
          "scattergeo": [
           {
            "marker": {
             "colorbar": {
              "outlinewidth": 0,
              "ticks": ""
             }
            },
            "type": "scattergeo"
           }
          ],
          "scattergl": [
           {
            "marker": {
             "colorbar": {
              "outlinewidth": 0,
              "ticks": ""
             }
            },
            "type": "scattergl"
           }
          ],
          "scattermapbox": [
           {
            "marker": {
             "colorbar": {
              "outlinewidth": 0,
              "ticks": ""
             }
            },
            "type": "scattermapbox"
           }
          ],
          "scatterpolar": [
           {
            "marker": {
             "colorbar": {
              "outlinewidth": 0,
              "ticks": ""
             }
            },
            "type": "scatterpolar"
           }
          ],
          "scatterpolargl": [
           {
            "marker": {
             "colorbar": {
              "outlinewidth": 0,
              "ticks": ""
             }
            },
            "type": "scatterpolargl"
           }
          ],
          "scatterternary": [
           {
            "marker": {
             "colorbar": {
              "outlinewidth": 0,
              "ticks": ""
             }
            },
            "type": "scatterternary"
           }
          ],
          "surface": [
           {
            "colorbar": {
             "outlinewidth": 0,
             "ticks": ""
            },
            "colorscale": [
             [
              0,
              "#0d0887"
             ],
             [
              0.1111111111111111,
              "#46039f"
             ],
             [
              0.2222222222222222,
              "#7201a8"
             ],
             [
              0.3333333333333333,
              "#9c179e"
             ],
             [
              0.4444444444444444,
              "#bd3786"
             ],
             [
              0.5555555555555556,
              "#d8576b"
             ],
             [
              0.6666666666666666,
              "#ed7953"
             ],
             [
              0.7777777777777778,
              "#fb9f3a"
             ],
             [
              0.8888888888888888,
              "#fdca26"
             ],
             [
              1,
              "#f0f921"
             ]
            ],
            "type": "surface"
           }
          ],
          "table": [
           {
            "cells": {
             "fill": {
              "color": "#EBF0F8"
             },
             "line": {
              "color": "white"
             }
            },
            "header": {
             "fill": {
              "color": "#C8D4E3"
             },
             "line": {
              "color": "white"
             }
            },
            "type": "table"
           }
          ]
         },
         "layout": {
          "annotationdefaults": {
           "arrowcolor": "#2a3f5f",
           "arrowhead": 0,
           "arrowwidth": 1
          },
          "autotypenumbers": "strict",
          "coloraxis": {
           "colorbar": {
            "outlinewidth": 0,
            "ticks": ""
           }
          },
          "colorscale": {
           "diverging": [
            [
             0,
             "#8e0152"
            ],
            [
             0.1,
             "#c51b7d"
            ],
            [
             0.2,
             "#de77ae"
            ],
            [
             0.3,
             "#f1b6da"
            ],
            [
             0.4,
             "#fde0ef"
            ],
            [
             0.5,
             "#f7f7f7"
            ],
            [
             0.6,
             "#e6f5d0"
            ],
            [
             0.7,
             "#b8e186"
            ],
            [
             0.8,
             "#7fbc41"
            ],
            [
             0.9,
             "#4d9221"
            ],
            [
             1,
             "#276419"
            ]
           ],
           "sequential": [
            [
             0,
             "#0d0887"
            ],
            [
             0.1111111111111111,
             "#46039f"
            ],
            [
             0.2222222222222222,
             "#7201a8"
            ],
            [
             0.3333333333333333,
             "#9c179e"
            ],
            [
             0.4444444444444444,
             "#bd3786"
            ],
            [
             0.5555555555555556,
             "#d8576b"
            ],
            [
             0.6666666666666666,
             "#ed7953"
            ],
            [
             0.7777777777777778,
             "#fb9f3a"
            ],
            [
             0.8888888888888888,
             "#fdca26"
            ],
            [
             1,
             "#f0f921"
            ]
           ],
           "sequentialminus": [
            [
             0,
             "#0d0887"
            ],
            [
             0.1111111111111111,
             "#46039f"
            ],
            [
             0.2222222222222222,
             "#7201a8"
            ],
            [
             0.3333333333333333,
             "#9c179e"
            ],
            [
             0.4444444444444444,
             "#bd3786"
            ],
            [
             0.5555555555555556,
             "#d8576b"
            ],
            [
             0.6666666666666666,
             "#ed7953"
            ],
            [
             0.7777777777777778,
             "#fb9f3a"
            ],
            [
             0.8888888888888888,
             "#fdca26"
            ],
            [
             1,
             "#f0f921"
            ]
           ]
          },
          "colorway": [
           "#636efa",
           "#EF553B",
           "#00cc96",
           "#ab63fa",
           "#FFA15A",
           "#19d3f3",
           "#FF6692",
           "#B6E880",
           "#FF97FF",
           "#FECB52"
          ],
          "font": {
           "color": "#2a3f5f"
          },
          "geo": {
           "bgcolor": "white",
           "lakecolor": "white",
           "landcolor": "#E5ECF6",
           "showlakes": true,
           "showland": true,
           "subunitcolor": "white"
          },
          "hoverlabel": {
           "align": "left"
          },
          "hovermode": "closest",
          "mapbox": {
           "style": "light"
          },
          "paper_bgcolor": "white",
          "plot_bgcolor": "#E5ECF6",
          "polar": {
           "angularaxis": {
            "gridcolor": "white",
            "linecolor": "white",
            "ticks": ""
           },
           "bgcolor": "#E5ECF6",
           "radialaxis": {
            "gridcolor": "white",
            "linecolor": "white",
            "ticks": ""
           }
          },
          "scene": {
           "xaxis": {
            "backgroundcolor": "#E5ECF6",
            "gridcolor": "white",
            "gridwidth": 2,
            "linecolor": "white",
            "showbackground": true,
            "ticks": "",
            "zerolinecolor": "white"
           },
           "yaxis": {
            "backgroundcolor": "#E5ECF6",
            "gridcolor": "white",
            "gridwidth": 2,
            "linecolor": "white",
            "showbackground": true,
            "ticks": "",
            "zerolinecolor": "white"
           },
           "zaxis": {
            "backgroundcolor": "#E5ECF6",
            "gridcolor": "white",
            "gridwidth": 2,
            "linecolor": "white",
            "showbackground": true,
            "ticks": "",
            "zerolinecolor": "white"
           }
          },
          "shapedefaults": {
           "line": {
            "color": "#2a3f5f"
           }
          },
          "ternary": {
           "aaxis": {
            "gridcolor": "white",
            "linecolor": "white",
            "ticks": ""
           },
           "baxis": {
            "gridcolor": "white",
            "linecolor": "white",
            "ticks": ""
           },
           "bgcolor": "#E5ECF6",
           "caxis": {
            "gridcolor": "white",
            "linecolor": "white",
            "ticks": ""
           }
          },
          "title": {
           "x": 0.05
          },
          "xaxis": {
           "automargin": true,
           "gridcolor": "white",
           "linecolor": "white",
           "ticks": "",
           "title": {
            "standoff": 15
           },
           "zerolinecolor": "white",
           "zerolinewidth": 2
          },
          "yaxis": {
           "automargin": true,
           "gridcolor": "white",
           "linecolor": "white",
           "ticks": "",
           "title": {
            "standoff": 15
           },
           "zerolinecolor": "white",
           "zerolinewidth": 2
          }
         }
        },
        "width": 800,
        "xaxis": {
         "anchor": "y",
         "domain": [
          0,
          1
         ]
        },
        "xaxis2": {
         "anchor": "y2",
         "domain": [
          0,
          1
         ]
        },
        "xaxis3": {
         "anchor": "y3",
         "domain": [
          0,
          1
         ]
        },
        "xaxis4": {
         "anchor": "y4",
         "domain": [
          0,
          1
         ]
        },
        "xaxis5": {
         "anchor": "y5",
         "domain": [
          0,
          1
         ]
        },
        "xaxis6": {
         "anchor": "y6",
         "domain": [
          0,
          1
         ]
        },
        "xaxis7": {
         "anchor": "y7",
         "domain": [
          0,
          1
         ]
        },
        "xaxis8": {
         "anchor": "y8",
         "domain": [
          0,
          1
         ]
        },
        "yaxis": {
         "anchor": "x",
         "domain": [
          0.9078124999999999,
          0.9999999999999999
         ]
        },
        "yaxis2": {
         "anchor": "x2",
         "domain": [
          0.778125,
          0.8703124999999999
         ]
        },
        "yaxis3": {
         "anchor": "x3",
         "domain": [
          0.6484375,
          0.740625
         ]
        },
        "yaxis4": {
         "anchor": "x4",
         "domain": [
          0.51875,
          0.6109375
         ]
        },
        "yaxis5": {
         "anchor": "x5",
         "domain": [
          0.38906250000000003,
          0.48125000000000007
         ]
        },
        "yaxis6": {
         "anchor": "x6",
         "domain": [
          0.259375,
          0.3515625
         ]
        },
        "yaxis7": {
         "anchor": "x7",
         "domain": [
          0.1296875,
          0.22187500000000002
         ]
        },
        "yaxis8": {
         "anchor": "x8",
         "domain": [
          0,
          0.0921875
         ]
        }
       }
      }
     },
     "metadata": {},
     "output_type": "display_data"
    }
   ],
   "source": [
    "list_get_treatment = [\"Treatment\",\"No treatment\"]\n",
    "list_onset_to_thrombolysis_time = [ott_default, -100]\n",
    "\n",
    "list_figures = []\n",
    "\n",
    "for patient_loc in range(n_patients):\n",
    "\n",
    "    # take details of this patient\n",
    "    df_patient_details = pd.DataFrame(columns=list(df_patient_prototypes), index=range(len(list_get_treatment)))\n",
    "\n",
    "    # take exact copy of row\n",
    "    df_patient_details.iloc[0] = df_patient_prototypes.iloc[0,:]\n",
    "    df_patient_details.iloc[1] = df_patient_prototypes.iloc[0,:]\n",
    "\n",
    "    # make first copy have, and the second copy not have thrombolysis treatment (either not get, or get at 2 hours)\n",
    "    df_patient_details[\"onset_to_thrombolysis_time\"] = list_onset_to_thrombolysis_time\n",
    "\n",
    "    df_patient_details = df_patient_details.astype('float')\n",
    "\n",
    "    y_probs = model.predict_proba(df_patient_details)\n",
    "    y_pred = model.predict(df_patient_details)\n",
    "\n",
    "    df_patient_mrs_results = pd.DataFrame(\n",
    "            data=y_probs, \n",
    "            columns=[\"mRS0\",\"mRS1\",\"mRS2\",\"mRS3\",\"mRS4\",\"mRS5\",\"mRS6\"], \n",
    "            index=[\"with\",\"without\"])\n",
    "\n",
    "    df_patient_mrs_results = df_patient_mrs_results.T\n",
    "\n",
    "    df_bar = create_df_for_bar_plot(df_patient_mrs_results)\n",
    "\n",
    "#    ax = fig.add_subplot(n_patients, 1, patient_loc + 1)\n",
    "    plotly_express_figure = px.bar(df_bar, x=\"Discharge disability\", y=\"Probability\", \n",
    "                color=\"Treatment\", barmode=\"group\")\n",
    "    \n",
    "    list_figures.append(plotly_express_figure)\n",
    "\n",
    "\n",
    "fig = make_subplots(rows=len(list_figures), cols=1) \n",
    "\n",
    "for i, figure in enumerate(list_figures):\n",
    "    for trace in range(len(figure[\"data\"])):\n",
    "        \n",
    "        fig.append_trace(figure[\"data\"][trace], row=i+1, col=1)\n",
    "\n",
    "fig.update_layout(\n",
    "    autosize=False,\n",
    "    width=800,\n",
    "    height=1600#,\n",
    "#            title=f\"{df_patient_prototypes.index.values[patient_loc]}\",\n",
    "#            xaxis_title=\"Discharge disability\",\n",
    "#            yaxis_title=\"Probability\",\n",
    "#            legend_title=\"Legend Title\",\n",
    "#            font=dict(\n",
    "#                family=\"Courier New, monospace\",\n",
    "#                size=18,\n",
    "#                color=\"RebeccaPurple\"\n",
    "#            )\n",
    ")\n",
    "#names = {'Plot 1':'2016', 'Plot 2':'2017', 'Plot 3':'2018', 'Plot 4':'2019'}\n",
    "\n",
    "#fig.for_each_annotation(lambda a: a.update(text = df_patient_prototypes.index.values[patient_loc]))\n",
    "         \n",
    "fig.show()\n",
    "\n",
    "#plot(fig)"
   ]
  },
  {
   "cell_type": "markdown",
   "metadata": {},
   "source": [
    "##### CELLS BELOW ARE CREATING A SINGLE FIGURE TO EXPERIMENT WITH THE PARAMETERS TO MAKE THE ABOVE SUBPLOT VERSION LOOK HOW WE WANT.\n",
    "\n",
    "TO DO: \n",
    "1. Legend only have 1 entry per colour\n",
    "1. Titles of the patient type for each subplot\n",
    "1. X and Y axis labels"
   ]
  },
  {
   "cell_type": "code",
   "execution_count": null,
   "metadata": {},
   "outputs": [
    {
     "data": {
      "text/html": [
       "<div>\n",
       "<style scoped>\n",
       "    .dataframe tbody tr th:only-of-type {\n",
       "        vertical-align: middle;\n",
       "    }\n",
       "\n",
       "    .dataframe tbody tr th {\n",
       "        vertical-align: top;\n",
       "    }\n",
       "\n",
       "    .dataframe thead th {\n",
       "        text-align: right;\n",
       "    }\n",
       "</style>\n",
       "<table border=\"1\" class=\"dataframe\">\n",
       "  <thead>\n",
       "    <tr style=\"text-align: right;\">\n",
       "      <th></th>\n",
       "      <th>prior_disability</th>\n",
       "      <th>stroke_severity</th>\n",
       "      <th>age</th>\n",
       "      <th>onset_to_thrombolysis_time</th>\n",
       "      <th>any_afib_diagnosis</th>\n",
       "      <th>precise_onset_known</th>\n",
       "      <th>team_Addenbrooke's Hospital</th>\n",
       "      <th>team_Basildon University Hospital</th>\n",
       "      <th>team_Blackpool Victoria Hospital</th>\n",
       "      <th>team_Bradford and Airedale SU</th>\n",
       "      <th>...</th>\n",
       "      <th>team_Whiston Hospital HASU</th>\n",
       "      <th>team_William Harvey Hospital</th>\n",
       "      <th>team_Wirral Arrowe Park Hospital</th>\n",
       "      <th>team_Withybush General Hospital</th>\n",
       "      <th>team_Worcestershire Royal Hospital</th>\n",
       "      <th>team_Worthing Hospital</th>\n",
       "      <th>team_Wycombe General Hospital</th>\n",
       "      <th>team_Yeovil District Hospital</th>\n",
       "      <th>team_York Hospital</th>\n",
       "      <th>team_Ysbyty Gwynedd</th>\n",
       "    </tr>\n",
       "  </thead>\n",
       "  <tbody>\n",
       "    <tr>\n",
       "      <th>0</th>\n",
       "      <td>1.0</td>\n",
       "      <td>15.0</td>\n",
       "      <td>72.5</td>\n",
       "      <td>120.0</td>\n",
       "      <td>0.0</td>\n",
       "      <td>1.0</td>\n",
       "      <td>0.0</td>\n",
       "      <td>0.0</td>\n",
       "      <td>0.0</td>\n",
       "      <td>0.0</td>\n",
       "      <td>...</td>\n",
       "      <td>0.0</td>\n",
       "      <td>0.0</td>\n",
       "      <td>0.0</td>\n",
       "      <td>0.0</td>\n",
       "      <td>0.0</td>\n",
       "      <td>0.0</td>\n",
       "      <td>0.0</td>\n",
       "      <td>0.0</td>\n",
       "      <td>0.0</td>\n",
       "      <td>0.0</td>\n",
       "    </tr>\n",
       "    <tr>\n",
       "      <th>1</th>\n",
       "      <td>1.0</td>\n",
       "      <td>15.0</td>\n",
       "      <td>72.5</td>\n",
       "      <td>-100.0</td>\n",
       "      <td>0.0</td>\n",
       "      <td>1.0</td>\n",
       "      <td>0.0</td>\n",
       "      <td>0.0</td>\n",
       "      <td>0.0</td>\n",
       "      <td>0.0</td>\n",
       "      <td>...</td>\n",
       "      <td>0.0</td>\n",
       "      <td>0.0</td>\n",
       "      <td>0.0</td>\n",
       "      <td>0.0</td>\n",
       "      <td>0.0</td>\n",
       "      <td>0.0</td>\n",
       "      <td>0.0</td>\n",
       "      <td>0.0</td>\n",
       "      <td>0.0</td>\n",
       "      <td>0.0</td>\n",
       "    </tr>\n",
       "  </tbody>\n",
       "</table>\n",
       "<p>2 rows × 124 columns</p>\n",
       "</div>"
      ],
      "text/plain": [
       "   prior_disability  stroke_severity   age  onset_to_thrombolysis_time  \\\n",
       "0               1.0             15.0  72.5                       120.0   \n",
       "1               1.0             15.0  72.5                      -100.0   \n",
       "\n",
       "   any_afib_diagnosis  precise_onset_known  team_Addenbrooke's Hospital  \\\n",
       "0                 0.0                  1.0                          0.0   \n",
       "1                 0.0                  1.0                          0.0   \n",
       "\n",
       "   team_Basildon University Hospital  team_Blackpool Victoria Hospital  \\\n",
       "0                                0.0                               0.0   \n",
       "1                                0.0                               0.0   \n",
       "\n",
       "   team_Bradford and Airedale SU  ...  team_Whiston Hospital HASU  \\\n",
       "0                            0.0  ...                         0.0   \n",
       "1                            0.0  ...                         0.0   \n",
       "\n",
       "   team_William Harvey Hospital  team_Wirral Arrowe Park Hospital  \\\n",
       "0                           0.0                               0.0   \n",
       "1                           0.0                               0.0   \n",
       "\n",
       "   team_Withybush General Hospital  team_Worcestershire Royal Hospital  \\\n",
       "0                              0.0                                 0.0   \n",
       "1                              0.0                                 0.0   \n",
       "\n",
       "   team_Worthing Hospital  team_Wycombe General Hospital  \\\n",
       "0                     0.0                            0.0   \n",
       "1                     0.0                            0.0   \n",
       "\n",
       "   team_Yeovil District Hospital  team_York Hospital  team_Ysbyty Gwynedd  \n",
       "0                            0.0                 0.0                  0.0  \n",
       "1                            0.0                 0.0                  0.0  \n",
       "\n",
       "[2 rows x 124 columns]"
      ]
     },
     "execution_count": 18,
     "metadata": {},
     "output_type": "execute_result"
    }
   ],
   "source": [
    "list_get_treatment = [\"Treatment\",\"No treatment\"]\n",
    "list_onset_to_thrombolysis_time = [ott_default, -100]\n",
    "\n",
    "# take details of this patient\n",
    "df_patient_details = pd.DataFrame(columns=list(df_patient_prototypes), index=range(len(list_get_treatment)))\n",
    "\n",
    "# take exact copy of row\n",
    "df_patient_details.iloc[0] = df_patient_prototypes.iloc[0,:]\n",
    "df_patient_details.iloc[1] = df_patient_prototypes.iloc[0,:]\n",
    "\n",
    "# make first copy have, and the second copy not have thrombolysis treatment (either not get, or get at 2 hours)\n",
    "df_patient_details[\"onset_to_thrombolysis_time\"] = list_onset_to_thrombolysis_time\n",
    "\n",
    "df_patient_details = df_patient_details.astype('float')\n",
    "\n",
    "df_patient_details\n"
   ]
  },
  {
   "cell_type": "code",
   "execution_count": null,
   "metadata": {},
   "outputs": [],
   "source": [
    "y_probs = model.predict_proba(df_patient_details)\n",
    "y_pred = model.predict(df_patient_details)"
   ]
  },
  {
   "cell_type": "code",
   "execution_count": null,
   "metadata": {},
   "outputs": [],
   "source": [
    "df_patient_mrs_results = pd.DataFrame(\n",
    "            data=y_probs, \n",
    "            columns=[\"mRS0\",\"mRS1\",\"mRS2\",\"mRS3\",\"mRS4\",\"mRS5\",\"mRS6\"], \n",
    "            index=[\"with\",\"without\"])"
   ]
  },
  {
   "cell_type": "code",
   "execution_count": null,
   "metadata": {},
   "outputs": [
    {
     "data": {
      "text/html": [
       "<div>\n",
       "<style scoped>\n",
       "    .dataframe tbody tr th:only-of-type {\n",
       "        vertical-align: middle;\n",
       "    }\n",
       "\n",
       "    .dataframe tbody tr th {\n",
       "        vertical-align: top;\n",
       "    }\n",
       "\n",
       "    .dataframe thead th {\n",
       "        text-align: right;\n",
       "    }\n",
       "</style>\n",
       "<table border=\"1\" class=\"dataframe\">\n",
       "  <thead>\n",
       "    <tr style=\"text-align: right;\">\n",
       "      <th></th>\n",
       "      <th>with</th>\n",
       "      <th>without</th>\n",
       "    </tr>\n",
       "  </thead>\n",
       "  <tbody>\n",
       "    <tr>\n",
       "      <th>mRS0</th>\n",
       "      <td>0.032079</td>\n",
       "      <td>0.017062</td>\n",
       "    </tr>\n",
       "    <tr>\n",
       "      <th>mRS1</th>\n",
       "      <td>0.268353</td>\n",
       "      <td>0.121959</td>\n",
       "    </tr>\n",
       "    <tr>\n",
       "      <th>mRS2</th>\n",
       "      <td>0.186990</td>\n",
       "      <td>0.103199</td>\n",
       "    </tr>\n",
       "    <tr>\n",
       "      <th>mRS3</th>\n",
       "      <td>0.171434</td>\n",
       "      <td>0.207001</td>\n",
       "    </tr>\n",
       "    <tr>\n",
       "      <th>mRS4</th>\n",
       "      <td>0.167983</td>\n",
       "      <td>0.178976</td>\n",
       "    </tr>\n",
       "    <tr>\n",
       "      <th>mRS5</th>\n",
       "      <td>0.045064</td>\n",
       "      <td>0.180161</td>\n",
       "    </tr>\n",
       "    <tr>\n",
       "      <th>mRS6</th>\n",
       "      <td>0.128096</td>\n",
       "      <td>0.191642</td>\n",
       "    </tr>\n",
       "  </tbody>\n",
       "</table>\n",
       "</div>"
      ],
      "text/plain": [
       "          with   without\n",
       "mRS0  0.032079  0.017062\n",
       "mRS1  0.268353  0.121959\n",
       "mRS2  0.186990  0.103199\n",
       "mRS3  0.171434  0.207001\n",
       "mRS4  0.167983  0.178976\n",
       "mRS5  0.045064  0.180161\n",
       "mRS6  0.128096  0.191642"
      ]
     },
     "execution_count": 21,
     "metadata": {},
     "output_type": "execute_result"
    }
   ],
   "source": [
    "df_patient_mrs_results = df_patient_mrs_results.T\n",
    "df_patient_mrs_results"
   ]
  },
  {
   "cell_type": "code",
   "execution_count": null,
   "metadata": {},
   "outputs": [
    {
     "data": {
      "text/html": [
       "<div>\n",
       "<style scoped>\n",
       "    .dataframe tbody tr th:only-of-type {\n",
       "        vertical-align: middle;\n",
       "    }\n",
       "\n",
       "    .dataframe tbody tr th {\n",
       "        vertical-align: top;\n",
       "    }\n",
       "\n",
       "    .dataframe thead th {\n",
       "        text-align: right;\n",
       "    }\n",
       "</style>\n",
       "<table border=\"1\" class=\"dataframe\">\n",
       "  <thead>\n",
       "    <tr style=\"text-align: right;\">\n",
       "      <th></th>\n",
       "      <th>Treatment</th>\n",
       "      <th>Discharge disability</th>\n",
       "      <th>Probability</th>\n",
       "    </tr>\n",
       "  </thead>\n",
       "  <tbody>\n",
       "    <tr>\n",
       "      <th>0</th>\n",
       "      <td>Treatment</td>\n",
       "      <td>mRS0</td>\n",
       "      <td>0.032079</td>\n",
       "    </tr>\n",
       "    <tr>\n",
       "      <th>1</th>\n",
       "      <td>Treatment</td>\n",
       "      <td>mRS1</td>\n",
       "      <td>0.268353</td>\n",
       "    </tr>\n",
       "    <tr>\n",
       "      <th>2</th>\n",
       "      <td>Treatment</td>\n",
       "      <td>mRS2</td>\n",
       "      <td>0.186990</td>\n",
       "    </tr>\n",
       "    <tr>\n",
       "      <th>3</th>\n",
       "      <td>Treatment</td>\n",
       "      <td>mRS3</td>\n",
       "      <td>0.171434</td>\n",
       "    </tr>\n",
       "    <tr>\n",
       "      <th>4</th>\n",
       "      <td>Treatment</td>\n",
       "      <td>mRS4</td>\n",
       "      <td>0.167983</td>\n",
       "    </tr>\n",
       "    <tr>\n",
       "      <th>5</th>\n",
       "      <td>Treatment</td>\n",
       "      <td>mRS5</td>\n",
       "      <td>0.045064</td>\n",
       "    </tr>\n",
       "    <tr>\n",
       "      <th>6</th>\n",
       "      <td>Treatment</td>\n",
       "      <td>mRS6</td>\n",
       "      <td>0.128096</td>\n",
       "    </tr>\n",
       "    <tr>\n",
       "      <th>7</th>\n",
       "      <td>No treatment</td>\n",
       "      <td>mRS0</td>\n",
       "      <td>0.017062</td>\n",
       "    </tr>\n",
       "    <tr>\n",
       "      <th>8</th>\n",
       "      <td>No treatment</td>\n",
       "      <td>mRS1</td>\n",
       "      <td>0.121959</td>\n",
       "    </tr>\n",
       "    <tr>\n",
       "      <th>9</th>\n",
       "      <td>No treatment</td>\n",
       "      <td>mRS2</td>\n",
       "      <td>0.103199</td>\n",
       "    </tr>\n",
       "    <tr>\n",
       "      <th>10</th>\n",
       "      <td>No treatment</td>\n",
       "      <td>mRS3</td>\n",
       "      <td>0.207001</td>\n",
       "    </tr>\n",
       "    <tr>\n",
       "      <th>11</th>\n",
       "      <td>No treatment</td>\n",
       "      <td>mRS4</td>\n",
       "      <td>0.178976</td>\n",
       "    </tr>\n",
       "    <tr>\n",
       "      <th>12</th>\n",
       "      <td>No treatment</td>\n",
       "      <td>mRS5</td>\n",
       "      <td>0.180161</td>\n",
       "    </tr>\n",
       "    <tr>\n",
       "      <th>13</th>\n",
       "      <td>No treatment</td>\n",
       "      <td>mRS6</td>\n",
       "      <td>0.191642</td>\n",
       "    </tr>\n",
       "  </tbody>\n",
       "</table>\n",
       "</div>"
      ],
      "text/plain": [
       "       Treatment Discharge disability  Probability\n",
       "0      Treatment                 mRS0     0.032079\n",
       "1      Treatment                 mRS1     0.268353\n",
       "2      Treatment                 mRS2     0.186990\n",
       "3      Treatment                 mRS3     0.171434\n",
       "4      Treatment                 mRS4     0.167983\n",
       "5      Treatment                 mRS5     0.045064\n",
       "6      Treatment                 mRS6     0.128096\n",
       "7   No treatment                 mRS0     0.017062\n",
       "8   No treatment                 mRS1     0.121959\n",
       "9   No treatment                 mRS2     0.103199\n",
       "10  No treatment                 mRS3     0.207001\n",
       "11  No treatment                 mRS4     0.178976\n",
       "12  No treatment                 mRS5     0.180161\n",
       "13  No treatment                 mRS6     0.191642"
      ]
     },
     "execution_count": 22,
     "metadata": {},
     "output_type": "execute_result"
    }
   ],
   "source": [
    "df_bar = create_df_for_bar_plot(df_patient_mrs_results)\n",
    "df_bar"
   ]
  },
  {
   "cell_type": "code",
   "execution_count": null,
   "metadata": {},
   "outputs": [
    {
     "data": {
      "application/vnd.plotly.v1+json": {
       "config": {
        "plotlyServerURL": "https://plot.ly"
       },
       "data": [
        {
         "alignmentgroup": "True",
         "hovertemplate": "Treatment=Treatment<br>Discharge disability=%{x}<br>Probability=%{y}<extra></extra>",
         "legendgroup": "Treatment",
         "marker": {
          "color": "#636efa",
          "pattern": {
           "shape": ""
          }
         },
         "name": "Treatment",
         "offsetgroup": "Treatment",
         "orientation": "v",
         "showlegend": true,
         "textposition": "auto",
         "type": "bar",
         "x": [
          "mRS0",
          "mRS1",
          "mRS2",
          "mRS3",
          "mRS4",
          "mRS5",
          "mRS6"
         ],
         "xaxis": "x",
         "y": [
          0.032078612595796585,
          0.2683531939983368,
          0.18699011206626892,
          0.17143449187278748,
          0.1679832637310028,
          0.04506421834230423,
          0.1280960738658905
         ],
         "yaxis": "y"
        },
        {
         "alignmentgroup": "True",
         "hovertemplate": "Treatment=No treatment<br>Discharge disability=%{x}<br>Probability=%{y}<extra></extra>",
         "legendgroup": "No treatment",
         "marker": {
          "color": "#EF553B",
          "pattern": {
           "shape": ""
          }
         },
         "name": "No treatment",
         "offsetgroup": "No treatment",
         "orientation": "v",
         "showlegend": true,
         "textposition": "auto",
         "type": "bar",
         "x": [
          "mRS0",
          "mRS1",
          "mRS2",
          "mRS3",
          "mRS4",
          "mRS5",
          "mRS6"
         ],
         "xaxis": "x",
         "y": [
          0.017061864957213402,
          0.12195912003517151,
          0.10319898277521133,
          0.20700104534626007,
          0.17897619307041168,
          0.1801612228155136,
          0.19164156913757324
         ],
         "yaxis": "y"
        }
       ],
       "layout": {
        "barmode": "group",
        "legend": {
         "title": {
          "text": "Treatment"
         },
         "tracegroupgap": 0
        },
        "margin": {
         "t": 60
        },
        "template": {
         "data": {
          "bar": [
           {
            "error_x": {
             "color": "#2a3f5f"
            },
            "error_y": {
             "color": "#2a3f5f"
            },
            "marker": {
             "line": {
              "color": "#E5ECF6",
              "width": 0.5
             },
             "pattern": {
              "fillmode": "overlay",
              "size": 10,
              "solidity": 0.2
             }
            },
            "type": "bar"
           }
          ],
          "barpolar": [
           {
            "marker": {
             "line": {
              "color": "#E5ECF6",
              "width": 0.5
             },
             "pattern": {
              "fillmode": "overlay",
              "size": 10,
              "solidity": 0.2
             }
            },
            "type": "barpolar"
           }
          ],
          "carpet": [
           {
            "aaxis": {
             "endlinecolor": "#2a3f5f",
             "gridcolor": "white",
             "linecolor": "white",
             "minorgridcolor": "white",
             "startlinecolor": "#2a3f5f"
            },
            "baxis": {
             "endlinecolor": "#2a3f5f",
             "gridcolor": "white",
             "linecolor": "white",
             "minorgridcolor": "white",
             "startlinecolor": "#2a3f5f"
            },
            "type": "carpet"
           }
          ],
          "choropleth": [
           {
            "colorbar": {
             "outlinewidth": 0,
             "ticks": ""
            },
            "type": "choropleth"
           }
          ],
          "contour": [
           {
            "colorbar": {
             "outlinewidth": 0,
             "ticks": ""
            },
            "colorscale": [
             [
              0,
              "#0d0887"
             ],
             [
              0.1111111111111111,
              "#46039f"
             ],
             [
              0.2222222222222222,
              "#7201a8"
             ],
             [
              0.3333333333333333,
              "#9c179e"
             ],
             [
              0.4444444444444444,
              "#bd3786"
             ],
             [
              0.5555555555555556,
              "#d8576b"
             ],
             [
              0.6666666666666666,
              "#ed7953"
             ],
             [
              0.7777777777777778,
              "#fb9f3a"
             ],
             [
              0.8888888888888888,
              "#fdca26"
             ],
             [
              1,
              "#f0f921"
             ]
            ],
            "type": "contour"
           }
          ],
          "contourcarpet": [
           {
            "colorbar": {
             "outlinewidth": 0,
             "ticks": ""
            },
            "type": "contourcarpet"
           }
          ],
          "heatmap": [
           {
            "colorbar": {
             "outlinewidth": 0,
             "ticks": ""
            },
            "colorscale": [
             [
              0,
              "#0d0887"
             ],
             [
              0.1111111111111111,
              "#46039f"
             ],
             [
              0.2222222222222222,
              "#7201a8"
             ],
             [
              0.3333333333333333,
              "#9c179e"
             ],
             [
              0.4444444444444444,
              "#bd3786"
             ],
             [
              0.5555555555555556,
              "#d8576b"
             ],
             [
              0.6666666666666666,
              "#ed7953"
             ],
             [
              0.7777777777777778,
              "#fb9f3a"
             ],
             [
              0.8888888888888888,
              "#fdca26"
             ],
             [
              1,
              "#f0f921"
             ]
            ],
            "type": "heatmap"
           }
          ],
          "heatmapgl": [
           {
            "colorbar": {
             "outlinewidth": 0,
             "ticks": ""
            },
            "colorscale": [
             [
              0,
              "#0d0887"
             ],
             [
              0.1111111111111111,
              "#46039f"
             ],
             [
              0.2222222222222222,
              "#7201a8"
             ],
             [
              0.3333333333333333,
              "#9c179e"
             ],
             [
              0.4444444444444444,
              "#bd3786"
             ],
             [
              0.5555555555555556,
              "#d8576b"
             ],
             [
              0.6666666666666666,
              "#ed7953"
             ],
             [
              0.7777777777777778,
              "#fb9f3a"
             ],
             [
              0.8888888888888888,
              "#fdca26"
             ],
             [
              1,
              "#f0f921"
             ]
            ],
            "type": "heatmapgl"
           }
          ],
          "histogram": [
           {
            "marker": {
             "pattern": {
              "fillmode": "overlay",
              "size": 10,
              "solidity": 0.2
             }
            },
            "type": "histogram"
           }
          ],
          "histogram2d": [
           {
            "colorbar": {
             "outlinewidth": 0,
             "ticks": ""
            },
            "colorscale": [
             [
              0,
              "#0d0887"
             ],
             [
              0.1111111111111111,
              "#46039f"
             ],
             [
              0.2222222222222222,
              "#7201a8"
             ],
             [
              0.3333333333333333,
              "#9c179e"
             ],
             [
              0.4444444444444444,
              "#bd3786"
             ],
             [
              0.5555555555555556,
              "#d8576b"
             ],
             [
              0.6666666666666666,
              "#ed7953"
             ],
             [
              0.7777777777777778,
              "#fb9f3a"
             ],
             [
              0.8888888888888888,
              "#fdca26"
             ],
             [
              1,
              "#f0f921"
             ]
            ],
            "type": "histogram2d"
           }
          ],
          "histogram2dcontour": [
           {
            "colorbar": {
             "outlinewidth": 0,
             "ticks": ""
            },
            "colorscale": [
             [
              0,
              "#0d0887"
             ],
             [
              0.1111111111111111,
              "#46039f"
             ],
             [
              0.2222222222222222,
              "#7201a8"
             ],
             [
              0.3333333333333333,
              "#9c179e"
             ],
             [
              0.4444444444444444,
              "#bd3786"
             ],
             [
              0.5555555555555556,
              "#d8576b"
             ],
             [
              0.6666666666666666,
              "#ed7953"
             ],
             [
              0.7777777777777778,
              "#fb9f3a"
             ],
             [
              0.8888888888888888,
              "#fdca26"
             ],
             [
              1,
              "#f0f921"
             ]
            ],
            "type": "histogram2dcontour"
           }
          ],
          "mesh3d": [
           {
            "colorbar": {
             "outlinewidth": 0,
             "ticks": ""
            },
            "type": "mesh3d"
           }
          ],
          "parcoords": [
           {
            "line": {
             "colorbar": {
              "outlinewidth": 0,
              "ticks": ""
             }
            },
            "type": "parcoords"
           }
          ],
          "pie": [
           {
            "automargin": true,
            "type": "pie"
           }
          ],
          "scatter": [
           {
            "fillpattern": {
             "fillmode": "overlay",
             "size": 10,
             "solidity": 0.2
            },
            "type": "scatter"
           }
          ],
          "scatter3d": [
           {
            "line": {
             "colorbar": {
              "outlinewidth": 0,
              "ticks": ""
             }
            },
            "marker": {
             "colorbar": {
              "outlinewidth": 0,
              "ticks": ""
             }
            },
            "type": "scatter3d"
           }
          ],
          "scattercarpet": [
           {
            "marker": {
             "colorbar": {
              "outlinewidth": 0,
              "ticks": ""
             }
            },
            "type": "scattercarpet"
           }
          ],
          "scattergeo": [
           {
            "marker": {
             "colorbar": {
              "outlinewidth": 0,
              "ticks": ""
             }
            },
            "type": "scattergeo"
           }
          ],
          "scattergl": [
           {
            "marker": {
             "colorbar": {
              "outlinewidth": 0,
              "ticks": ""
             }
            },
            "type": "scattergl"
           }
          ],
          "scattermapbox": [
           {
            "marker": {
             "colorbar": {
              "outlinewidth": 0,
              "ticks": ""
             }
            },
            "type": "scattermapbox"
           }
          ],
          "scatterpolar": [
           {
            "marker": {
             "colorbar": {
              "outlinewidth": 0,
              "ticks": ""
             }
            },
            "type": "scatterpolar"
           }
          ],
          "scatterpolargl": [
           {
            "marker": {
             "colorbar": {
              "outlinewidth": 0,
              "ticks": ""
             }
            },
            "type": "scatterpolargl"
           }
          ],
          "scatterternary": [
           {
            "marker": {
             "colorbar": {
              "outlinewidth": 0,
              "ticks": ""
             }
            },
            "type": "scatterternary"
           }
          ],
          "surface": [
           {
            "colorbar": {
             "outlinewidth": 0,
             "ticks": ""
            },
            "colorscale": [
             [
              0,
              "#0d0887"
             ],
             [
              0.1111111111111111,
              "#46039f"
             ],
             [
              0.2222222222222222,
              "#7201a8"
             ],
             [
              0.3333333333333333,
              "#9c179e"
             ],
             [
              0.4444444444444444,
              "#bd3786"
             ],
             [
              0.5555555555555556,
              "#d8576b"
             ],
             [
              0.6666666666666666,
              "#ed7953"
             ],
             [
              0.7777777777777778,
              "#fb9f3a"
             ],
             [
              0.8888888888888888,
              "#fdca26"
             ],
             [
              1,
              "#f0f921"
             ]
            ],
            "type": "surface"
           }
          ],
          "table": [
           {
            "cells": {
             "fill": {
              "color": "#EBF0F8"
             },
             "line": {
              "color": "white"
             }
            },
            "header": {
             "fill": {
              "color": "#C8D4E3"
             },
             "line": {
              "color": "white"
             }
            },
            "type": "table"
           }
          ]
         },
         "layout": {
          "annotationdefaults": {
           "arrowcolor": "#2a3f5f",
           "arrowhead": 0,
           "arrowwidth": 1
          },
          "autotypenumbers": "strict",
          "coloraxis": {
           "colorbar": {
            "outlinewidth": 0,
            "ticks": ""
           }
          },
          "colorscale": {
           "diverging": [
            [
             0,
             "#8e0152"
            ],
            [
             0.1,
             "#c51b7d"
            ],
            [
             0.2,
             "#de77ae"
            ],
            [
             0.3,
             "#f1b6da"
            ],
            [
             0.4,
             "#fde0ef"
            ],
            [
             0.5,
             "#f7f7f7"
            ],
            [
             0.6,
             "#e6f5d0"
            ],
            [
             0.7,
             "#b8e186"
            ],
            [
             0.8,
             "#7fbc41"
            ],
            [
             0.9,
             "#4d9221"
            ],
            [
             1,
             "#276419"
            ]
           ],
           "sequential": [
            [
             0,
             "#0d0887"
            ],
            [
             0.1111111111111111,
             "#46039f"
            ],
            [
             0.2222222222222222,
             "#7201a8"
            ],
            [
             0.3333333333333333,
             "#9c179e"
            ],
            [
             0.4444444444444444,
             "#bd3786"
            ],
            [
             0.5555555555555556,
             "#d8576b"
            ],
            [
             0.6666666666666666,
             "#ed7953"
            ],
            [
             0.7777777777777778,
             "#fb9f3a"
            ],
            [
             0.8888888888888888,
             "#fdca26"
            ],
            [
             1,
             "#f0f921"
            ]
           ],
           "sequentialminus": [
            [
             0,
             "#0d0887"
            ],
            [
             0.1111111111111111,
             "#46039f"
            ],
            [
             0.2222222222222222,
             "#7201a8"
            ],
            [
             0.3333333333333333,
             "#9c179e"
            ],
            [
             0.4444444444444444,
             "#bd3786"
            ],
            [
             0.5555555555555556,
             "#d8576b"
            ],
            [
             0.6666666666666666,
             "#ed7953"
            ],
            [
             0.7777777777777778,
             "#fb9f3a"
            ],
            [
             0.8888888888888888,
             "#fdca26"
            ],
            [
             1,
             "#f0f921"
            ]
           ]
          },
          "colorway": [
           "#636efa",
           "#EF553B",
           "#00cc96",
           "#ab63fa",
           "#FFA15A",
           "#19d3f3",
           "#FF6692",
           "#B6E880",
           "#FF97FF",
           "#FECB52"
          ],
          "font": {
           "color": "#2a3f5f"
          },
          "geo": {
           "bgcolor": "white",
           "lakecolor": "white",
           "landcolor": "#E5ECF6",
           "showlakes": true,
           "showland": true,
           "subunitcolor": "white"
          },
          "hoverlabel": {
           "align": "left"
          },
          "hovermode": "closest",
          "mapbox": {
           "style": "light"
          },
          "paper_bgcolor": "white",
          "plot_bgcolor": "#E5ECF6",
          "polar": {
           "angularaxis": {
            "gridcolor": "white",
            "linecolor": "white",
            "ticks": ""
           },
           "bgcolor": "#E5ECF6",
           "radialaxis": {
            "gridcolor": "white",
            "linecolor": "white",
            "ticks": ""
           }
          },
          "scene": {
           "xaxis": {
            "backgroundcolor": "#E5ECF6",
            "gridcolor": "white",
            "gridwidth": 2,
            "linecolor": "white",
            "showbackground": true,
            "ticks": "",
            "zerolinecolor": "white"
           },
           "yaxis": {
            "backgroundcolor": "#E5ECF6",
            "gridcolor": "white",
            "gridwidth": 2,
            "linecolor": "white",
            "showbackground": true,
            "ticks": "",
            "zerolinecolor": "white"
           },
           "zaxis": {
            "backgroundcolor": "#E5ECF6",
            "gridcolor": "white",
            "gridwidth": 2,
            "linecolor": "white",
            "showbackground": true,
            "ticks": "",
            "zerolinecolor": "white"
           }
          },
          "shapedefaults": {
           "line": {
            "color": "#2a3f5f"
           }
          },
          "ternary": {
           "aaxis": {
            "gridcolor": "white",
            "linecolor": "white",
            "ticks": ""
           },
           "baxis": {
            "gridcolor": "white",
            "linecolor": "white",
            "ticks": ""
           },
           "bgcolor": "#E5ECF6",
           "caxis": {
            "gridcolor": "white",
            "linecolor": "white",
            "ticks": ""
           }
          },
          "title": {
           "x": 0.05
          },
          "xaxis": {
           "automargin": true,
           "gridcolor": "white",
           "linecolor": "white",
           "ticks": "",
           "title": {
            "standoff": 15
           },
           "zerolinecolor": "white",
           "zerolinewidth": 2
          },
          "yaxis": {
           "automargin": true,
           "gridcolor": "white",
           "linecolor": "white",
           "ticks": "",
           "title": {
            "standoff": 15
           },
           "zerolinecolor": "white",
           "zerolinewidth": 2
          }
         }
        },
        "xaxis": {
         "anchor": "y",
         "domain": [
          0,
          1
         ],
         "title": {
          "text": "Discharge disability"
         }
        },
        "yaxis": {
         "anchor": "x",
         "domain": [
          0,
          1
         ],
         "title": {
          "text": "Probability"
         }
        }
       }
      }
     },
     "metadata": {},
     "output_type": "display_data"
    }
   ],
   "source": [
    "px.bar(df_bar, x=\"Discharge disability\", y=\"Probability\", \n",
    "                color=\"Treatment\", barmode=\"group\")# title=f\"{df_patient_details.index.value}\")"
   ]
  }
 ],
 "metadata": {
  "kernelspec": {
   "display_name": "Python 3.10.11 ('sam10')",
   "language": "python",
   "name": "python3"
  },
  "language_info": {
   "codemirror_mode": {
    "name": "ipython",
    "version": 3
   },
   "file_extension": ".py",
   "mimetype": "text/x-python",
   "name": "python",
   "nbconvert_exporter": "python",
   "pygments_lexer": "ipython3",
   "version": "3.10.12"
  },
  "orig_nbformat": 4,
  "vscode": {
   "interpreter": {
    "hash": "f85b883bff9a8a9f39576b94acbdf6672b3dc17c35647e7395f81e785740a4b3"
   }
  }
 },
 "nbformat": 4,
 "nbformat_minor": 2
}
