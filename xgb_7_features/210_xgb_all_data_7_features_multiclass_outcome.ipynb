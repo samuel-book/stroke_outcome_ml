{
 "cells": [
  {
   "attachments": {},
   "cell_type": "markdown",
   "metadata": {},
   "source": [
    "# XGBoost models informed by feature selection analysis (using all data)\n",
    "\n",
    "### Plain English summary\n",
    "\n",
    "Use a model equivalent to the one trained in notebook 040 (but for this one use all data to train the model, and no test set) to calculate the multiclass mRS distributions (individual mRS + cumulative distributions + weighted mRS) for all of the patients in the population with/without thrombolysis (Assume no-one on AFIb anticoagulant would receive thrombolysis - so remove these from the population and report the number removed).\n",
    "\n",
    "The model includes 7 features: [\"prior_disability\", \"stroke_severity\", \"stroke_team\", \"age\", \"onset-to-thrombolysis-time\", \"any_afib_diagnosis\", \"precise_onset_known\"]\n",
    "\n",
    "How would outcomes compare using:\n",
    "1. actual decision made\n",
    "1. benchmark\n",
    "1. 'best outcome'\n",
    "\n",
    "### Model and data\n",
    "XGBoost\\\n",
    "7 features: [\"prior_disability\", \"stroke_severity\", \"stroke_team\", \"age\", \"onset-to-thrombolysis-time\", \"any_afib_diagnosis\", \"precise_onset_known\"]\\\n",
    "All data (not use kfolds)\n",
    "\n",
    "### Aims\n",
    "\n",
    "### Observations\n",
    "\n",
    "\n",
    "#### Further work\n",
    "\n",
    "#### Resources\n",
    "pip install plotly\n",
    "pip install dash"
   ]
  },
  {
   "attachments": {},
   "cell_type": "markdown",
   "metadata": {},
   "source": [
    "## Import libraries"
   ]
  },
  {
   "cell_type": "code",
   "execution_count": 188,
   "metadata": {},
   "outputs": [],
   "source": [
    "# Turn warnings off to keep notebook tidy\n",
    "import warnings\n",
    "warnings.filterwarnings(\"ignore\")\n",
    "\n",
    "import os\n",
    "import matplotlib.pyplot as plt\n",
    "from matplotlib.lines import Line2D\n",
    "import numpy as np\n",
    "import pandas as pd\n",
    "#import plotly.express as px\n",
    "\n",
    "import scipy\n",
    "\n",
    "from xgboost import XGBClassifier\n",
    "from sklearn.metrics import auc\n",
    "from sklearn.metrics import roc_curve\n",
    "\n",
    "import json\n",
    "\n",
    "from dataclasses import dataclass\n",
    "\n",
    "import seaborn as sns\n",
    "\n",
    "from sklearn.metrics import roc_auc_score\n",
    "\n",
    "from sklearn.metrics import confusion_matrix\n",
    "\n",
    "import pickle\n",
    "import shap\n",
    "\n",
    "from os.path import exists\n",
    "\n",
    "import math\n",
    "\n",
    "import importlib\n",
    "# Import local package\n",
    "#from utils import waterfall\n",
    "## Force package to be reloaded\n",
    "#importlib.reload(waterfall);\n",
    "\n",
    "# Need for cm subplots?\n",
    "#from mpl_toolkits.axes_grid1 import make_axes_locatable\n",
    "#from matplotlib.colors import LogNorm\n",
    "#from matplotlib.ticker import MultipleLocator\n",
    "\n",
    "#pip install category_encoders\n",
    "#import category_encoders as ce\n",
    "\n",
    "#import dash_core_components as dcc\n",
    "#from dash import dcc\n",
    "#import plotly.express as px\n",
    "#import plotly.subplots as sp\n",
    "#from plotly.offline import plot\n",
    "#from plotly.subplots import make_subplots\n",
    "\n",
    "import time"
   ]
  },
  {
   "attachments": {},
   "cell_type": "markdown",
   "metadata": {},
   "source": [
    "Report the time duration to run notebook"
   ]
  },
  {
   "cell_type": "code",
   "execution_count": 189,
   "metadata": {},
   "outputs": [],
   "source": [
    "start_time = time.time()"
   ]
  },
  {
   "cell_type": "code",
   "execution_count": 190,
   "metadata": {},
   "outputs": [],
   "source": [
    "# For those patients that do not get thrombolysis, the onset to thrombolysis time to calculate their outcome had they been given thrombolysis\n",
    "ott_default = 120"
   ]
  },
  {
   "cell_type": "markdown",
   "metadata": {},
   "source": [
    "Select the features for the model for disability discharge"
   ]
  },
  {
   "cell_type": "code",
   "execution_count": 191,
   "metadata": {},
   "outputs": [],
   "source": [
    "selected_features_mrs = [\"prior_disability\", \"stroke_severity\", \"stroke_team\", \n",
    "                     \"age\", \"onset_to_thrombolysis_time\", \"any_afib_diagnosis\", \n",
    "                     \"precise_onset_known\", \"discharge_disability\"]"
   ]
  },
  {
   "cell_type": "markdown",
   "metadata": {},
   "source": [
    "Select the features for the model for treatment"
   ]
  },
  {
   "cell_type": "code",
   "execution_count": 192,
   "metadata": {},
   "outputs": [],
   "source": [
    "selected_features_treatment = [\"prior_disability\", \"stroke_severity\", \n",
    "                     \"age\", \"arrival_to_scan_time\", \"precise_onset_known\", \n",
    "                     \"onset_to_arrival_time\",\"onset_during_sleep\", \n",
    "                     \"stroke_team\", \"S2Thrombolysis\"]"
   ]
  },
  {
   "cell_type": "markdown",
   "metadata": {},
   "source": [
    "Get union of both sets of features"
   ]
  },
  {
   "cell_type": "code",
   "execution_count": 193,
   "metadata": {},
   "outputs": [],
   "source": [
    "selected_features_set = list(set.union(set(selected_features_mrs), \n",
    "                                       set(selected_features_treatment)))"
   ]
  },
  {
   "attachments": {},
   "cell_type": "markdown",
   "metadata": {},
   "source": [
    "## Set up paths and filenames\n",
    "\n",
    "For consistency, the folders end with \"/\" and the text for filenames include no trailing \"_\"."
   ]
  },
  {
   "cell_type": "code",
   "execution_count": 194,
   "metadata": {},
   "outputs": [],
   "source": [
    "@dataclass(frozen=True)\n",
    "class Paths:\n",
    "    '''Singleton object for storing paths to data and database.'''\n",
    "    image_save_path: str = './saved_images'\n",
    "    model_save_path: str = './saved_models'\n",
    "    data_save_path: str = './saved_data'\n",
    "    data_read_path: str = '../data_processing/output'\n",
    "    model_text: str = 'xgb_all_data_multiclass_outcome'\n",
    "    notebook: str = '210_'\n",
    "\n",
    "paths = Paths()"
   ]
  },
  {
   "cell_type": "markdown",
   "metadata": {},
   "source": [
    "Create output folders if needed"
   ]
  },
  {
   "cell_type": "code",
   "execution_count": 195,
   "metadata": {},
   "outputs": [],
   "source": [
    "path = paths.image_save_path\n",
    "if not os.path.exists(path):\n",
    "    os.makedirs(path)\n",
    "        \n",
    "path = paths.model_save_path\n",
    "if not os.path.exists(path):\n",
    "    os.makedirs(path)\n",
    "\n",
    "path = paths.data_save_path\n",
    "if not os.path.exists(path):\n",
    "    os.makedirs(path)"
   ]
  },
  {
   "attachments": {},
   "cell_type": "markdown",
   "metadata": {},
   "source": [
    "## Import data\n",
    "\n",
    "Data has previously been split into 5 stratified k-fold splits."
   ]
  },
  {
   "cell_type": "code",
   "execution_count": 196,
   "metadata": {},
   "outputs": [],
   "source": [
    "# Read in training set, restrict to chosen features & store\n",
    "filename = os.path.join(paths.data_read_path, '02_reformatted_data_ml.csv')\n",
    "data = pd.read_csv(filename)"
   ]
  },
  {
   "cell_type": "markdown",
   "metadata": {},
   "source": [
    "Create new feature \"S2Thrombolysis\" from the surrogate \"scan_to_thrombolysis_time\""
   ]
  },
  {
   "cell_type": "code",
   "execution_count": 197,
   "metadata": {},
   "outputs": [],
   "source": [
    "data[\"S2Thrombolysis\"] = data[\"scan_to_thrombolysis_time\"] > -100"
   ]
  },
  {
   "cell_type": "markdown",
   "metadata": {},
   "source": [
    "Get data for both models"
   ]
  },
  {
   "cell_type": "code",
   "execution_count": 198,
   "metadata": {},
   "outputs": [],
   "source": [
    "data = data[selected_features_set]"
   ]
  },
  {
   "attachments": {},
   "cell_type": "markdown",
   "metadata": {},
   "source": [
    "### One hot the categorical features\n",
    "\n",
    "Convert some categorical features to one hot encoded features.\n",
    "\n",
    "Define a function"
   ]
  },
  {
   "cell_type": "code",
   "execution_count": 199,
   "metadata": {},
   "outputs": [],
   "source": [
    "def convert_feature_to_one_hot(df, feature_name, prefix):\n",
    "    \"\"\"\n",
    "    df [dataframe]: training or test dataset\n",
    "    feature_name [str]: feature to convert to ont hot encoding\n",
    "    prefix [str]: string to use on new feature\n",
    "    \"\"\"\n",
    "\n",
    "    # One hot encode a feature\n",
    "    df_feature = pd.get_dummies(\n",
    "        df[feature_name], prefix = prefix)\n",
    "    df = pd.concat([df, df_feature], axis=1)\n",
    "    df.drop(feature_name, axis=1, inplace=True)\n",
    "\n",
    "    return(df)"
   ]
  },
  {
   "attachments": {},
   "cell_type": "markdown",
   "metadata": {},
   "source": [
    "Set up two lists for the one hot encoding. \n",
    "\n",
    "A list of the feature names that are categorical and to be converted using one hot encoding.\n",
    "A list of the prefixes to use for these features."
   ]
  },
  {
   "cell_type": "code",
   "execution_count": 200,
   "metadata": {},
   "outputs": [],
   "source": [
    "features_to_one_hot = [\"stroke_team\", \"weekday\"]\n",
    "list_prefix = [\"team\", \"weekday\"]"
   ]
  },
  {
   "attachments": {},
   "cell_type": "markdown",
   "metadata": {},
   "source": [
    "For each feature in the list, for each train and test dataset, convert to one hot encoded."
   ]
  },
  {
   "cell_type": "code",
   "execution_count": 201,
   "metadata": {},
   "outputs": [],
   "source": [
    "for feature, prefix in zip(features_to_one_hot, list_prefix):\n",
    "    if feature in selected_features_set:\n",
    "        data = convert_feature_to_one_hot(data, feature, prefix)"
   ]
  },
  {
   "attachments": {},
   "cell_type": "markdown",
   "metadata": {},
   "source": [
    "Feature names with one hot encoding"
   ]
  },
  {
   "cell_type": "code",
   "execution_count": 202,
   "metadata": {},
   "outputs": [],
   "source": [
    "feature_names_ohe = list(data)"
   ]
  },
  {
   "cell_type": "markdown",
   "metadata": {},
   "source": [
    "Extract the team names"
   ]
  },
  {
   "cell_type": "markdown",
   "metadata": {},
   "source": []
  },
  {
   "cell_type": "code",
   "execution_count": 203,
   "metadata": {},
   "outputs": [],
   "source": [
    "ohe_stroke_team_features = [col for col in feature_names_ohe if col.startswith('team')]"
   ]
  },
  {
   "cell_type": "code",
   "execution_count": 204,
   "metadata": {},
   "outputs": [],
   "source": [
    "# replace the column name \"stroke_team\" with the ohe column names\n",
    "selected_features_mrs.remove(\"stroke_team\")\n",
    "selected_features_mrs = selected_features_mrs + ohe_stroke_team_features\n",
    "\n",
    "# replace the column name \"stroke_team\" with the ohe column names\n",
    "selected_features_treatment.remove(\"stroke_team\")\n",
    "selected_features_treatment = selected_features_treatment + ohe_stroke_team_features"
   ]
  },
  {
   "cell_type": "markdown",
   "metadata": {},
   "source": [
    "# Discharge disability multiclass model"
   ]
  },
  {
   "cell_type": "code",
   "execution_count": 205,
   "metadata": {},
   "outputs": [],
   "source": [
    "data_mrs = data[selected_features_mrs]"
   ]
  },
  {
   "cell_type": "code",
   "execution_count": 206,
   "metadata": {},
   "outputs": [],
   "source": [
    "feature_names_ohe = list(data_mrs)\n",
    "feature_names_ohe.remove(\"discharge_disability\")\n",
    "n_features_ohe = len(feature_names_ohe)"
   ]
  },
  {
   "cell_type": "markdown",
   "metadata": {},
   "source": [
    "## Edit data\n",
    "### Divide into X (features) and y (labels)\n",
    "We will separate out our features (the data we use to make a prediction) from our label (what we are trying to predict).\n",
    "By convention our features are called `X` (usually upper case to denote multiple features), and the label (disability discharge) `y`."
   ]
  },
  {
   "cell_type": "code",
   "execution_count": 207,
   "metadata": {},
   "outputs": [],
   "source": [
    "X = data_mrs.drop('discharge_disability', axis=1)\n",
    "y = data_mrs['discharge_disability']"
   ]
  },
  {
   "attachments": {},
   "cell_type": "markdown",
   "metadata": {},
   "source": [
    "## Fit XGBoost model multiclass classification model for discharge disability\n",
    "\n",
    "Train model"
   ]
  },
  {
   "cell_type": "code",
   "execution_count": 208,
   "metadata": {},
   "outputs": [],
   "source": [
    "# Model filename\n",
    "filename = os.path.join(paths.model_save_path, \n",
    "                (paths.notebook + paths.model_text + '.p'))\n",
    "\n",
    "# Check if exists\n",
    "file_exists = exists(filename)\n",
    "\n",
    "if file_exists:\n",
    "# Load models\n",
    "    with open(filename, 'rb') as filehandler:\n",
    "        model_outcome = pickle.load(filehandler)\n",
    "else:\n",
    "    # Define and Fit model\n",
    "    model_outcome = XGBClassifier(verbosity=0, seed=42, learning_rate=0.5,\n",
    "                            tree_method='gpu_hist')\n",
    "    model_outcome.fit(X, y)\n",
    "\n",
    "    # Save using pickle\n",
    "    with open(filename, 'wb') as filehandler:\n",
    "        pickle.dump(model_outcome, filehandler)"
   ]
  },
  {
   "cell_type": "markdown",
   "metadata": {},
   "source": [
    "Setup the different X data for the scenarios\n"
   ]
  },
  {
   "cell_type": "code",
   "execution_count": 209,
   "metadata": {},
   "outputs": [],
   "source": [
    "def calculate_population_outcome(y_probs, mrs_classes):\n",
    "    weighted_mrs = (y_probs * mrs_classes).sum(axis=1)\n",
    "    return(np.average(weighted_mrs))"
   ]
  },
  {
   "cell_type": "code",
   "execution_count": 210,
   "metadata": {},
   "outputs": [],
   "source": [
    "mrs_classes = np.arange(7)"
   ]
  },
  {
   "cell_type": "markdown",
   "metadata": {},
   "source": [
    "### Average population disability discharge (patient weighted outcome)\n",
    "#### Scenario: Actual decision"
   ]
  },
  {
   "cell_type": "code",
   "execution_count": 211,
   "metadata": {},
   "outputs": [
    {
     "data": {
      "text/plain": [
       "2.6236414628157236"
      ]
     },
     "execution_count": 211,
     "metadata": {},
     "output_type": "execute_result"
    }
   ],
   "source": [
    "# Scenario actual decision\n",
    "\n",
    "# Get and store predicted probabilities\n",
    "y_probs = model_outcome.predict_proba(X)\n",
    "ave_weighted_mrs_actual = calculate_population_outcome(y_probs, mrs_classes)\n",
    "ave_weighted_mrs_actual"
   ]
  },
  {
   "cell_type": "markdown",
   "metadata": {},
   "source": [
    "#### Scenario: Benchmark decision"
   ]
  },
  {
   "cell_type": "markdown",
   "metadata": {},
   "source": [
    "Read in tthe 25 benchmark hospitals (identified in notebook 200)"
   ]
  },
  {
   "cell_type": "code",
   "execution_count": 212,
   "metadata": {},
   "outputs": [],
   "source": [
    "filename = os.path.join(paths.data_save_path, \n",
    "    ('200_xgb_10_features_all_data_thrombolysis_decision_highest_25_benchmark_hospitals_median_shap.csv'))\n",
    "\n",
    "benchmark_hospitals = pd.read_csv(filename)\n",
    "benchmark_hospitals = list(benchmark_hospitals['hospital'])"
   ]
  },
  {
   "cell_type": "code",
   "execution_count": 213,
   "metadata": {},
   "outputs": [],
   "source": [
    "# Open model to get thrombolysis treatment based on benchmark\n",
    "# Model filename\n",
    "filename_treatment_model = os.path.join(paths.model_save_path, \n",
    "                '200_xgb_10_features_all_data_thrombolysis_decision.p')\n",
    "\n",
    "# Check if exists\n",
    "file_exists = exists(filename_treatment_model)\n",
    "\n",
    "if file_exists:\n",
    "# Load models\n",
    "    with open(filename_treatment_model, 'rb') as filehandler:\n",
    "        model_treatment_decision = pickle.load(filehandler)\n",
    "else:\n",
    "    # give warning message\n",
    "    print(\"Run notebook 200 to fit the treatment decision model\")"
   ]
  },
  {
   "cell_type": "code",
   "execution_count": 214,
   "metadata": {},
   "outputs": [],
   "source": [
    "# Get dataset for the treatment decision model\n",
    "data_treatment_decision = data[selected_features_treatment]\n",
    "X_treatment_decision = data_treatment_decision.drop('S2Thrombolysis', axis=1)\n",
    "\n",
    "# For each benchmark hosptial, set all the patients as going there and get verdict\n",
    "df_benchmark_decisions = pd.DataFrame()\n",
    "for h in benchmark_hospitals:\n",
    "    X_treatment_decision[ohe_stroke_team_features] = 0\n",
    "    X_treatment_decision[f\"team_{h}\"] = 1\n",
    "    df_benchmark_decisions[f\"{h}\"] = model_treatment_decision.predict(X_treatment_decision)\n",
    "\n",
    "# Calculate the majority vote from the 25 benchmark hosptials\n",
    "decision = df_benchmark_decisions.sum(axis=1)\n",
    "decision = decision > (25/2)"
   ]
  },
  {
   "cell_type": "code",
   "execution_count": 215,
   "metadata": {},
   "outputs": [
    {
     "data": {
      "text/plain": [
       "2.5740707613794047"
      ]
     },
     "execution_count": 215,
     "metadata": {},
     "output_type": "execute_result"
    }
   ],
   "source": [
    "X = data_mrs.drop('discharge_disability', axis=1)\n",
    "\n",
    "mask = decision == 0\n",
    "X[\"onset_to_thrombolysis_time\"][mask] = -100\n",
    "\n",
    "mask = decision == 1\n",
    "X[\"onset_to_thrombolysis_time\"][mask] = ott_default\n",
    "\n",
    "# Get and store predicted probabilities\n",
    "y_probs_benchmark = model_outcome.predict_proba(X)\n",
    "ave_weighted_mrs_benchmark = calculate_population_outcome(y_probs_benchmark, mrs_classes)\n",
    "ave_weighted_mrs_benchmark\n"
   ]
  },
  {
   "cell_type": "code",
   "execution_count": 216,
   "metadata": {},
   "outputs": [
    {
     "data": {
      "text/plain": [
       "2.7038802875195196"
      ]
     },
     "execution_count": 216,
     "metadata": {},
     "output_type": "execute_result"
    }
   ],
   "source": [
    "# Scenario best decision\n",
    "\n",
    "# Create X data for all treated\n",
    "X_treated = data_mrs.drop('discharge_disability', axis=1)\n",
    "mask = X_treated[\"onset_to_thrombolysis_time\"] == -100\n",
    "X_treated[\"onset_to_thrombolysis_time\"][mask] = ott_default\n",
    "\n",
    "# Get and store predicted probabilities\n",
    "y_probs_treated = model_outcome.predict_proba(X_treated)\n",
    "ave_weighted_mrs_treated = calculate_population_outcome(y_probs_treated, mrs_classes)\n",
    "\n",
    "# Create X data for none treated\n",
    "X_not_treated = data_mrs.drop('discharge_disability', axis=1)\n",
    "X_not_treated[\"onset_to_thrombolysis_time\"] = -100\n",
    "\n",
    "# Get and store predicted probabilities\n",
    "y_probs_not_treated = model_outcome.predict_proba(X_not_treated)\n",
    "ave_weighted_mrs_not_treated = calculate_population_outcome(y_probs_not_treated, mrs_classes)\n",
    "\n",
    "weighted_mrs_best = np.maximum(ave_weighted_mrs_treated, ave_weighted_mrs_not_treated)\n",
    "ave_weighted_mrs_best_treatment = np.average(weighted_mrs_best)\n",
    "ave_weighted_mrs_best_treatment"
   ]
  },
  {
   "cell_type": "markdown",
   "metadata": {},
   "source": [
    "# KP YOU ARE HERE"
   ]
  },
  {
   "cell_type": "markdown",
   "metadata": {},
   "source": [
    "Plot (want to create a subplot per patient, with the two mRS probability distributions on the same plot)"
   ]
  },
  {
   "cell_type": "code",
   "execution_count": 217,
   "metadata": {},
   "outputs": [],
   "source": [
    "def create_df_for_bar_plot(df):\n",
    "    df_bar  = pd.DataFrame()\n",
    "    df_bar[\"Treatment\"] = ([\"Treatment\"] * 7) + ([\"No treatment\"] * 7)\n",
    "    df_bar[\"Discharge disability\"] = np.append(df.index.values, df.index.values)\n",
    "    df_bar[\"Probability\"] = np.append(df[\"with\"], df[\"without\"])\n",
    "    return(df_bar)"
   ]
  },
  {
   "cell_type": "markdown",
   "metadata": {},
   "source": [
    "Get predictions for these patients, and store (\\ dataframe for getting IVT, and a dataframe for not)"
   ]
  },
  {
   "cell_type": "code",
   "execution_count": 218,
   "metadata": {},
   "outputs": [
    {
     "ename": "NameError",
     "evalue": "name 'n_patients' is not defined",
     "output_type": "error",
     "traceback": [
      "\u001b[0;31m---------------------------------------------------------------------------\u001b[0m",
      "\u001b[0;31mNameError\u001b[0m                                 Traceback (most recent call last)",
      "\u001b[1;32m/home/kerry/Documents/GitHub/stroke_outcome_ml/xgb_7_features/210_xgb_all_data_7_features_multiclass_outcome.ipynb Cell 58\u001b[0m line \u001b[0;36m6\n\u001b[1;32m      <a href='vscode-notebook-cell:/home/kerry/Documents/GitHub/stroke_outcome_ml/xgb_7_features/210_xgb_all_data_7_features_multiclass_outcome.ipynb#X51sZmlsZQ%3D%3D?line=1'>2</a>\u001b[0m list_onset_to_thrombolysis_time \u001b[39m=\u001b[39m [ott_default, \u001b[39m-\u001b[39m\u001b[39m100\u001b[39m]\n\u001b[1;32m      <a href='vscode-notebook-cell:/home/kerry/Documents/GitHub/stroke_outcome_ml/xgb_7_features/210_xgb_all_data_7_features_multiclass_outcome.ipynb#X51sZmlsZQ%3D%3D?line=3'>4</a>\u001b[0m list_figures \u001b[39m=\u001b[39m []\n\u001b[0;32m----> <a href='vscode-notebook-cell:/home/kerry/Documents/GitHub/stroke_outcome_ml/xgb_7_features/210_xgb_all_data_7_features_multiclass_outcome.ipynb#X51sZmlsZQ%3D%3D?line=5'>6</a>\u001b[0m \u001b[39mfor\u001b[39;00m patient_loc \u001b[39min\u001b[39;00m \u001b[39mrange\u001b[39m(n_patients):\n\u001b[1;32m      <a href='vscode-notebook-cell:/home/kerry/Documents/GitHub/stroke_outcome_ml/xgb_7_features/210_xgb_all_data_7_features_multiclass_outcome.ipynb#X51sZmlsZQ%3D%3D?line=6'>7</a>\u001b[0m \n\u001b[1;32m      <a href='vscode-notebook-cell:/home/kerry/Documents/GitHub/stroke_outcome_ml/xgb_7_features/210_xgb_all_data_7_features_multiclass_outcome.ipynb#X51sZmlsZQ%3D%3D?line=7'>8</a>\u001b[0m     \u001b[39m# take details of this patient\u001b[39;00m\n\u001b[1;32m      <a href='vscode-notebook-cell:/home/kerry/Documents/GitHub/stroke_outcome_ml/xgb_7_features/210_xgb_all_data_7_features_multiclass_outcome.ipynb#X51sZmlsZQ%3D%3D?line=8'>9</a>\u001b[0m     df_patient_details \u001b[39m=\u001b[39m pd\u001b[39m.\u001b[39mDataFrame(columns\u001b[39m=\u001b[39m\u001b[39mlist\u001b[39m(df_patient_prototypes), index\u001b[39m=\u001b[39m\u001b[39mrange\u001b[39m(\u001b[39mlen\u001b[39m(list_get_treatment)))\n\u001b[1;32m     <a href='vscode-notebook-cell:/home/kerry/Documents/GitHub/stroke_outcome_ml/xgb_7_features/210_xgb_all_data_7_features_multiclass_outcome.ipynb#X51sZmlsZQ%3D%3D?line=10'>11</a>\u001b[0m     \u001b[39m# take exact copy of row\u001b[39;00m\n",
      "\u001b[0;31mNameError\u001b[0m: name 'n_patients' is not defined"
     ]
    }
   ],
   "source": [
    "list_get_treatment = [\"Treatment\",\"No treatment\"]\n",
    "list_onset_to_thrombolysis_time = [ott_default, -100]\n",
    "\n",
    "list_figures = []\n",
    "\n",
    "for patient_loc in range(n_patients):\n",
    "\n",
    "    # take details of this patient\n",
    "    df_patient_details = pd.DataFrame(columns=list(df_patient_prototypes), index=range(len(list_get_treatment)))\n",
    "\n",
    "    # take exact copy of row\n",
    "    df_patient_details.iloc[0] = df_patient_prototypes.iloc[0,:]\n",
    "    df_patient_details.iloc[1] = df_patient_prototypes.iloc[0,:]\n",
    "\n",
    "    # make first copy have, and the second copy not have thrombolysis treatment (either not get, or get at 2 hours)\n",
    "    df_patient_details[\"onset_to_thrombolysis_time\"] = list_onset_to_thrombolysis_time\n",
    "\n",
    "    df_patient_details = df_patient_details.astype('float')\n",
    "\n",
    "    y_probs = model.predict_proba(df_patient_details)\n",
    "    y_pred = model.predict(df_patient_details)\n",
    "\n",
    "    df_patient_mrs_results = pd.DataFrame(\n",
    "            data=y_probs, \n",
    "            columns=[\"mRS0\",\"mRS1\",\"mRS2\",\"mRS3\",\"mRS4\",\"mRS5\",\"mRS6\"], \n",
    "            index=[\"with\",\"without\"])\n",
    "\n",
    "    df_patient_mrs_results = df_patient_mrs_results.T\n",
    "\n",
    "    df_bar = create_df_for_bar_plot(df_patient_mrs_results)\n",
    "\n",
    "#    ax = fig.add_subplot(n_patients, 1, patient_loc + 1)\n",
    "    plotly_express_figure = px.bar(df_bar, x=\"Discharge disability\", y=\"Probability\", \n",
    "                color=\"Treatment\", barmode=\"group\")\n",
    "    \n",
    "    list_figures.append(plotly_express_figure)\n",
    "\n",
    "\n",
    "fig = make_subplots(rows=len(list_figures), cols=1) \n",
    "\n",
    "for i, figure in enumerate(list_figures):\n",
    "    for trace in range(len(figure[\"data\"])):\n",
    "        \n",
    "        fig.append_trace(figure[\"data\"][trace], row=i+1, col=1)\n",
    "\n",
    "fig.update_layout(\n",
    "    autosize=False,\n",
    "    width=800,\n",
    "    height=1600#,\n",
    "#            title=f\"{df_patient_prototypes.index.values[patient_loc]}\",\n",
    "#            xaxis_title=\"Discharge disability\",\n",
    "#            yaxis_title=\"Probability\",\n",
    "#            legend_title=\"Legend Title\",\n",
    "#            font=dict(\n",
    "#                family=\"Courier New, monospace\",\n",
    "#                size=18,\n",
    "#                color=\"RebeccaPurple\"\n",
    "#            )\n",
    ")\n",
    "#names = {'Plot 1':'2016', 'Plot 2':'2017', 'Plot 3':'2018', 'Plot 4':'2019'}\n",
    "\n",
    "#fig.for_each_annotation(lambda a: a.update(text = df_patient_prototypes.index.values[patient_loc]))\n",
    "         \n",
    "fig.show()\n",
    "\n",
    "#plot(fig)"
   ]
  },
  {
   "cell_type": "markdown",
   "metadata": {},
   "source": [
    "##### CELLS BELOW ARE CREATING A SINGLE FIGURE TO EXPERIMENT WITH THE PARAMETERS TO MAKE THE ABOVE SUBPLOT VERSION LOOK HOW WE WANT.\n",
    "\n",
    "TO DO: \n",
    "1. Legend only have 1 entry per colour\n",
    "1. Titles of the patient type for each subplot\n",
    "1. X and Y axis labels"
   ]
  },
  {
   "cell_type": "code",
   "execution_count": null,
   "metadata": {},
   "outputs": [
    {
     "data": {
      "text/html": [
       "<div>\n",
       "<style scoped>\n",
       "    .dataframe tbody tr th:only-of-type {\n",
       "        vertical-align: middle;\n",
       "    }\n",
       "\n",
       "    .dataframe tbody tr th {\n",
       "        vertical-align: top;\n",
       "    }\n",
       "\n",
       "    .dataframe thead th {\n",
       "        text-align: right;\n",
       "    }\n",
       "</style>\n",
       "<table border=\"1\" class=\"dataframe\">\n",
       "  <thead>\n",
       "    <tr style=\"text-align: right;\">\n",
       "      <th></th>\n",
       "      <th>prior_disability</th>\n",
       "      <th>stroke_severity</th>\n",
       "      <th>age</th>\n",
       "      <th>onset_to_thrombolysis_time</th>\n",
       "      <th>any_afib_diagnosis</th>\n",
       "      <th>precise_onset_known</th>\n",
       "      <th>team_Addenbrooke's Hospital</th>\n",
       "      <th>team_Basildon University Hospital</th>\n",
       "      <th>team_Blackpool Victoria Hospital</th>\n",
       "      <th>team_Bradford and Airedale SU</th>\n",
       "      <th>...</th>\n",
       "      <th>team_Whiston Hospital HASU</th>\n",
       "      <th>team_William Harvey Hospital</th>\n",
       "      <th>team_Wirral Arrowe Park Hospital</th>\n",
       "      <th>team_Withybush General Hospital</th>\n",
       "      <th>team_Worcestershire Royal Hospital</th>\n",
       "      <th>team_Worthing Hospital</th>\n",
       "      <th>team_Wycombe General Hospital</th>\n",
       "      <th>team_Yeovil District Hospital</th>\n",
       "      <th>team_York Hospital</th>\n",
       "      <th>team_Ysbyty Gwynedd</th>\n",
       "    </tr>\n",
       "  </thead>\n",
       "  <tbody>\n",
       "    <tr>\n",
       "      <th>0</th>\n",
       "      <td>1.0</td>\n",
       "      <td>15.0</td>\n",
       "      <td>72.5</td>\n",
       "      <td>120.0</td>\n",
       "      <td>0.0</td>\n",
       "      <td>1.0</td>\n",
       "      <td>0.0</td>\n",
       "      <td>0.0</td>\n",
       "      <td>0.0</td>\n",
       "      <td>0.0</td>\n",
       "      <td>...</td>\n",
       "      <td>0.0</td>\n",
       "      <td>0.0</td>\n",
       "      <td>0.0</td>\n",
       "      <td>0.0</td>\n",
       "      <td>0.0</td>\n",
       "      <td>0.0</td>\n",
       "      <td>0.0</td>\n",
       "      <td>0.0</td>\n",
       "      <td>0.0</td>\n",
       "      <td>0.0</td>\n",
       "    </tr>\n",
       "    <tr>\n",
       "      <th>1</th>\n",
       "      <td>1.0</td>\n",
       "      <td>15.0</td>\n",
       "      <td>72.5</td>\n",
       "      <td>-100.0</td>\n",
       "      <td>0.0</td>\n",
       "      <td>1.0</td>\n",
       "      <td>0.0</td>\n",
       "      <td>0.0</td>\n",
       "      <td>0.0</td>\n",
       "      <td>0.0</td>\n",
       "      <td>...</td>\n",
       "      <td>0.0</td>\n",
       "      <td>0.0</td>\n",
       "      <td>0.0</td>\n",
       "      <td>0.0</td>\n",
       "      <td>0.0</td>\n",
       "      <td>0.0</td>\n",
       "      <td>0.0</td>\n",
       "      <td>0.0</td>\n",
       "      <td>0.0</td>\n",
       "      <td>0.0</td>\n",
       "    </tr>\n",
       "  </tbody>\n",
       "</table>\n",
       "<p>2 rows × 124 columns</p>\n",
       "</div>"
      ],
      "text/plain": [
       "   prior_disability  stroke_severity   age  onset_to_thrombolysis_time  \\\n",
       "0               1.0             15.0  72.5                       120.0   \n",
       "1               1.0             15.0  72.5                      -100.0   \n",
       "\n",
       "   any_afib_diagnosis  precise_onset_known  team_Addenbrooke's Hospital  \\\n",
       "0                 0.0                  1.0                          0.0   \n",
       "1                 0.0                  1.0                          0.0   \n",
       "\n",
       "   team_Basildon University Hospital  team_Blackpool Victoria Hospital  \\\n",
       "0                                0.0                               0.0   \n",
       "1                                0.0                               0.0   \n",
       "\n",
       "   team_Bradford and Airedale SU  ...  team_Whiston Hospital HASU  \\\n",
       "0                            0.0  ...                         0.0   \n",
       "1                            0.0  ...                         0.0   \n",
       "\n",
       "   team_William Harvey Hospital  team_Wirral Arrowe Park Hospital  \\\n",
       "0                           0.0                               0.0   \n",
       "1                           0.0                               0.0   \n",
       "\n",
       "   team_Withybush General Hospital  team_Worcestershire Royal Hospital  \\\n",
       "0                              0.0                                 0.0   \n",
       "1                              0.0                                 0.0   \n",
       "\n",
       "   team_Worthing Hospital  team_Wycombe General Hospital  \\\n",
       "0                     0.0                            0.0   \n",
       "1                     0.0                            0.0   \n",
       "\n",
       "   team_Yeovil District Hospital  team_York Hospital  team_Ysbyty Gwynedd  \n",
       "0                            0.0                 0.0                  0.0  \n",
       "1                            0.0                 0.0                  0.0  \n",
       "\n",
       "[2 rows x 124 columns]"
      ]
     },
     "execution_count": 18,
     "metadata": {},
     "output_type": "execute_result"
    }
   ],
   "source": [
    "list_get_treatment = [\"Treatment\",\"No treatment\"]\n",
    "list_onset_to_thrombolysis_time = [ott_default, -100]\n",
    "\n",
    "# take details of this patient\n",
    "df_patient_details = pd.DataFrame(columns=list(df_patient_prototypes), index=range(len(list_get_treatment)))\n",
    "\n",
    "# take exact copy of row\n",
    "df_patient_details.iloc[0] = df_patient_prototypes.iloc[0,:]\n",
    "df_patient_details.iloc[1] = df_patient_prototypes.iloc[0,:]\n",
    "\n",
    "# make first copy have, and the second copy not have thrombolysis treatment (either not get, or get at 2 hours)\n",
    "df_patient_details[\"onset_to_thrombolysis_time\"] = list_onset_to_thrombolysis_time\n",
    "\n",
    "df_patient_details = df_patient_details.astype('float')\n",
    "\n",
    "df_patient_details\n"
   ]
  },
  {
   "cell_type": "code",
   "execution_count": null,
   "metadata": {},
   "outputs": [],
   "source": [
    "y_probs = model.predict_proba(df_patient_details)\n",
    "y_pred = model.predict(df_patient_details)"
   ]
  },
  {
   "cell_type": "code",
   "execution_count": null,
   "metadata": {},
   "outputs": [],
   "source": [
    "df_patient_mrs_results = pd.DataFrame(\n",
    "            data=y_probs, \n",
    "            columns=[\"mRS0\",\"mRS1\",\"mRS2\",\"mRS3\",\"mRS4\",\"mRS5\",\"mRS6\"], \n",
    "            index=[\"with\",\"without\"])"
   ]
  },
  {
   "cell_type": "code",
   "execution_count": null,
   "metadata": {},
   "outputs": [
    {
     "data": {
      "text/html": [
       "<div>\n",
       "<style scoped>\n",
       "    .dataframe tbody tr th:only-of-type {\n",
       "        vertical-align: middle;\n",
       "    }\n",
       "\n",
       "    .dataframe tbody tr th {\n",
       "        vertical-align: top;\n",
       "    }\n",
       "\n",
       "    .dataframe thead th {\n",
       "        text-align: right;\n",
       "    }\n",
       "</style>\n",
       "<table border=\"1\" class=\"dataframe\">\n",
       "  <thead>\n",
       "    <tr style=\"text-align: right;\">\n",
       "      <th></th>\n",
       "      <th>with</th>\n",
       "      <th>without</th>\n",
       "    </tr>\n",
       "  </thead>\n",
       "  <tbody>\n",
       "    <tr>\n",
       "      <th>mRS0</th>\n",
       "      <td>0.032079</td>\n",
       "      <td>0.017062</td>\n",
       "    </tr>\n",
       "    <tr>\n",
       "      <th>mRS1</th>\n",
       "      <td>0.268353</td>\n",
       "      <td>0.121959</td>\n",
       "    </tr>\n",
       "    <tr>\n",
       "      <th>mRS2</th>\n",
       "      <td>0.186990</td>\n",
       "      <td>0.103199</td>\n",
       "    </tr>\n",
       "    <tr>\n",
       "      <th>mRS3</th>\n",
       "      <td>0.171434</td>\n",
       "      <td>0.207001</td>\n",
       "    </tr>\n",
       "    <tr>\n",
       "      <th>mRS4</th>\n",
       "      <td>0.167983</td>\n",
       "      <td>0.178976</td>\n",
       "    </tr>\n",
       "    <tr>\n",
       "      <th>mRS5</th>\n",
       "      <td>0.045064</td>\n",
       "      <td>0.180161</td>\n",
       "    </tr>\n",
       "    <tr>\n",
       "      <th>mRS6</th>\n",
       "      <td>0.128096</td>\n",
       "      <td>0.191642</td>\n",
       "    </tr>\n",
       "  </tbody>\n",
       "</table>\n",
       "</div>"
      ],
      "text/plain": [
       "          with   without\n",
       "mRS0  0.032079  0.017062\n",
       "mRS1  0.268353  0.121959\n",
       "mRS2  0.186990  0.103199\n",
       "mRS3  0.171434  0.207001\n",
       "mRS4  0.167983  0.178976\n",
       "mRS5  0.045064  0.180161\n",
       "mRS6  0.128096  0.191642"
      ]
     },
     "execution_count": 21,
     "metadata": {},
     "output_type": "execute_result"
    }
   ],
   "source": [
    "df_patient_mrs_results = df_patient_mrs_results.T\n",
    "df_patient_mrs_results"
   ]
  },
  {
   "cell_type": "code",
   "execution_count": null,
   "metadata": {},
   "outputs": [
    {
     "data": {
      "text/html": [
       "<div>\n",
       "<style scoped>\n",
       "    .dataframe tbody tr th:only-of-type {\n",
       "        vertical-align: middle;\n",
       "    }\n",
       "\n",
       "    .dataframe tbody tr th {\n",
       "        vertical-align: top;\n",
       "    }\n",
       "\n",
       "    .dataframe thead th {\n",
       "        text-align: right;\n",
       "    }\n",
       "</style>\n",
       "<table border=\"1\" class=\"dataframe\">\n",
       "  <thead>\n",
       "    <tr style=\"text-align: right;\">\n",
       "      <th></th>\n",
       "      <th>Treatment</th>\n",
       "      <th>Discharge disability</th>\n",
       "      <th>Probability</th>\n",
       "    </tr>\n",
       "  </thead>\n",
       "  <tbody>\n",
       "    <tr>\n",
       "      <th>0</th>\n",
       "      <td>Treatment</td>\n",
       "      <td>mRS0</td>\n",
       "      <td>0.032079</td>\n",
       "    </tr>\n",
       "    <tr>\n",
       "      <th>1</th>\n",
       "      <td>Treatment</td>\n",
       "      <td>mRS1</td>\n",
       "      <td>0.268353</td>\n",
       "    </tr>\n",
       "    <tr>\n",
       "      <th>2</th>\n",
       "      <td>Treatment</td>\n",
       "      <td>mRS2</td>\n",
       "      <td>0.186990</td>\n",
       "    </tr>\n",
       "    <tr>\n",
       "      <th>3</th>\n",
       "      <td>Treatment</td>\n",
       "      <td>mRS3</td>\n",
       "      <td>0.171434</td>\n",
       "    </tr>\n",
       "    <tr>\n",
       "      <th>4</th>\n",
       "      <td>Treatment</td>\n",
       "      <td>mRS4</td>\n",
       "      <td>0.167983</td>\n",
       "    </tr>\n",
       "    <tr>\n",
       "      <th>5</th>\n",
       "      <td>Treatment</td>\n",
       "      <td>mRS5</td>\n",
       "      <td>0.045064</td>\n",
       "    </tr>\n",
       "    <tr>\n",
       "      <th>6</th>\n",
       "      <td>Treatment</td>\n",
       "      <td>mRS6</td>\n",
       "      <td>0.128096</td>\n",
       "    </tr>\n",
       "    <tr>\n",
       "      <th>7</th>\n",
       "      <td>No treatment</td>\n",
       "      <td>mRS0</td>\n",
       "      <td>0.017062</td>\n",
       "    </tr>\n",
       "    <tr>\n",
       "      <th>8</th>\n",
       "      <td>No treatment</td>\n",
       "      <td>mRS1</td>\n",
       "      <td>0.121959</td>\n",
       "    </tr>\n",
       "    <tr>\n",
       "      <th>9</th>\n",
       "      <td>No treatment</td>\n",
       "      <td>mRS2</td>\n",
       "      <td>0.103199</td>\n",
       "    </tr>\n",
       "    <tr>\n",
       "      <th>10</th>\n",
       "      <td>No treatment</td>\n",
       "      <td>mRS3</td>\n",
       "      <td>0.207001</td>\n",
       "    </tr>\n",
       "    <tr>\n",
       "      <th>11</th>\n",
       "      <td>No treatment</td>\n",
       "      <td>mRS4</td>\n",
       "      <td>0.178976</td>\n",
       "    </tr>\n",
       "    <tr>\n",
       "      <th>12</th>\n",
       "      <td>No treatment</td>\n",
       "      <td>mRS5</td>\n",
       "      <td>0.180161</td>\n",
       "    </tr>\n",
       "    <tr>\n",
       "      <th>13</th>\n",
       "      <td>No treatment</td>\n",
       "      <td>mRS6</td>\n",
       "      <td>0.191642</td>\n",
       "    </tr>\n",
       "  </tbody>\n",
       "</table>\n",
       "</div>"
      ],
      "text/plain": [
       "       Treatment Discharge disability  Probability\n",
       "0      Treatment                 mRS0     0.032079\n",
       "1      Treatment                 mRS1     0.268353\n",
       "2      Treatment                 mRS2     0.186990\n",
       "3      Treatment                 mRS3     0.171434\n",
       "4      Treatment                 mRS4     0.167983\n",
       "5      Treatment                 mRS5     0.045064\n",
       "6      Treatment                 mRS6     0.128096\n",
       "7   No treatment                 mRS0     0.017062\n",
       "8   No treatment                 mRS1     0.121959\n",
       "9   No treatment                 mRS2     0.103199\n",
       "10  No treatment                 mRS3     0.207001\n",
       "11  No treatment                 mRS4     0.178976\n",
       "12  No treatment                 mRS5     0.180161\n",
       "13  No treatment                 mRS6     0.191642"
      ]
     },
     "execution_count": 22,
     "metadata": {},
     "output_type": "execute_result"
    }
   ],
   "source": [
    "df_bar = create_df_for_bar_plot(df_patient_mrs_results)\n",
    "df_bar"
   ]
  },
  {
   "cell_type": "code",
   "execution_count": null,
   "metadata": {},
   "outputs": [
    {
     "data": {
      "application/vnd.plotly.v1+json": {
       "config": {
        "plotlyServerURL": "https://plot.ly"
       },
       "data": [
        {
         "alignmentgroup": "True",
         "hovertemplate": "Treatment=Treatment<br>Discharge disability=%{x}<br>Probability=%{y}<extra></extra>",
         "legendgroup": "Treatment",
         "marker": {
          "color": "#636efa",
          "pattern": {
           "shape": ""
          }
         },
         "name": "Treatment",
         "offsetgroup": "Treatment",
         "orientation": "v",
         "showlegend": true,
         "textposition": "auto",
         "type": "bar",
         "x": [
          "mRS0",
          "mRS1",
          "mRS2",
          "mRS3",
          "mRS4",
          "mRS5",
          "mRS6"
         ],
         "xaxis": "x",
         "y": [
          0.032078612595796585,
          0.2683531939983368,
          0.18699011206626892,
          0.17143449187278748,
          0.1679832637310028,
          0.04506421834230423,
          0.1280960738658905
         ],
         "yaxis": "y"
        },
        {
         "alignmentgroup": "True",
         "hovertemplate": "Treatment=No treatment<br>Discharge disability=%{x}<br>Probability=%{y}<extra></extra>",
         "legendgroup": "No treatment",
         "marker": {
          "color": "#EF553B",
          "pattern": {
           "shape": ""
          }
         },
         "name": "No treatment",
         "offsetgroup": "No treatment",
         "orientation": "v",
         "showlegend": true,
         "textposition": "auto",
         "type": "bar",
         "x": [
          "mRS0",
          "mRS1",
          "mRS2",
          "mRS3",
          "mRS4",
          "mRS5",
          "mRS6"
         ],
         "xaxis": "x",
         "y": [
          0.017061864957213402,
          0.12195912003517151,
          0.10319898277521133,
          0.20700104534626007,
          0.17897619307041168,
          0.1801612228155136,
          0.19164156913757324
         ],
         "yaxis": "y"
        }
       ],
       "layout": {
        "barmode": "group",
        "legend": {
         "title": {
          "text": "Treatment"
         },
         "tracegroupgap": 0
        },
        "margin": {
         "t": 60
        },
        "template": {
         "data": {
          "bar": [
           {
            "error_x": {
             "color": "#2a3f5f"
            },
            "error_y": {
             "color": "#2a3f5f"
            },
            "marker": {
             "line": {
              "color": "#E5ECF6",
              "width": 0.5
             },
             "pattern": {
              "fillmode": "overlay",
              "size": 10,
              "solidity": 0.2
             }
            },
            "type": "bar"
           }
          ],
          "barpolar": [
           {
            "marker": {
             "line": {
              "color": "#E5ECF6",
              "width": 0.5
             },
             "pattern": {
              "fillmode": "overlay",
              "size": 10,
              "solidity": 0.2
             }
            },
            "type": "barpolar"
           }
          ],
          "carpet": [
           {
            "aaxis": {
             "endlinecolor": "#2a3f5f",
             "gridcolor": "white",
             "linecolor": "white",
             "minorgridcolor": "white",
             "startlinecolor": "#2a3f5f"
            },
            "baxis": {
             "endlinecolor": "#2a3f5f",
             "gridcolor": "white",
             "linecolor": "white",
             "minorgridcolor": "white",
             "startlinecolor": "#2a3f5f"
            },
            "type": "carpet"
           }
          ],
          "choropleth": [
           {
            "colorbar": {
             "outlinewidth": 0,
             "ticks": ""
            },
            "type": "choropleth"
           }
          ],
          "contour": [
           {
            "colorbar": {
             "outlinewidth": 0,
             "ticks": ""
            },
            "colorscale": [
             [
              0,
              "#0d0887"
             ],
             [
              0.1111111111111111,
              "#46039f"
             ],
             [
              0.2222222222222222,
              "#7201a8"
             ],
             [
              0.3333333333333333,
              "#9c179e"
             ],
             [
              0.4444444444444444,
              "#bd3786"
             ],
             [
              0.5555555555555556,
              "#d8576b"
             ],
             [
              0.6666666666666666,
              "#ed7953"
             ],
             [
              0.7777777777777778,
              "#fb9f3a"
             ],
             [
              0.8888888888888888,
              "#fdca26"
             ],
             [
              1,
              "#f0f921"
             ]
            ],
            "type": "contour"
           }
          ],
          "contourcarpet": [
           {
            "colorbar": {
             "outlinewidth": 0,
             "ticks": ""
            },
            "type": "contourcarpet"
           }
          ],
          "heatmap": [
           {
            "colorbar": {
             "outlinewidth": 0,
             "ticks": ""
            },
            "colorscale": [
             [
              0,
              "#0d0887"
             ],
             [
              0.1111111111111111,
              "#46039f"
             ],
             [
              0.2222222222222222,
              "#7201a8"
             ],
             [
              0.3333333333333333,
              "#9c179e"
             ],
             [
              0.4444444444444444,
              "#bd3786"
             ],
             [
              0.5555555555555556,
              "#d8576b"
             ],
             [
              0.6666666666666666,
              "#ed7953"
             ],
             [
              0.7777777777777778,
              "#fb9f3a"
             ],
             [
              0.8888888888888888,
              "#fdca26"
             ],
             [
              1,
              "#f0f921"
             ]
            ],
            "type": "heatmap"
           }
          ],
          "heatmapgl": [
           {
            "colorbar": {
             "outlinewidth": 0,
             "ticks": ""
            },
            "colorscale": [
             [
              0,
              "#0d0887"
             ],
             [
              0.1111111111111111,
              "#46039f"
             ],
             [
              0.2222222222222222,
              "#7201a8"
             ],
             [
              0.3333333333333333,
              "#9c179e"
             ],
             [
              0.4444444444444444,
              "#bd3786"
             ],
             [
              0.5555555555555556,
              "#d8576b"
             ],
             [
              0.6666666666666666,
              "#ed7953"
             ],
             [
              0.7777777777777778,
              "#fb9f3a"
             ],
             [
              0.8888888888888888,
              "#fdca26"
             ],
             [
              1,
              "#f0f921"
             ]
            ],
            "type": "heatmapgl"
           }
          ],
          "histogram": [
           {
            "marker": {
             "pattern": {
              "fillmode": "overlay",
              "size": 10,
              "solidity": 0.2
             }
            },
            "type": "histogram"
           }
          ],
          "histogram2d": [
           {
            "colorbar": {
             "outlinewidth": 0,
             "ticks": ""
            },
            "colorscale": [
             [
              0,
              "#0d0887"
             ],
             [
              0.1111111111111111,
              "#46039f"
             ],
             [
              0.2222222222222222,
              "#7201a8"
             ],
             [
              0.3333333333333333,
              "#9c179e"
             ],
             [
              0.4444444444444444,
              "#bd3786"
             ],
             [
              0.5555555555555556,
              "#d8576b"
             ],
             [
              0.6666666666666666,
              "#ed7953"
             ],
             [
              0.7777777777777778,
              "#fb9f3a"
             ],
             [
              0.8888888888888888,
              "#fdca26"
             ],
             [
              1,
              "#f0f921"
             ]
            ],
            "type": "histogram2d"
           }
          ],
          "histogram2dcontour": [
           {
            "colorbar": {
             "outlinewidth": 0,
             "ticks": ""
            },
            "colorscale": [
             [
              0,
              "#0d0887"
             ],
             [
              0.1111111111111111,
              "#46039f"
             ],
             [
              0.2222222222222222,
              "#7201a8"
             ],
             [
              0.3333333333333333,
              "#9c179e"
             ],
             [
              0.4444444444444444,
              "#bd3786"
             ],
             [
              0.5555555555555556,
              "#d8576b"
             ],
             [
              0.6666666666666666,
              "#ed7953"
             ],
             [
              0.7777777777777778,
              "#fb9f3a"
             ],
             [
              0.8888888888888888,
              "#fdca26"
             ],
             [
              1,
              "#f0f921"
             ]
            ],
            "type": "histogram2dcontour"
           }
          ],
          "mesh3d": [
           {
            "colorbar": {
             "outlinewidth": 0,
             "ticks": ""
            },
            "type": "mesh3d"
           }
          ],
          "parcoords": [
           {
            "line": {
             "colorbar": {
              "outlinewidth": 0,
              "ticks": ""
             }
            },
            "type": "parcoords"
           }
          ],
          "pie": [
           {
            "automargin": true,
            "type": "pie"
           }
          ],
          "scatter": [
           {
            "fillpattern": {
             "fillmode": "overlay",
             "size": 10,
             "solidity": 0.2
            },
            "type": "scatter"
           }
          ],
          "scatter3d": [
           {
            "line": {
             "colorbar": {
              "outlinewidth": 0,
              "ticks": ""
             }
            },
            "marker": {
             "colorbar": {
              "outlinewidth": 0,
              "ticks": ""
             }
            },
            "type": "scatter3d"
           }
          ],
          "scattercarpet": [
           {
            "marker": {
             "colorbar": {
              "outlinewidth": 0,
              "ticks": ""
             }
            },
            "type": "scattercarpet"
           }
          ],
          "scattergeo": [
           {
            "marker": {
             "colorbar": {
              "outlinewidth": 0,
              "ticks": ""
             }
            },
            "type": "scattergeo"
           }
          ],
          "scattergl": [
           {
            "marker": {
             "colorbar": {
              "outlinewidth": 0,
              "ticks": ""
             }
            },
            "type": "scattergl"
           }
          ],
          "scattermapbox": [
           {
            "marker": {
             "colorbar": {
              "outlinewidth": 0,
              "ticks": ""
             }
            },
            "type": "scattermapbox"
           }
          ],
          "scatterpolar": [
           {
            "marker": {
             "colorbar": {
              "outlinewidth": 0,
              "ticks": ""
             }
            },
            "type": "scatterpolar"
           }
          ],
          "scatterpolargl": [
           {
            "marker": {
             "colorbar": {
              "outlinewidth": 0,
              "ticks": ""
             }
            },
            "type": "scatterpolargl"
           }
          ],
          "scatterternary": [
           {
            "marker": {
             "colorbar": {
              "outlinewidth": 0,
              "ticks": ""
             }
            },
            "type": "scatterternary"
           }
          ],
          "surface": [
           {
            "colorbar": {
             "outlinewidth": 0,
             "ticks": ""
            },
            "colorscale": [
             [
              0,
              "#0d0887"
             ],
             [
              0.1111111111111111,
              "#46039f"
             ],
             [
              0.2222222222222222,
              "#7201a8"
             ],
             [
              0.3333333333333333,
              "#9c179e"
             ],
             [
              0.4444444444444444,
              "#bd3786"
             ],
             [
              0.5555555555555556,
              "#d8576b"
             ],
             [
              0.6666666666666666,
              "#ed7953"
             ],
             [
              0.7777777777777778,
              "#fb9f3a"
             ],
             [
              0.8888888888888888,
              "#fdca26"
             ],
             [
              1,
              "#f0f921"
             ]
            ],
            "type": "surface"
           }
          ],
          "table": [
           {
            "cells": {
             "fill": {
              "color": "#EBF0F8"
             },
             "line": {
              "color": "white"
             }
            },
            "header": {
             "fill": {
              "color": "#C8D4E3"
             },
             "line": {
              "color": "white"
             }
            },
            "type": "table"
           }
          ]
         },
         "layout": {
          "annotationdefaults": {
           "arrowcolor": "#2a3f5f",
           "arrowhead": 0,
           "arrowwidth": 1
          },
          "autotypenumbers": "strict",
          "coloraxis": {
           "colorbar": {
            "outlinewidth": 0,
            "ticks": ""
           }
          },
          "colorscale": {
           "diverging": [
            [
             0,
             "#8e0152"
            ],
            [
             0.1,
             "#c51b7d"
            ],
            [
             0.2,
             "#de77ae"
            ],
            [
             0.3,
             "#f1b6da"
            ],
            [
             0.4,
             "#fde0ef"
            ],
            [
             0.5,
             "#f7f7f7"
            ],
            [
             0.6,
             "#e6f5d0"
            ],
            [
             0.7,
             "#b8e186"
            ],
            [
             0.8,
             "#7fbc41"
            ],
            [
             0.9,
             "#4d9221"
            ],
            [
             1,
             "#276419"
            ]
           ],
           "sequential": [
            [
             0,
             "#0d0887"
            ],
            [
             0.1111111111111111,
             "#46039f"
            ],
            [
             0.2222222222222222,
             "#7201a8"
            ],
            [
             0.3333333333333333,
             "#9c179e"
            ],
            [
             0.4444444444444444,
             "#bd3786"
            ],
            [
             0.5555555555555556,
             "#d8576b"
            ],
            [
             0.6666666666666666,
             "#ed7953"
            ],
            [
             0.7777777777777778,
             "#fb9f3a"
            ],
            [
             0.8888888888888888,
             "#fdca26"
            ],
            [
             1,
             "#f0f921"
            ]
           ],
           "sequentialminus": [
            [
             0,
             "#0d0887"
            ],
            [
             0.1111111111111111,
             "#46039f"
            ],
            [
             0.2222222222222222,
             "#7201a8"
            ],
            [
             0.3333333333333333,
             "#9c179e"
            ],
            [
             0.4444444444444444,
             "#bd3786"
            ],
            [
             0.5555555555555556,
             "#d8576b"
            ],
            [
             0.6666666666666666,
             "#ed7953"
            ],
            [
             0.7777777777777778,
             "#fb9f3a"
            ],
            [
             0.8888888888888888,
             "#fdca26"
            ],
            [
             1,
             "#f0f921"
            ]
           ]
          },
          "colorway": [
           "#636efa",
           "#EF553B",
           "#00cc96",
           "#ab63fa",
           "#FFA15A",
           "#19d3f3",
           "#FF6692",
           "#B6E880",
           "#FF97FF",
           "#FECB52"
          ],
          "font": {
           "color": "#2a3f5f"
          },
          "geo": {
           "bgcolor": "white",
           "lakecolor": "white",
           "landcolor": "#E5ECF6",
           "showlakes": true,
           "showland": true,
           "subunitcolor": "white"
          },
          "hoverlabel": {
           "align": "left"
          },
          "hovermode": "closest",
          "mapbox": {
           "style": "light"
          },
          "paper_bgcolor": "white",
          "plot_bgcolor": "#E5ECF6",
          "polar": {
           "angularaxis": {
            "gridcolor": "white",
            "linecolor": "white",
            "ticks": ""
           },
           "bgcolor": "#E5ECF6",
           "radialaxis": {
            "gridcolor": "white",
            "linecolor": "white",
            "ticks": ""
           }
          },
          "scene": {
           "xaxis": {
            "backgroundcolor": "#E5ECF6",
            "gridcolor": "white",
            "gridwidth": 2,
            "linecolor": "white",
            "showbackground": true,
            "ticks": "",
            "zerolinecolor": "white"
           },
           "yaxis": {
            "backgroundcolor": "#E5ECF6",
            "gridcolor": "white",
            "gridwidth": 2,
            "linecolor": "white",
            "showbackground": true,
            "ticks": "",
            "zerolinecolor": "white"
           },
           "zaxis": {
            "backgroundcolor": "#E5ECF6",
            "gridcolor": "white",
            "gridwidth": 2,
            "linecolor": "white",
            "showbackground": true,
            "ticks": "",
            "zerolinecolor": "white"
           }
          },
          "shapedefaults": {
           "line": {
            "color": "#2a3f5f"
           }
          },
          "ternary": {
           "aaxis": {
            "gridcolor": "white",
            "linecolor": "white",
            "ticks": ""
           },
           "baxis": {
            "gridcolor": "white",
            "linecolor": "white",
            "ticks": ""
           },
           "bgcolor": "#E5ECF6",
           "caxis": {
            "gridcolor": "white",
            "linecolor": "white",
            "ticks": ""
           }
          },
          "title": {
           "x": 0.05
          },
          "xaxis": {
           "automargin": true,
           "gridcolor": "white",
           "linecolor": "white",
           "ticks": "",
           "title": {
            "standoff": 15
           },
           "zerolinecolor": "white",
           "zerolinewidth": 2
          },
          "yaxis": {
           "automargin": true,
           "gridcolor": "white",
           "linecolor": "white",
           "ticks": "",
           "title": {
            "standoff": 15
           },
           "zerolinecolor": "white",
           "zerolinewidth": 2
          }
         }
        },
        "xaxis": {
         "anchor": "y",
         "domain": [
          0,
          1
         ],
         "title": {
          "text": "Discharge disability"
         }
        },
        "yaxis": {
         "anchor": "x",
         "domain": [
          0,
          1
         ],
         "title": {
          "text": "Probability"
         }
        }
       }
      }
     },
     "metadata": {},
     "output_type": "display_data"
    }
   ],
   "source": [
    "px.bar(df_bar, x=\"Discharge disability\", y=\"Probability\", \n",
    "                color=\"Treatment\", barmode=\"group\")# title=f\"{df_patient_details.index.value}\")"
   ]
  }
 ],
 "metadata": {
  "kernelspec": {
   "display_name": "Python 3.10.11 ('sam10')",
   "language": "python",
   "name": "python3"
  },
  "language_info": {
   "codemirror_mode": {
    "name": "ipython",
    "version": 3
   },
   "file_extension": ".py",
   "mimetype": "text/x-python",
   "name": "python",
   "nbconvert_exporter": "python",
   "pygments_lexer": "ipython3",
   "version": "3.10.12"
  },
  "orig_nbformat": 4,
  "vscode": {
   "interpreter": {
    "hash": "f85b883bff9a8a9f39576b94acbdf6672b3dc17c35647e7395f81e785740a4b3"
   }
  }
 },
 "nbformat": 4,
 "nbformat_minor": 2
}
