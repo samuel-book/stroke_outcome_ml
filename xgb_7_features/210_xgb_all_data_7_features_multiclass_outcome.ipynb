{
 "cells": [
  {
   "attachments": {},
   "cell_type": "markdown",
   "metadata": {},
   "source": [
    "# XGBoost models informed by feature selection analysis (using all data)\n",
    "\n",
    "### Plain English summary\n",
    "\n",
    "Use a model equivalent to the one trained in notebook 040 (but for this one use all data to train the model, and no test set) to calculate the multiclass mRS distributions (individual mRS + cumulative distributions + weighted mRS) for all of the patients in the population with/without thrombolysis (Assume no-one on AFIb anticoagulant would receive thrombolysis - so remove these from the population and report the number removed).\n",
    "\n",
    "The model includes 7 features: [\"prior_disability\", \"stroke_severity\", \"stroke_team\", \"age\", \"onset-to-thrombolysis-time\", \"any_afib_diagnosis\", \"precise_onset_known\"]\n",
    "\n",
    "How would outcomes compare using:\n",
    "1. actual decision made\n",
    "1. benchmark\n",
    "1. 'best outcome'\n",
    "\n",
    "### Model and data\n",
    "XGBoost\\\n",
    "7 features: [\"prior_disability\", \"stroke_severity\", \"stroke_team\", \"age\", \"onset-to-thrombolysis-time\", \"any_afib_diagnosis\", \"precise_onset_known\"]\\\n",
    "All data (not use kfolds)\n",
    "\n",
    "### Aims\n",
    "\n",
    "### Observations\n",
    "\n",
    "\n",
    "#### Further work\n",
    "\n",
    "#### Resources\n",
    "pip install plotly\n",
    "pip install dash"
   ]
  },
  {
   "attachments": {},
   "cell_type": "markdown",
   "metadata": {},
   "source": [
    "## Import libraries"
   ]
  },
  {
   "cell_type": "code",
   "execution_count": 1,
   "metadata": {},
   "outputs": [],
   "source": [
    "# Turn warnings off to keep notebook tidy\n",
    "import warnings\n",
    "warnings.filterwarnings(\"ignore\")\n",
    "\n",
    "import os\n",
    "import matplotlib.pyplot as plt\n",
    "from matplotlib.lines import Line2D\n",
    "import numpy as np\n",
    "import pandas as pd\n",
    "#import plotly.express as px\n",
    "\n",
    "import scipy\n",
    "\n",
    "from xgboost import XGBClassifier\n",
    "from sklearn.metrics import auc\n",
    "from sklearn.metrics import roc_curve\n",
    "\n",
    "import json\n",
    "\n",
    "from dataclasses import dataclass\n",
    "\n",
    "import seaborn as sns\n",
    "\n",
    "from sklearn.metrics import roc_auc_score\n",
    "\n",
    "from sklearn.metrics import confusion_matrix\n",
    "\n",
    "import pickle\n",
    "import shap\n",
    "\n",
    "from os.path import exists\n",
    "\n",
    "import math\n",
    "\n",
    "import importlib\n",
    "# Import local package\n",
    "#from utils import waterfall\n",
    "## Force package to be reloaded\n",
    "#importlib.reload(waterfall);\n",
    "\n",
    "# Need for cm subplots?\n",
    "#from mpl_toolkits.axes_grid1 import make_axes_locatable\n",
    "#from matplotlib.colors import LogNorm\n",
    "#from matplotlib.ticker import MultipleLocator\n",
    "\n",
    "#pip install category_encoders\n",
    "#import category_encoders as ce\n",
    "\n",
    "#import dash_core_components as dcc\n",
    "#from dash import dcc\n",
    "#import plotly.express as px\n",
    "#import plotly.subplots as sp\n",
    "#from plotly.offline import plot\n",
    "#from plotly.subplots import make_subplots\n",
    "\n",
    "import time"
   ]
  },
  {
   "attachments": {},
   "cell_type": "markdown",
   "metadata": {},
   "source": [
    "Report the time duration to run notebook"
   ]
  },
  {
   "cell_type": "code",
   "execution_count": 2,
   "metadata": {},
   "outputs": [],
   "source": [
    "start_time = time.time()"
   ]
  },
  {
   "cell_type": "code",
   "execution_count": 3,
   "metadata": {},
   "outputs": [],
   "source": [
    "# For those patients that do not get thrombolysis, the onset to thrombolysis time to calculate their outcome had they been given thrombolysis\n",
    "ott_default = 120\n",
    "scan_to_needle_time_default = 20"
   ]
  },
  {
   "cell_type": "markdown",
   "metadata": {},
   "source": [
    "Select the features for the model for disability discharge"
   ]
  },
  {
   "cell_type": "code",
   "execution_count": 4,
   "metadata": {},
   "outputs": [],
   "source": [
    "selected_features_mrs = [\"prior_disability\", \"stroke_severity\", \"stroke_team\", \n",
    "                     \"age\", \"onset_to_thrombolysis_time\", \"any_afib_diagnosis\", \n",
    "                     \"precise_onset_known\", \"discharge_disability\"]"
   ]
  },
  {
   "cell_type": "markdown",
   "metadata": {},
   "source": [
    "Select the features for the model for treatment"
   ]
  },
  {
   "cell_type": "code",
   "execution_count": 5,
   "metadata": {},
   "outputs": [],
   "source": [
    "selected_features_treatment = [\"prior_disability\", \"stroke_severity\", \n",
    "                     \"age\", \"arrival_to_scan_time\", \"precise_onset_known\", \n",
    "                     \"onset_to_arrival_time\",\"onset_during_sleep\", \n",
    "                     \"stroke_team\", \"S2Thrombolysis\"]"
   ]
  },
  {
   "cell_type": "markdown",
   "metadata": {},
   "source": [
    "Get union of both sets of features"
   ]
  },
  {
   "cell_type": "code",
   "execution_count": 6,
   "metadata": {},
   "outputs": [],
   "source": [
    "selected_features_set = list(set.union(set(selected_features_mrs), \n",
    "                                       set(selected_features_treatment)))"
   ]
  },
  {
   "attachments": {},
   "cell_type": "markdown",
   "metadata": {},
   "source": [
    "## Set up paths and filenames\n",
    "\n",
    "For consistency, the folders end with \"/\" and the text for filenames include no trailing \"_\"."
   ]
  },
  {
   "cell_type": "code",
   "execution_count": 7,
   "metadata": {},
   "outputs": [],
   "source": [
    "@dataclass(frozen=True)\n",
    "class Paths:\n",
    "    '''Singleton object for storing paths to data and database.'''\n",
    "    image_save_path: str = './saved_images'\n",
    "    model_save_path: str = './saved_models'\n",
    "    data_save_path: str = './saved_data'\n",
    "    data_read_path: str = '../data_processing/output'\n",
    "    model_text: str = 'xgb_all_data_multiclass_outcome'\n",
    "    notebook: str = '210_'\n",
    "\n",
    "paths = Paths()"
   ]
  },
  {
   "cell_type": "markdown",
   "metadata": {},
   "source": [
    "Create output folders if needed"
   ]
  },
  {
   "cell_type": "code",
   "execution_count": 8,
   "metadata": {},
   "outputs": [],
   "source": [
    "path = paths.image_save_path\n",
    "if not os.path.exists(path):\n",
    "    os.makedirs(path)\n",
    "        \n",
    "path = paths.model_save_path\n",
    "if not os.path.exists(path):\n",
    "    os.makedirs(path)\n",
    "\n",
    "path = paths.data_save_path\n",
    "if not os.path.exists(path):\n",
    "    os.makedirs(path)"
   ]
  },
  {
   "attachments": {},
   "cell_type": "markdown",
   "metadata": {},
   "source": [
    "## Import data\n",
    "\n",
    "Data has previously been split into 5 stratified k-fold splits."
   ]
  },
  {
   "cell_type": "code",
   "execution_count": 9,
   "metadata": {},
   "outputs": [],
   "source": [
    "# Read in training set, restrict to chosen features & store\n",
    "filename = os.path.join(paths.data_read_path, '02_reformatted_data_ml.csv')\n",
    "data = pd.read_csv(filename)"
   ]
  },
  {
   "cell_type": "markdown",
   "metadata": {},
   "source": [
    "Create new feature \"S2Thrombolysis\" from the surrogate \"scan_to_thrombolysis_time\""
   ]
  },
  {
   "cell_type": "code",
   "execution_count": 10,
   "metadata": {},
   "outputs": [],
   "source": [
    "data[\"S2Thrombolysis\"] = data[\"scan_to_thrombolysis_time\"] > -100"
   ]
  },
  {
   "cell_type": "markdown",
   "metadata": {},
   "source": [
    "Create new feature \"onset_to_scan_time\" for all patients (as then add 20mins to this to give the onset_to_thrombolysis_time for those that don't actually recieve thrombolysis)"
   ]
  },
  {
   "cell_type": "code",
   "execution_count": 11,
   "metadata": {},
   "outputs": [],
   "source": [
    "mask_no_treatment = data[\"S2Thrombolysis\"] == 0\n",
    "data[\"onset_to_scan_time\"] = data[\"onset_to_arrival_time\"] + data[\"arrival_to_scan_time\"]\n",
    "\n",
    "data[\"onset_to_thrombolysis_time_surrogate\"] = data[\"onset_to_thrombolysis_time\"].copy(deep=True)\n",
    "data[\"onset_to_thrombolysis_time_surrogate\"][mask_no_treatment] = data[\"onset_to_scan_time\"][mask_no_treatment] + scan_to_needle_time_default"
   ]
  },
  {
   "cell_type": "code",
   "execution_count": 12,
   "metadata": {},
   "outputs": [
    {
     "data": {
      "text/plain": [
       "(0.0, 5000.0)"
      ]
     },
     "execution_count": 12,
     "metadata": {},
     "output_type": "execute_result"
    },
    {
     "data": {
      "image/png": "[encoded data removed]",
      "text/plain": [
       "<Figure size 640x480 with 1 Axes>"
      ]
     },
     "metadata": {},
     "output_type": "display_data"
    }
   ],
   "source": [
    "plt.scatter(data[\"onset_to_thrombolysis_time_surrogate\"], data[\"onset_to_thrombolysis_time\"])\n",
    "plt.xlim(0,5000)"
   ]
  },
  {
   "cell_type": "markdown",
   "metadata": {},
   "source": [
    "Get data for both models"
   ]
  },
  {
   "cell_type": "code",
   "execution_count": 13,
   "metadata": {},
   "outputs": [],
   "source": [
    "data = data[selected_features_set]"
   ]
  },
  {
   "attachments": {},
   "cell_type": "markdown",
   "metadata": {},
   "source": [
    "### One hot the categorical features\n",
    "\n",
    "Convert some categorical features to one hot encoded features.\n",
    "\n",
    "Define a function"
   ]
  },
  {
   "cell_type": "code",
   "execution_count": 14,
   "metadata": {},
   "outputs": [],
   "source": [
    "def convert_feature_to_one_hot(df, feature_name, prefix):\n",
    "    \"\"\"\n",
    "    df [dataframe]: training or test dataset\n",
    "    feature_name [str]: feature to convert to ont hot encoding\n",
    "    prefix [str]: string to use on new feature\n",
    "    \"\"\"\n",
    "\n",
    "    # One hot encode a feature\n",
    "    df_feature = pd.get_dummies(\n",
    "        df[feature_name], prefix = prefix)\n",
    "    df = pd.concat([df, df_feature], axis=1)\n",
    "    df.drop(feature_name, axis=1, inplace=True)\n",
    "\n",
    "    return(df)"
   ]
  },
  {
   "attachments": {},
   "cell_type": "markdown",
   "metadata": {},
   "source": [
    "Set up two lists for the one hot encoding. \n",
    "\n",
    "A list of the feature names that are categorical and to be converted using one hot encoding.\n",
    "A list of the prefixes to use for these features."
   ]
  },
  {
   "cell_type": "code",
   "execution_count": 15,
   "metadata": {},
   "outputs": [],
   "source": [
    "features_to_one_hot = [\"stroke_team\", \"weekday\"]\n",
    "list_prefix = [\"team\", \"weekday\"]"
   ]
  },
  {
   "attachments": {},
   "cell_type": "markdown",
   "metadata": {},
   "source": [
    "For each feature in the list, for each train and test dataset, convert to one hot encoded."
   ]
  },
  {
   "cell_type": "code",
   "execution_count": 16,
   "metadata": {},
   "outputs": [],
   "source": [
    "for feature, prefix in zip(features_to_one_hot, list_prefix):\n",
    "    if feature in selected_features_set:\n",
    "        data = convert_feature_to_one_hot(data, feature, prefix)"
   ]
  },
  {
   "attachments": {},
   "cell_type": "markdown",
   "metadata": {},
   "source": [
    "Feature names with one hot encoding"
   ]
  },
  {
   "cell_type": "code",
   "execution_count": 17,
   "metadata": {},
   "outputs": [],
   "source": [
    "feature_names_ohe = list(data)"
   ]
  },
  {
   "cell_type": "markdown",
   "metadata": {},
   "source": [
    "Extract the team names"
   ]
  },
  {
   "cell_type": "markdown",
   "metadata": {},
   "source": []
  },
  {
   "cell_type": "code",
   "execution_count": 18,
   "metadata": {},
   "outputs": [],
   "source": [
    "ohe_stroke_team_features = [col for col in feature_names_ohe if col.startswith('team')]"
   ]
  },
  {
   "cell_type": "code",
   "execution_count": 19,
   "metadata": {},
   "outputs": [],
   "source": [
    "# replace the column name \"stroke_team\" with the ohe column names\n",
    "selected_features_mrs.remove(\"stroke_team\")\n",
    "selected_features_mrs = selected_features_mrs + ohe_stroke_team_features\n",
    "\n",
    "# replace the column name \"stroke_team\" with the ohe column names\n",
    "selected_features_treatment.remove(\"stroke_team\")\n",
    "selected_features_treatment = selected_features_treatment + ohe_stroke_team_features"
   ]
  },
  {
   "cell_type": "markdown",
   "metadata": {},
   "source": [
    "# Discharge disability multiclass model"
   ]
  },
  {
   "cell_type": "code",
   "execution_count": 20,
   "metadata": {},
   "outputs": [],
   "source": [
    "data_mrs = data[selected_features_mrs]"
   ]
  },
  {
   "cell_type": "code",
   "execution_count": 21,
   "metadata": {},
   "outputs": [],
   "source": [
    "feature_names_ohe = list(data_mrs)\n",
    "feature_names_ohe.remove(\"discharge_disability\")\n",
    "n_features_ohe = len(feature_names_ohe)"
   ]
  },
  {
   "cell_type": "markdown",
   "metadata": {},
   "source": [
    "## Edit data\n",
    "### Divide into X (features) and y (labels)\n",
    "We will separate out our features (the data we use to make a prediction) from our label (what we are trying to predict).\n",
    "By convention our features are called `X` (usually upper case to denote multiple features), and the label (disability discharge) `y`."
   ]
  },
  {
   "cell_type": "code",
   "execution_count": 22,
   "metadata": {},
   "outputs": [],
   "source": [
    "X = data_mrs.drop('discharge_disability', axis=1)\n",
    "y = data_mrs['discharge_disability']"
   ]
  },
  {
   "attachments": {},
   "cell_type": "markdown",
   "metadata": {},
   "source": [
    "## Fit XGBoost model multiclass classification model for discharge disability\n",
    "\n",
    "Train model"
   ]
  },
  {
   "cell_type": "code",
   "execution_count": 23,
   "metadata": {},
   "outputs": [],
   "source": [
    "# Model filename\n",
    "filename = os.path.join(paths.model_save_path, \n",
    "                (paths.notebook + paths.model_text + '.p'))\n",
    "\n",
    "# Check if exists\n",
    "file_exists = exists(filename)\n",
    "\n",
    "if file_exists:\n",
    "# Load models\n",
    "    with open(filename, 'rb') as filehandler:\n",
    "        model_outcome = pickle.load(filehandler)\n",
    "else:\n",
    "    # Define and Fit model\n",
    "    model_outcome = XGBClassifier(verbosity=0, seed=42, learning_rate=0.5,\n",
    "                            tree_method='gpu_hist')\n",
    "    model_outcome.fit(X, y)\n",
    "\n",
    "    # Save using pickle\n",
    "    with open(filename, 'wb') as filehandler:\n",
    "        pickle.dump(model_outcome, filehandler)"
   ]
  },
  {
   "cell_type": "markdown",
   "metadata": {},
   "source": [
    "Setup the different X data for the scenarios\n"
   ]
  },
  {
   "cell_type": "code",
   "execution_count": 24,
   "metadata": {},
   "outputs": [],
   "source": [
    "def calculate_population_outcome(y_probs, mrs_classes):\n",
    "    weighted_mrs = (y_probs * mrs_classes).sum(axis=1)\n",
    "    return(np.average(weighted_mrs),weighted_mrs)"
   ]
  },
  {
   "cell_type": "code",
   "execution_count": 25,
   "metadata": {},
   "outputs": [],
   "source": [
    "mrs_classes = np.arange(7)"
   ]
  },
  {
   "cell_type": "markdown",
   "metadata": {},
   "source": [
    "### Average population disability discharge (patient weighted outcome)\n",
    "#### Scenario: Actual decision\n",
    "Number treated"
   ]
  },
  {
   "cell_type": "code",
   "execution_count": 26,
   "metadata": {},
   "outputs": [
    {
     "data": {
      "text/plain": [
       "34831"
      ]
     },
     "execution_count": 26,
     "metadata": {},
     "output_type": "execute_result"
    }
   ],
   "source": [
    "mask = X[\"onset_to_thrombolysis_time\"]>-100\n",
    "number_treated_actual = mask.sum()\n",
    "number_treated_actual"
   ]
  },
  {
   "cell_type": "markdown",
   "metadata": {},
   "source": [
    "Patent weighted outcome (disability at discharge)"
   ]
  },
  {
   "cell_type": "code",
   "execution_count": 27,
   "metadata": {},
   "outputs": [
    {
     "data": {
      "text/plain": [
       "2.6236414628157236"
      ]
     },
     "execution_count": 27,
     "metadata": {},
     "output_type": "execute_result"
    }
   ],
   "source": [
    "# Scenario actual decision\n",
    "\n",
    "# Get and store predicted probabilities\n",
    "y_probs = model_outcome.predict_proba(X)\n",
    "(ave_weighted_mrs_actual, weighted_mrs_actual) = calculate_population_outcome(y_probs, mrs_classes)\n",
    "ave_weighted_mrs_actual"
   ]
  },
  {
   "cell_type": "markdown",
   "metadata": {},
   "source": [
    "#### Scenario: Benchmark decision"
   ]
  },
  {
   "cell_type": "markdown",
   "metadata": {},
   "source": [
    "Read in tthe 25 benchmark hospitals (identified in notebook 200)"
   ]
  },
  {
   "cell_type": "code",
   "execution_count": 28,
   "metadata": {},
   "outputs": [],
   "source": [
    "filename = os.path.join(paths.data_save_path, \n",
    "    ('200_xgb_10_features_all_data_thrombolysis_decision_highest_25_benchmark_hospitals_median_shap.csv'))\n",
    "\n",
    "benchmark_hospitals = pd.read_csv(filename)\n",
    "benchmark_hospitals = list(benchmark_hospitals['hospital'])"
   ]
  },
  {
   "cell_type": "code",
   "execution_count": 29,
   "metadata": {},
   "outputs": [],
   "source": [
    "# Open model to get thrombolysis treatment based on benchmark\n",
    "# Model filename\n",
    "filename_treatment_model = os.path.join(paths.model_save_path, \n",
    "                '200_xgb_10_features_all_data_thrombolysis_decision.p')\n",
    "\n",
    "# Check if exists\n",
    "file_exists = exists(filename_treatment_model)\n",
    "\n",
    "if file_exists:\n",
    "# Load models\n",
    "    with open(filename_treatment_model, 'rb') as filehandler:\n",
    "        model_treatment_decision = pickle.load(filehandler)\n",
    "else:\n",
    "    # give warning message\n",
    "    print(\"Run notebook 200 to fit the treatment decision model\")"
   ]
  },
  {
   "cell_type": "code",
   "execution_count": 30,
   "metadata": {},
   "outputs": [],
   "source": [
    "# Get dataset for the treatment decision model\n",
    "data_treatment_decision = data[selected_features_treatment]\n",
    "X_treatment_decision = data_treatment_decision.drop('S2Thrombolysis', axis=1)\n",
    "\n",
    "# For each benchmark hosptial, set all the patients as going there and get verdict\n",
    "df_benchmark_decisions = pd.DataFrame()\n",
    "for h in benchmark_hospitals:\n",
    "    X_treatment_decision[ohe_stroke_team_features] = 0\n",
    "    X_treatment_decision[f\"team_{h}\"] = 1\n",
    "    df_benchmark_decisions[f\"{h}\"] = model_treatment_decision.predict(X_treatment_decision)\n",
    "\n",
    "# Calculate the majority vote from the 25 benchmark hosptials\n",
    "decision = df_benchmark_decisions.sum(axis=1)\n",
    "decision = decision > (25/2)"
   ]
  },
  {
   "cell_type": "code",
   "execution_count": 31,
   "metadata": {},
   "outputs": [
    {
     "data": {
      "text/plain": [
       "46486"
      ]
     },
     "execution_count": 31,
     "metadata": {},
     "output_type": "execute_result"
    }
   ],
   "source": [
    "X = data_mrs.drop('discharge_disability', axis=1)\n",
    "\n",
    "mask = decision == 0\n",
    "X[\"onset_to_thrombolysis_time\"][mask] = -100\n",
    "\n",
    "mask = decision == 1\n",
    "X[\"onset_to_thrombolysis_time\"][mask] = ott_default\n",
    "number_treated_benchmark = mask.sum()\n",
    "number_treated_benchmark"
   ]
  },
  {
   "cell_type": "code",
   "execution_count": 32,
   "metadata": {},
   "outputs": [
    {
     "data": {
      "text/plain": [
       "2.5740707613794047"
      ]
     },
     "execution_count": 32,
     "metadata": {},
     "output_type": "execute_result"
    }
   ],
   "source": [
    "# Get and store predicted probabilities\n",
    "y_probs_benchmark = model_outcome.predict_proba(X)\n",
    "(ave_weighted_mrs_benchmark, weighted_mrs_benchmark) = calculate_population_outcome(y_probs_benchmark, mrs_classes)\n",
    "ave_weighted_mrs_benchmark"
   ]
  },
  {
   "cell_type": "code",
   "execution_count": 33,
   "metadata": {},
   "outputs": [
    {
     "data": {
      "text/plain": [
       "148369"
      ]
     },
     "execution_count": 33,
     "metadata": {},
     "output_type": "execute_result"
    }
   ],
   "source": [
    "# Scenario best decision\n",
    "\n",
    "# Create X data for all treated\n",
    "X_all_treated = data_mrs.drop('discharge_disability', axis=1)\n",
    "mask = X_all_treated[\"onset_to_thrombolysis_time\"] == -100\n",
    "X_all_treated[\"onset_to_thrombolysis_time\"][mask] = ott_default\n",
    "\n",
    "# Get and store predicted probabilities\n",
    "y_probs_treated = model_outcome.predict_proba(X_all_treated)\n",
    "(ave_weighted_mrs_all_treated, weighted_mrs_all_treated) = calculate_population_outcome(y_probs_treated, mrs_classes)\n",
    "\n",
    "# Create X data for none treated\n",
    "X_none_treated = data_mrs.drop('discharge_disability', axis=1)\n",
    "X_none_treated[\"onset_to_thrombolysis_time\"] = -100\n",
    "\n",
    "# Get and store predicted probabilities\n",
    "y_probs_none_treated = model_outcome.predict_proba(X_none_treated)\n",
    "(ave_weighted_mrs_none_treated, weighted_mrs_none_treated) = calculate_population_outcome(y_probs_none_treated, mrs_classes)\n",
    "\n",
    "weighted_mrs_best = np.minimum(weighted_mrs_all_treated, weighted_mrs_none_treated)\n",
    "mask = weighted_mrs_all_treated < weighted_mrs_none_treated\n",
    "number_treated_best_treatment = mask.sum()\n",
    "number_treated_best_treatment"
   ]
  },
  {
   "cell_type": "code",
   "execution_count": 34,
   "metadata": {},
   "outputs": [
    {
     "data": {
      "text/plain": [
       "2.424771524068329"
      ]
     },
     "execution_count": 34,
     "metadata": {},
     "output_type": "execute_result"
    }
   ],
   "source": [
    "ave_weighted_mrs_best_treatment = np.average(weighted_mrs_best)\n",
    "ave_weighted_mrs_best_treatment"
   ]
  },
  {
   "cell_type": "markdown",
   "metadata": {},
   "source": [
    "Scenario all treated"
   ]
  },
  {
   "cell_type": "code",
   "execution_count": 35,
   "metadata": {},
   "outputs": [
    {
     "data": {
      "text/plain": [
       "168347"
      ]
     },
     "execution_count": 35,
     "metadata": {},
     "output_type": "execute_result"
    }
   ],
   "source": [
    "mask = X_all_treated[\"onset_to_thrombolysis_time\"] > -100\n",
    "number_treated_all_treated = mask.sum()\n",
    "number_treated_all_treated"
   ]
  },
  {
   "cell_type": "code",
   "execution_count": 36,
   "metadata": {},
   "outputs": [
    {
     "data": {
      "text/plain": [
       "2.442576630646814"
      ]
     },
     "execution_count": 36,
     "metadata": {},
     "output_type": "execute_result"
    }
   ],
   "source": [
    "ave_weighted_mrs_all_treated"
   ]
  },
  {
   "cell_type": "markdown",
   "metadata": {},
   "source": [
    "Scenario none treated"
   ]
  },
  {
   "cell_type": "code",
   "execution_count": 37,
   "metadata": {},
   "outputs": [
    {
     "data": {
      "text/plain": [
       "0"
      ]
     },
     "execution_count": 37,
     "metadata": {},
     "output_type": "execute_result"
    }
   ],
   "source": [
    "mask = X_none_treated[\"onset_to_thrombolysis_time\"] > -100\n",
    "number_treated_none_treated = mask.sum()\n",
    "number_treated_none_treated"
   ]
  },
  {
   "cell_type": "code",
   "execution_count": 38,
   "metadata": {},
   "outputs": [
    {
     "data": {
      "text/plain": [
       "2.7038802875195196"
      ]
     },
     "execution_count": 38,
     "metadata": {},
     "output_type": "execute_result"
    }
   ],
   "source": [
    "ave_weighted_mrs_none_treated"
   ]
  },
  {
   "cell_type": "markdown",
   "metadata": {},
   "source": [
    "Scenario worst decision"
   ]
  },
  {
   "cell_type": "code",
   "execution_count": 39,
   "metadata": {},
   "outputs": [
    {
     "data": {
      "text/plain": [
       "19852"
      ]
     },
     "execution_count": 39,
     "metadata": {},
     "output_type": "execute_result"
    }
   ],
   "source": [
    "# Scenario worse decision\n",
    "\n",
    "weighted_mrs_worst = np.maximum(weighted_mrs_all_treated, weighted_mrs_none_treated)\n",
    "mask = weighted_mrs_all_treated > weighted_mrs_none_treated\n",
    "number_treated_worst_treatment = mask.sum()\n",
    "number_treated_worst_treatment"
   ]
  },
  {
   "cell_type": "code",
   "execution_count": 40,
   "metadata": {},
   "outputs": [
    {
     "data": {
      "text/plain": [
       "2.7216853940980053"
      ]
     },
     "execution_count": 40,
     "metadata": {},
     "output_type": "execute_result"
    }
   ],
   "source": [
    "ave_weighted_mrs_worst_treatment = np.average(weighted_mrs_worst)\n",
    "ave_weighted_mrs_worst_treatment"
   ]
  },
  {
   "cell_type": "markdown",
   "metadata": {},
   "source": [
    "Collate results"
   ]
  },
  {
   "cell_type": "code",
   "execution_count": 41,
   "metadata": {},
   "outputs": [],
   "source": [
    "mask = weighted_mrs_all_treated == weighted_mrs_none_treated\n",
    "number_indifferent_outcome = mask.sum()"
   ]
  },
  {
   "cell_type": "code",
   "execution_count": 42,
   "metadata": {},
   "outputs": [
    {
     "name": "stdout",
     "output_type": "stream",
     "text": [
      "Scenario ACTUAL TREATMENT.\n",
      "Number treated: 34831. Population outcome, mRS: 2.624\n",
      "\n",
      "Scenario BENCHMARK DECISION.\n",
      "Number treated: 46486. Population outcome, mRS: 2.574\n",
      "\n",
      "Scenario BEST TREATMENT.\n",
      "Number treated: 148369. Population outcome, mRS: 2.425\n",
      "\n",
      "Scenario WORST TREATMENT.\n",
      "Number treated: 19852. Population outcome, mRS: 2.722\n",
      "\n",
      "(Number of patients where treatment was indifferent for the outcome 126)\n",
      "\n",
      "Scenario ALL TREATED.\n",
      "Number treated: 168347. Population outcome, mRS: 2.443\n",
      "\n",
      "Scenario NONE TREATED.\n",
      "Number treated: 0. Population outcome, mRS: 2.704\n"
     ]
    }
   ],
   "source": [
    "print(f\"Scenario ACTUAL TREATMENT.\\nNumber treated: {number_treated_actual}. Population outcome, mRS: {round(ave_weighted_mrs_actual,3)}\")\n",
    "print(f\"\\nScenario BENCHMARK DECISION.\\nNumber treated: {number_treated_benchmark}. Population outcome, mRS: {round(ave_weighted_mrs_benchmark,3)}\")\n",
    "print(f\"\\nScenario BEST TREATMENT.\\nNumber treated: {number_treated_best_treatment}. Population outcome, mRS: {round(ave_weighted_mrs_best_treatment,3)}\")\n",
    "print(f\"\\nScenario WORST TREATMENT.\\nNumber treated: {number_treated_worst_treatment}. Population outcome, mRS: {round(ave_weighted_mrs_worst_treatment,3)}\")\n",
    "print(f\"\\n(Number of patients where treatment was indifferent for the outcome {number_indifferent_outcome})\")\n",
    "print(f\"\\nScenario ALL TREATED.\\nNumber treated: {number_treated_all_treated}. Population outcome, mRS: {round(ave_weighted_mrs_all_treated,3)}\")\n",
    "print(f\"\\nScenario NONE TREATED.\\nNumber treated: {number_treated_none_treated}. Population outcome, mRS: {round(ave_weighted_mrs_none_treated,3)}\")"
   ]
  },
  {
   "cell_type": "markdown",
   "metadata": {},
   "source": [
    "# KP YOU ARE HERE"
   ]
  },
  {
   "cell_type": "markdown",
   "metadata": {},
   "source": [
    "Plot (want to create a subplot per patient, with the two mRS probability distributions on the same plot)"
   ]
  },
  {
   "cell_type": "code",
   "execution_count": 43,
   "metadata": {},
   "outputs": [],
   "source": [
    "def create_df_for_bar_plot(df):\n",
    "    df_bar  = pd.DataFrame()\n",
    "    df_bar[\"Treatment\"] = ([\"Treatment\"] * 7) + ([\"No treatment\"] * 7)\n",
    "    df_bar[\"Discharge disability\"] = np.append(df.index.values, df.index.values)\n",
    "    df_bar[\"Probability\"] = np.append(df[\"with\"], df[\"without\"])\n",
    "    return(df_bar)"
   ]
  },
  {
   "cell_type": "markdown",
   "metadata": {},
   "source": [
    "Get predictions for these patients, and store (\\ dataframe for getting IVT, and a dataframe for not)"
   ]
  },
  {
   "cell_type": "code",
   "execution_count": 44,
   "metadata": {},
   "outputs": [
    {
     "ename": "NameError",
     "evalue": "name 'n_patients' is not defined",
     "output_type": "error",
     "traceback": [
      "\u001b[0;31m---------------------------------------------------------------------------\u001b[0m",
      "\u001b[0;31mNameError\u001b[0m                                 Traceback (most recent call last)",
      "\u001b[1;32m/home/kerry/Documents/GitHub/stroke_outcome_ml/xgb_7_features/210_xgb_all_data_7_features_multiclass_outcome.ipynb Cell 77\u001b[0m line \u001b[0;36m6\n\u001b[1;32m      <a href='vscode-notebook-cell:/home/kerry/Documents/GitHub/stroke_outcome_ml/xgb_7_features/210_xgb_all_data_7_features_multiclass_outcome.ipynb#X51sZmlsZQ%3D%3D?line=1'>2</a>\u001b[0m list_onset_to_thrombolysis_time \u001b[39m=\u001b[39m [ott_default, \u001b[39m-\u001b[39m\u001b[39m100\u001b[39m]\n\u001b[1;32m      <a href='vscode-notebook-cell:/home/kerry/Documents/GitHub/stroke_outcome_ml/xgb_7_features/210_xgb_all_data_7_features_multiclass_outcome.ipynb#X51sZmlsZQ%3D%3D?line=3'>4</a>\u001b[0m list_figures \u001b[39m=\u001b[39m []\n\u001b[0;32m----> <a href='vscode-notebook-cell:/home/kerry/Documents/GitHub/stroke_outcome_ml/xgb_7_features/210_xgb_all_data_7_features_multiclass_outcome.ipynb#X51sZmlsZQ%3D%3D?line=5'>6</a>\u001b[0m \u001b[39mfor\u001b[39;00m patient_loc \u001b[39min\u001b[39;00m \u001b[39mrange\u001b[39m(n_patients):\n\u001b[1;32m      <a href='vscode-notebook-cell:/home/kerry/Documents/GitHub/stroke_outcome_ml/xgb_7_features/210_xgb_all_data_7_features_multiclass_outcome.ipynb#X51sZmlsZQ%3D%3D?line=6'>7</a>\u001b[0m \n\u001b[1;32m      <a href='vscode-notebook-cell:/home/kerry/Documents/GitHub/stroke_outcome_ml/xgb_7_features/210_xgb_all_data_7_features_multiclass_outcome.ipynb#X51sZmlsZQ%3D%3D?line=7'>8</a>\u001b[0m     \u001b[39m# take details of this patient\u001b[39;00m\n\u001b[1;32m      <a href='vscode-notebook-cell:/home/kerry/Documents/GitHub/stroke_outcome_ml/xgb_7_features/210_xgb_all_data_7_features_multiclass_outcome.ipynb#X51sZmlsZQ%3D%3D?line=8'>9</a>\u001b[0m     df_patient_details \u001b[39m=\u001b[39m pd\u001b[39m.\u001b[39mDataFrame(columns\u001b[39m=\u001b[39m\u001b[39mlist\u001b[39m(df_patient_prototypes), index\u001b[39m=\u001b[39m\u001b[39mrange\u001b[39m(\u001b[39mlen\u001b[39m(list_get_treatment)))\n\u001b[1;32m     <a href='vscode-notebook-cell:/home/kerry/Documents/GitHub/stroke_outcome_ml/xgb_7_features/210_xgb_all_data_7_features_multiclass_outcome.ipynb#X51sZmlsZQ%3D%3D?line=10'>11</a>\u001b[0m     \u001b[39m# take exact copy of row\u001b[39;00m\n",
      "\u001b[0;31mNameError\u001b[0m: name 'n_patients' is not defined"
     ]
    }
   ],
   "source": [
    "list_get_treatment = [\"Treatment\",\"No treatment\"]\n",
    "list_onset_to_thrombolysis_time = [ott_default, -100]\n",
    "\n",
    "list_figures = []\n",
    "\n",
    "for patient_loc in range(n_patients):\n",
    "\n",
    "    # take details of this patient\n",
    "    df_patient_details = pd.DataFrame(columns=list(df_patient_prototypes), index=range(len(list_get_treatment)))\n",
    "\n",
    "    # take exact copy of row\n",
    "    df_patient_details.iloc[0] = df_patient_prototypes.iloc[0,:]\n",
    "    df_patient_details.iloc[1] = df_patient_prototypes.iloc[0,:]\n",
    "\n",
    "    # make first copy have, and the second copy not have thrombolysis treatment (either not get, or get at 2 hours)\n",
    "    df_patient_details[\"onset_to_thrombolysis_time\"] = list_onset_to_thrombolysis_time\n",
    "\n",
    "    df_patient_details = df_patient_details.astype('float')\n",
    "\n",
    "    y_probs = model.predict_proba(df_patient_details)\n",
    "    y_pred = model.predict(df_patient_details)\n",
    "\n",
    "    df_patient_mrs_results = pd.DataFrame(\n",
    "            data=y_probs, \n",
    "            columns=[\"mRS0\",\"mRS1\",\"mRS2\",\"mRS3\",\"mRS4\",\"mRS5\",\"mRS6\"], \n",
    "            index=[\"with\",\"without\"])\n",
    "\n",
    "    df_patient_mrs_results = df_patient_mrs_results.T\n",
    "\n",
    "    df_bar = create_df_for_bar_plot(df_patient_mrs_results)\n",
    "\n",
    "#    ax = fig.add_subplot(n_patients, 1, patient_loc + 1)\n",
    "    plotly_express_figure = px.bar(df_bar, x=\"Discharge disability\", y=\"Probability\", \n",
    "                color=\"Treatment\", barmode=\"group\")\n",
    "    \n",
    "    list_figures.append(plotly_express_figure)\n",
    "\n",
    "\n",
    "fig = make_subplots(rows=len(list_figures), cols=1) \n",
    "\n",
    "for i, figure in enumerate(list_figures):\n",
    "    for trace in range(len(figure[\"data\"])):\n",
    "        \n",
    "        fig.append_trace(figure[\"data\"][trace], row=i+1, col=1)\n",
    "\n",
    "fig.update_layout(\n",
    "    autosize=False,\n",
    "    width=800,\n",
    "    height=1600#,\n",
    "#            title=f\"{df_patient_prototypes.index.values[patient_loc]}\",\n",
    "#            xaxis_title=\"Discharge disability\",\n",
    "#            yaxis_title=\"Probability\",\n",
    "#            legend_title=\"Legend Title\",\n",
    "#            font=dict(\n",
    "#                family=\"Courier New, monospace\",\n",
    "#                size=18,\n",
    "#                color=\"RebeccaPurple\"\n",
    "#            )\n",
    ")\n",
    "#names = {'Plot 1':'2016', 'Plot 2':'2017', 'Plot 3':'2018', 'Plot 4':'2019'}\n",
    "\n",
    "#fig.for_each_annotation(lambda a: a.update(text = df_patient_prototypes.index.values[patient_loc]))\n",
    "         \n",
    "fig.show()\n",
    "\n",
    "#plot(fig)"
   ]
  },
  {
   "cell_type": "markdown",
   "metadata": {},
   "source": [
    "##### CELLS BELOW ARE CREATING A SINGLE FIGURE TO EXPERIMENT WITH THE PARAMETERS TO MAKE THE ABOVE SUBPLOT VERSION LOOK HOW WE WANT.\n",
    "\n",
    "TO DO: \n",
    "1. Legend only have 1 entry per colour\n",
    "1. Titles of the patient type for each subplot\n",
    "1. X and Y axis labels"
   ]
  },
  {
   "cell_type": "code",
   "execution_count": null,
   "metadata": {},
   "outputs": [],
   "source": [
    "list_get_treatment = [\"Treatment\",\"No treatment\"]\n",
    "list_onset_to_thrombolysis_time = [ott_default, -100]\n",
    "\n",
    "# take details of this patient\n",
    "df_patient_details = pd.DataFrame(columns=list(df_patient_prototypes), index=range(len(list_get_treatment)))\n",
    "\n",
    "# take exact copy of row\n",
    "df_patient_details.iloc[0] = df_patient_prototypes.iloc[0,:]\n",
    "df_patient_details.iloc[1] = df_patient_prototypes.iloc[0,:]\n",
    "\n",
    "# make first copy have, and the second copy not have thrombolysis treatment (either not get, or get at 2 hours)\n",
    "df_patient_details[\"onset_to_thrombolysis_time\"] = list_onset_to_thrombolysis_time\n",
    "\n",
    "df_patient_details = df_patient_details.astype('float')\n",
    "\n",
    "df_patient_details\n"
   ]
  },
  {
   "cell_type": "code",
   "execution_count": null,
   "metadata": {},
   "outputs": [],
   "source": [
    "y_probs = model.predict_proba(df_patient_details)\n",
    "y_pred = model.predict(df_patient_details)"
   ]
  },
  {
   "cell_type": "code",
   "execution_count": null,
   "metadata": {},
   "outputs": [],
   "source": [
    "df_patient_mrs_results = pd.DataFrame(\n",
    "            data=y_probs, \n",
    "            columns=[\"mRS0\",\"mRS1\",\"mRS2\",\"mRS3\",\"mRS4\",\"mRS5\",\"mRS6\"], \n",
    "            index=[\"with\",\"without\"])"
   ]
  },
  {
   "cell_type": "code",
   "execution_count": null,
   "metadata": {},
   "outputs": [],
   "source": [
    "df_patient_mrs_results = df_patient_mrs_results.T\n",
    "df_patient_mrs_results"
   ]
  },
  {
   "cell_type": "code",
   "execution_count": null,
   "metadata": {},
   "outputs": [],
   "source": [
    "df_bar = create_df_for_bar_plot(df_patient_mrs_results)\n",
    "df_bar"
   ]
  },
  {
   "cell_type": "code",
   "execution_count": null,
   "metadata": {},
   "outputs": [],
   "source": [
    "px.bar(df_bar, x=\"Discharge disability\", y=\"Probability\", \n",
    "                color=\"Treatment\", barmode=\"group\")# title=f\"{df_patient_details.index.value}\")"
   ]
  }
 ],
 "metadata": {
  "kernelspec": {
   "display_name": "Python 3.10.11 ('sam10')",
   "language": "python",
   "name": "python3"
  },
  "language_info": {
   "codemirror_mode": {
    "name": "ipython",
    "version": 3
   },
   "file_extension": ".py",
   "mimetype": "text/x-python",
   "name": "python",
   "nbconvert_exporter": "python",
   "pygments_lexer": "ipython3",
   "version": "3.10.12"
  },
  "orig_nbformat": 4,
  "vscode": {
   "interpreter": {
    "hash": "f85b883bff9a8a9f39576b94acbdf6672b3dc17c35647e7395f81e785740a4b3"
   }
  }
 },
 "nbformat": 4,
 "nbformat_minor": 2
}
